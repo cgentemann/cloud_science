{
 "cells": [
  {
   "cell_type": "code",
   "execution_count": 2,
   "metadata": {},
   "outputs": [
    {
     "data": {
      "text/plain": [
       "<xarray.core.options.set_options at 0x7fd4e88a0cd0>"
      ]
     },
     "execution_count": 2,
     "metadata": {},
     "output_type": "execute_result"
    }
   ],
   "source": [
    "#notebook based on zflemings:https://nbviewer.jupyter.org/github/zflamig/dask-era5/blob/main/notebook/era5_fargate_dask.ipynb\n",
    "import xarray as xr\n",
    "import fsspec\n",
    "import dask\n",
    "import s3fs\n",
    "import numpy as np\n",
    "xr.set_options(display_style=\"html\")  #display dataset nicely \n"
   ]
  },
  {
   "cell_type": "code",
   "execution_count": 3,
   "metadata": {},
   "outputs": [
    {
     "data": {
      "text/plain": [
       "[Delayed('s3open-2636dfd0-e7a4-40ee-a556-a9ba9a168a4b'),\n",
       " Delayed('s3open-504c18b4-1e45-4dc1-aee9-cb4e697fcf82'),\n",
       " Delayed('s3open-343956c3-33bb-42bb-8530-1b74e3fb6128'),\n",
       " Delayed('s3open-ccd87262-9040-4425-abd6-7d4b5df75e0c'),\n",
       " Delayed('s3open-e74c8541-c9a0-4fcf-9e37-6f76b4907276'),\n",
       " Delayed('s3open-6ca1105f-e786-4cdb-b910-d2468a575465'),\n",
       " Delayed('s3open-958d310a-aca1-40d3-93ba-caedf5615a6d'),\n",
       " Delayed('s3open-5ef4f479-2fed-4acd-a147-8a0c708e2d47'),\n",
       " Delayed('s3open-01e7fec6-ed2c-437c-bee8-dee95173fc6d'),\n",
       " Delayed('s3open-3cb6ec14-f143-47dd-a4e4-43658db38eb9'),\n",
       " Delayed('s3open-2a999381-d2dc-423b-8b02-b81306049af5'),\n",
       " Delayed('s3open-9cd38677-d2a7-4467-908f-1b7b57370b7b')]"
      ]
     },
     "execution_count": 3,
     "metadata": {},
     "output_type": "execute_result"
    }
   ],
   "source": [
    "years,months=[],[]\n",
    "[years.append(str(y)) for y in np.arange(1979,2020)]\n",
    "[months.append(str(m).zfill(2)) for m in np.arange(1,13)]\n",
    "#years = [\"2010\", \"2011\", \"2012\", \"2013\", \"2014\", \"2015\", \"2016\", \"2017\", \"2018\", \"2019\"]\n",
    "#months = [\"01\", \"02\", \"03\", \"04\", \"05\", \"06\", \"07\", \"08\", \"09\", \"10\", \"11\", \"12\"]\n",
    "file_pattern = 's3://era5-pds/{year}/{month}/data/precipitation_amount_1hour_Accumulation.nc' #air_temperature_at_2_metres.nc'\n",
    "\n",
    "@dask.delayed\n",
    "def s3open(path):\n",
    "    fs = s3fs.S3FileSystem(anon=True, default_fill_cache=False)\n",
    "    return fs.open(path)\n",
    "\n",
    "files_mapper = [s3open(file_pattern.format(year=year,month=month)) for year in years for month in months]"
   ]
  },
  {
   "cell_type": "code",
   "execution_count": null,
   "metadata": {},
   "outputs": [],
   "source": [
    "# to follow paper, need to resample to 100km\n"
   ]
  }
 ],
 "metadata": {
  "kernelspec": {
   "display_name": "Python 3",
   "language": "python",
   "name": "python3"
  },
  "language_info": {
   "codemirror_mode": {
    "name": "ipython",
    "version": 3
   },
   "file_extension": ".py",
   "mimetype": "text/x-python",
   "name": "python",
   "nbconvert_exporter": "python",
   "pygments_lexer": "ipython3",
   "version": "3.8.6"
  }
 },
 "nbformat": 4,
 "nbformat_minor": 4
}
