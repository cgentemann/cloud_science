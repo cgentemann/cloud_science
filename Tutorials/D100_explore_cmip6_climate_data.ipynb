{
 "cells": [
  {
   "cell_type": "markdown",
   "id": "crucial-mistake",
   "metadata": {},
   "source": [
    "## Basic idea: evidence for climate change illustrated from one dataset, analyzed/visualized with xarray. \n",
    "Learning objectives:\n",
    "- Introduce them to basic physical mechanisms of climate change and the evidence we see in the data.\n",
    "- Show the power of the stack they know about for thinking about climate change, and grow their knowledge about that stack.\n",
    "- Expose students to data represented with structures other than tabular dataframes. Learn a little about xarray for querying/analysis.\n",
    "- Discuss data with spatial and/or temporal structure.\n",
    "- Illustrate the relationship between models grounded in physics and the kinds of data we have access to from simulations, field sensors and remote sensing.\n"
   ]
  },
  {
   "cell_type": "code",
   "execution_count": null,
   "id": "ongoing-pharmacy",
   "metadata": {},
   "outputs": [],
   "source": []
  }
 ],
 "metadata": {
  "kernelspec": {
   "display_name": "Python 3",
   "language": "python",
   "name": "python3"
  },
  "language_info": {
   "codemirror_mode": {
    "name": "ipython",
    "version": 3
   },
   "file_extension": ".py",
   "mimetype": "text/x-python",
   "name": "python",
   "nbconvert_exporter": "python",
   "pygments_lexer": "ipython3",
   "version": "3.8.6"
  }
 },
 "nbformat": 4,
 "nbformat_minor": 5
}
