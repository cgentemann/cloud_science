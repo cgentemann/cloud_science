{
 "cells": [
  {
   "cell_type": "markdown",
   "id": "51e2e93b-8bdf-426b-87b9-1408ed73d25a",
   "metadata": {},
   "source": [
    "# Access NASA Earthdata\n",
    "- pre-10/2021 and post-10/2021"
   ]
  },
  {
   "cell_type": "markdown",
   "id": "4369842b-68b6-462c-8ad2-007b92c0c7b5",
   "metadata": {},
   "source": [
    "# New version \n",
    "- in a cell run `pip install earthdata` and then restart your kernel.\n"
   ]
  },
  {
   "cell_type": "code",
   "execution_count": null,
   "id": "f2093f4f-6484-4227-930c-f62e471b020e",
   "metadata": {},
   "outputs": [],
   "source": [
    "from earthdata import Auth #, DataColletions, DataGranules, Accessor\n",
    "auth = Auth().login()"
   ]
  },
  {
   "cell_type": "markdown",
   "id": "b5018958-7ce3-4c81-846c-6204c4625c68",
   "metadata": {},
   "source": [
    "# Old version\n",
    "To run this code:\n",
    "- you need to set up your `.netrc` file in your home directory with your earthdata login info\n"
   ]
  },
  {
   "cell_type": "code",
   "execution_count": null,
   "id": "84f8664a-9c59-47c5-934a-5b6d9dd78573",
   "metadata": {},
   "outputs": [],
   "source": [
    "import s3fs\n",
    "import requests\n",
    "from urllib import request\n",
    "from http.cookiejar import CookieJar\n",
    "import netrc\n",
    "\n",
    "#########Setting up earthdata login credentials \n",
    "# this code is from https://github.com/podaac/tutorials/blob/master/notebooks/cloudwebinar/cloud_direct_access_s3.py\n",
    "def setup_earthdata_login_auth(endpoint):\n",
    "    \"\"\"\n",
    "    Set up the request library so that it authenticates against the given Earthdata Login\n",
    "    endpoint and is able to track cookies between requests.  This looks in the .netrc file \n",
    "    first and if no credentials are found, it prompts for them.\n",
    "    Valid endpoints:\n",
    "        urs.earthdata.nasa.gov - Earthdata Login production\n",
    "    \"\"\"\n",
    "    try:\n",
    "        username, _, password = netrc.netrc().authenticators(endpoint)\n",
    "    except (FileNotFoundError, TypeError):\n",
    "        # FileNotFound = There's no .netrc file\n",
    "        # TypeError = The endpoint isn't in the netrc file, causing the above to try unpacking None\n",
    "        print(\"There's no .netrc file or the The endpoint isn't in the netrc file\")\n",
    "\n",
    "    manager = request.HTTPPasswordMgrWithDefaultRealm()\n",
    "    manager.add_password(None, endpoint, username, password)\n",
    "    auth = request.HTTPBasicAuthHandler(manager)\n",
    "\n",
    "    jar = CookieJar()\n",
    "    processor = request.HTTPCookieProcessor(jar)\n",
    "    opener = request.build_opener(auth, processor)\n",
    "    request.install_opener(opener)\n",
    "\n",
    "###############################################################################\n",
    "edl=\"urs.earthdata.nasa.gov\"\n",
    "setup_earthdata_login_auth(edl)\n"
   ]
  },
  {
   "cell_type": "code",
   "execution_count": null,
   "id": "219bfef5-656b-4650-8c4b-dfaf5b98a0ed",
   "metadata": {},
   "outputs": [],
   "source": []
  },
  {
   "cell_type": "code",
   "execution_count": null,
   "id": "7e6975de-8ceb-4e96-8c0c-bf519885318f",
   "metadata": {},
   "outputs": [],
   "source": []
  }
 ],
 "metadata": {
  "kernelspec": {
   "display_name": "Python [conda env:pangeo]",
   "language": "python",
   "name": "conda-env-pangeo-py"
  },
  "language_info": {
   "codemirror_mode": {
    "name": "ipython",
    "version": 3
   },
   "file_extension": ".py",
   "mimetype": "text/x-python",
   "name": "python",
   "nbconvert_exporter": "python",
   "pygments_lexer": "ipython3",
   "version": "3.9.7"
  }
 },
 "nbformat": 4,
 "nbformat_minor": 5
}
