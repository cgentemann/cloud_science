{
 "cells": [
  {
   "cell_type": "code",
   "execution_count": null,
   "metadata": {},
   "outputs": [],
   "source": [
    "# filter some warning messages\n",
    "import warnings \n",
    "warnings.filterwarnings(\"ignore\") \n",
    "\n",
    "#libraries\n",
    "import datetime as dt\n",
    "import xarray as xr\n",
    "import fsspec\n",
    "import s3fs\n",
    "from matplotlib import pyplot as plt\n",
    "import numpy as np\n",
    "import pandas as pd\n",
    "# make datasets display nicely\n",
    "xr.set_options(display_style=\"html\")  \n",
    "\n",
    "#magic fncts #put static images of your plot embedded in the notebook\n",
    "%matplotlib inline  \n",
    "plt.rcParams['figure.figsize'] = 12, 6\n",
    "%config InlineBackend.figure_format = 'retina' "
   ]
  },
  {
   "cell_type": "code",
   "execution_count": null,
   "metadata": {},
   "outputs": [],
   "source": [
    "\n",
    "import xarray as xr\n",
    "import fsspec\n",
    "ikey = fsspec.get_mapper('s3://noaa-oisstv02r1/', anon=False)\n",
    "#adir = 'F:/data/sat_data/sst/noaa_oisst/www.ncei.noaa.gov/data/sea-surface-temperature-optimum-interpolation/v2.1/access/'\n",
    "#dir_pattern_zarr = adir + 'avhrr_zarr2/'\n",
    "#ikey = dir_pattern_zarr\n",
    "ds_sst = xr.open_zarr(ikey,consolidated=True)\n",
    "ds_sst"
   ]
  },
  {
   "cell_type": "code",
   "execution_count": null,
   "metadata": {},
   "outputs": [],
   "source": [
    "ds_sst.sst[0,:,:].sel(lat=slice(30,50),lon=slice(230,240)).plot()"
   ]
  },
  {
   "cell_type": "code",
   "execution_count": null,
   "metadata": {},
   "outputs": [],
   "source": []
  },
  {
   "cell_type": "code",
   "execution_count": null,
   "metadata": {},
   "outputs": [],
   "source": [
    "#https://gist.github.com/luke-gregor/4bb5c483b2d111e52413b260311fbe43\n",
    "def dataset_encoding(xds):\n",
    "    cols = ['source', 'original_shape', 'dtype', 'zlib', 'complevel', 'chunksizes']\n",
    "    info = pd.DataFrame(columns=cols, index=xds.data_vars)\n",
    "    for row in info.index:\n",
    "        var_encoding = xds[row].encoding\n",
    "        for col in info.keys():\n",
    "            info.ix[row, col] = var_encoding.pop(col, '')\n",
    "    \n",
    "    return info\n",
    "\n",
    "\n",
    "def xarray_trend(xarr):    \n",
    "    from scipy import stats\n",
    "    import numpy as np\n",
    "    # getting shapes\n",
    "    \n",
    "    m = np.prod(xarr.shape[1:]).squeeze()\n",
    "    n = xarr.shape[0]\n",
    "    \n",
    "    # creating x and y variables for linear regression\n",
    "    x = xarr.time.to_pandas().index.to_julian_date().values[:, None]\n",
    "    y = xarr.to_masked_array().reshape(n, -1)\n",
    "    \n",
    "    # ############################ #\n",
    "    # LINEAR REGRESSION DONE BELOW #\n",
    "    xm = x.mean(0)  # mean\n",
    "    ym = y.mean(0)  # mean\n",
    "    ya = y - ym  # anomaly\n",
    "    xa = x - xm  # anomaly\n",
    "    \n",
    "    # variance and covariances\n",
    "    xss = (xa ** 2).sum(0) / (n - 1)  # variance of x (with df as n-1)\n",
    "    yss = (ya ** 2).sum(0) / (n - 1)  # variance of y (with df as n-1)\n",
    "    xys = (xa * ya).sum(0) / (n - 1)  # covariance (with df as n-1)\n",
    "    # slope and intercept\n",
    "    slope = xys / xss\n",
    "    intercept = ym - (slope * xm)\n",
    "    # statistics about fit\n",
    "    df = n - 2\n",
    "    r = xys / (xss * yss)**0.5\n",
    "    t = r * (df / ((1 - r) * (1 + r)))**0.5\n",
    "    p = stats.distributions.t.sf(abs(t), df)\n",
    "    \n",
    "    # misclaneous additional functions\n",
    "    # yhat = dot(x, slope[None]) + intercept\n",
    "    # sse = ((yhat - y)**2).sum(0) / (n - 2)  # n-2 is df\n",
    "    # se = ((1 - r**2) * yss / xss / df)**0.5\n",
    "    \n",
    "    # preparing outputs\n",
    "    out = xarr[:2].mean('time')\n",
    "    # first create variable for slope and adjust meta\n",
    "    xarr_slope = out.copy()\n",
    "    xarr_slope.name += '_slope'\n",
    "    xarr_slope.attrs['units'] = 'units / day'\n",
    "    xarr_slope.values = slope.reshape(xarr.shape[1:])\n",
    "    # do the same for the p value\n",
    "    xarr_p = out.copy()\n",
    "    xarr_p.name += '_Pvalue'\n",
    "    xarr_p.attrs['info'] = \"If p < 0.05 then the results from 'slope' are significant.\"\n",
    "    xarr_p.values = p.reshape(xarr.shape[1:])\n",
    "    # join these variables\n",
    "    xarr_out = xarr_slope.to_dataset(name='slope')\n",
    "    xarr_out['pval'] = xarr_p\n",
    "\n",
    "    return xarr_out"
   ]
  },
  {
   "cell_type": "code",
   "execution_count": null,
   "metadata": {},
   "outputs": [],
   "source": [
    "sst_slope2=[]\n",
    "for inc in range(0,35):\n",
    "    mlon=inc*10\n",
    "    mlon2 = (inc+1)*10-1\n",
    "    subset = ds_sst.sst.sel(lon=slice(mlon,mlon2))\n",
    "    sst_slope = xarray_trend(subset)\n",
    "    sst_slope2.append(sst_slope)"
   ]
  },
  {
   "cell_type": "code",
   "execution_count": null,
   "metadata": {},
   "outputs": [],
   "source": [
    "(sst_slope.slope*365).plot()"
   ]
  },
  {
   "cell_type": "code",
   "execution_count": null,
   "metadata": {},
   "outputs": [],
   "source": [
    "ds = xr.concat(sst_slope2, dim='lon')\n",
    "ds"
   ]
  },
  {
   "cell_type": "code",
   "execution_count": null,
   "metadata": {},
   "outputs": [],
   "source": [
    "ds.to_netcdf('slp_oisst.nc')"
   ]
  },
  {
   "cell_type": "code",
   "execution_count": null,
   "metadata": {},
   "outputs": [],
   "source": []
  }
 ],
 "metadata": {
  "kernelspec": {
   "display_name": "Python 3",
   "language": "python",
   "name": "python3"
  },
  "language_info": {
   "codemirror_mode": {
    "name": "ipython",
    "version": 3
   },
   "file_extension": ".py",
   "mimetype": "text/x-python",
   "name": "python",
   "nbconvert_exporter": "python",
   "pygments_lexer": "ipython3",
   "version": "3.8.6"
  }
 },
 "nbformat": 4,
 "nbformat_minor": 4
}
