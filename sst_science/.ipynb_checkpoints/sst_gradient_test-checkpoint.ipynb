{
 "cells": [
  {
   "cell_type": "code",
   "execution_count": null,
   "metadata": {},
   "outputs": [],
   "source": [
    "import xarray as xr\n",
    "import matplotlib.pyplot as plt\n",
    "import numpy as np"
   ]
  },
  {
   "cell_type": "code",
   "execution_count": null,
   "metadata": {},
   "outputs": [],
   "source": [
    "dap_url=\"z:/allData/ghrsst/data/GDS2/L4/GLOB/JPL/MUR/v4.1/2016/241/20160828090000-JPL-L4_GHRSST-SSTfnd-MUR-GLOB-v02.0-fv04.1.nc\"\n",
    "ds = xr.open_dataset(dap_url)\n",
    "ds.coords['lon'] = np.mod(ds['lon'], 360)\n",
    "ds = ds.sortby(ds.lon)"
   ]
  },
  {
   "cell_type": "code",
   "execution_count": null,
   "metadata": {},
   "outputs": [],
   "source": [
    "ds2 = ds.sel(lat=slice(10,65),lon=slice(100,260))\n",
    "sst=ds2['analysed_sst'].where(ds2.mask==1)"
   ]
  },
  {
   "cell_type": "code",
   "execution_count": null,
   "metadata": {},
   "outputs": [],
   "source": [
    "(sst-273.15).plot(vmin=10,vmax=30,cmap='hsv')\n",
    "plt.savefig('f:/data/tem/2016_08_28_mursst.png')"
   ]
  },
  {
   "cell_type": "code",
   "execution_count": null,
   "metadata": {},
   "outputs": [],
   "source": [
    "(sst-273.15).plot(vmin=10,vmax=30,cmap='jet')\n",
    "plt.savefig('f:/data/tem/2016_08_28_mursst2.png')"
   ]
  },
  {
   "cell_type": "code",
   "execution_count": null,
   "metadata": {},
   "outputs": [],
   "source": [
    "vgrad = np.gradient(sst[0,:,:])\n",
    "mag = np.sqrt(vgrad[0]**2 + vgrad[1]**2)"
   ]
  },
  {
   "cell_type": "code",
   "execution_count": null,
   "metadata": {},
   "outputs": [],
   "source": [
    "plt.pcolormesh(mag,vmin=0,vmax=.05,cmap='jet')\n",
    "plt.savefig('f:/data/tem/2016_08_28_mursst_grad.png')"
   ]
  },
  {
   "cell_type": "code",
   "execution_count": null,
   "metadata": {},
   "outputs": [],
   "source": []
  }
 ],
 "metadata": {
  "kernelspec": {
   "display_name": "Python 3",
   "language": "python",
   "name": "python3"
  },
  "language_info": {
   "codemirror_mode": {
    "name": "ipython",
    "version": 3
   },
   "file_extension": ".py",
   "mimetype": "text/x-python",
   "name": "python",
   "nbconvert_exporter": "python",
   "pygments_lexer": "ipython3",
   "version": "3.7.6"
  }
 },
 "nbformat": 4,
 "nbformat_minor": 4
}
