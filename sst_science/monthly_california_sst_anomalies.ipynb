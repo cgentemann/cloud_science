{
 "cells": [
  {
   "cell_type": "code",
   "execution_count": null,
   "metadata": {},
   "outputs": [],
   "source": [
    "import warnings\n",
    "import numpy as np\n",
    "import pandas as pd\n",
    "import xarray as xr\n",
    "import fsspec\n",
    "import cartopy.crs as ccrs\n",
    "import cartopy.feature as cfeature\n",
    "import cartopy.io.shapereader as shpreader\n",
    "import matplotlib.pyplot as plt\n",
    "\n",
    "#scientific colormaps\n",
    "import numpy as np\n",
    "import matplotlib.pyplot as plt\n",
    "from matplotlib.colors import LinearSegmentedColormap\n",
    "cm_data = np.loadtxt(\"./ScientificColormaps6/vik/vik.txt\")\n",
    "vik_map = LinearSegmentedColormap.from_list(\"vik\", cm_data)\n",
    "cm_data = np.loadtxt(\"./ScientificColormaps6/roma/roma.txt\")\n",
    "roma_map = LinearSegmentedColormap.from_list(\"roma\", cm_data)\n",
    "roma_map2 = LinearSegmentedColormap.from_list(\"roma\", cm_data[-1::-1])\n",
    "\n",
    "warnings.simplefilter('ignore') # filter some warning messages\n",
    "xr.set_options(display_style=\"html\")  #display dataset nicely "
   ]
  },
  {
   "cell_type": "code",
   "execution_count": null,
   "metadata": {},
   "outputs": [],
   "source": [
    "sst_anomaly_monthlyask_kubernetes import KubeCluster\n",
    "from dask.distributed import Client\n",
    "cluster = KubeCluster()\n",
    "cluster.adapt(minimum=1, maximum=200, interval='2s', wait_count=3)\n",
    "client = Client(cluster)\n",
    "cluster"
   ]
  },
  {
   "cell_type": "code",
   "execution_count": null,
   "metadata": {},
   "outputs": [],
   "source": [
    "%%time\n",
    "file_location = 's3://mur-sst/zarr'\n",
    "\n",
    "ds_sst = xr.open_zarr(fsspec.get_mapper(file_location, anon=True),consolidated=True)\n",
    "\n",
    "ds_sst"
   ]
  },
  {
   "cell_type": "markdown",
   "metadata": {},
   "source": [
    "# subset data to region of interest"
   ]
  },
  {
   "cell_type": "code",
   "execution_count": null,
   "metadata": {},
   "outputs": [],
   "source": [
    "subset = ds_sst.sel(lat=slice(32,48),lon=slice(-132.27,-117))"
   ]
  },
  {
   "cell_type": "markdown",
   "metadata": {},
   "source": [
    "# calculate climatology using 2003-2019"
   ]
  },
  {
   "cell_type": "code",
   "execution_count": null,
   "metadata": {},
   "outputs": [],
   "source": [
    "sst_monthly = subset.resample(time='1MS').mean('time',keep_attrs=True,skipna=False)\n",
    "\n",
    "climatology_mean_monthly = sst_monthly.sel(time=slice('2003-01-01','2019-01-01')).groupby('time.month').mean('time',keep_attrs=True,skipna=False)\n",
    "\n",
    "sst_anomaly_monthly = sst_monthly.groupby('time.month')-climatology_mean_monthly  #take out annual mean to remove trends\n",
    "\n",
    "sst_anomaly_monthly = sst_anomaly_monthly.persist()\n",
    "\n",
    "sst_anomaly_monthly"
   ]
  },
  {
   "cell_type": "code",
   "execution_count": null,
   "metadata": {},
   "outputs": [],
   "source": [
    "mask = sst_monthly.mask.isel(time=0).persist()"
   ]
  },
  {
   "cell_type": "code",
   "execution_count": null,
   "metadata": {},
   "outputs": [],
   "source": [
    "#axis([-132.27 -117 32.88 48.25]);\n",
    "for itime in range(-100,-30):\n",
    "    test = sst_anomaly_monthly.isel(time=itime)#.load()\n",
    "    tem = test.where(mask<2)\n",
    "    tstr = str(test.time.data)[0:10]\n",
    "    plt.figure(figsize=(10, 8))\n",
    "    ax = plt.axes(projection=ccrs.PlateCarree())\n",
    "    plt.pcolormesh(tem.lon,tem.lat,tem.analysed_sst,transform=ccrs.PlateCarree(),cmap=vik_map,vmin=-2,vmax=2)\n",
    "    ax.coastlines(resolution='50m', color='black', linewidth=1)\n",
    "    ax.add_feature(cfeature.LAND)\n",
    "    ax.add_feature(cfeature.STATES.with_scale('10m'))\n",
    "    ax.set_extent([-132.27,-117,32,48])\n",
    "    plt.colorbar(ax=ax,label='SST Anomaly (K)')\n",
    "    tt=plt.text(-122,47,tstr,fontsize=16)\n",
    "    plt.savefig('./figs/anom'+tstr+'.png')"
   ]
  },
  {
   "cell_type": "code",
   "execution_count": null,
   "metadata": {},
   "outputs": [],
   "source": []
  }
 ],
 "metadata": {
  "kernelspec": {
   "display_name": "Python 3 (ipykernel)",
   "language": "python",
   "name": "python3"
  },
  "language_info": {
   "codemirror_mode": {
    "name": "ipython",
    "version": 3
   },
   "file_extension": ".py",
   "mimetype": "text/x-python",
   "name": "python",
   "nbconvert_exporter": "python",
   "pygments_lexer": "ipython3",
   "version": "3.9.7"
  }
 },
 "nbformat": 4,
 "nbformat_minor": 4
}
