{
 "cells": [
  {
   "cell_type": "markdown",
   "metadata": {},
   "source": [
    "# pangeo ERA data"
   ]
  },
  {
   "cell_type": "code",
   "execution_count": null,
   "metadata": {},
   "outputs": [],
   "source": [
    "#notebook based on zflemings:https://nbviewer.jupyter.org/github/zflamig/dask-era5/blob/main/notebook/era5_fargate_dask.ipynb\n",
    "import matplotlib.pyplot as plt\n",
    "import xarray as xr\n",
    "import fsspec\n",
    "import dask\n",
    "import s3fs\n",
    "import numpy as np\n",
    "import gcsfs\n",
    "import fsspec\n",
    "import xarray as xr\n",
    "\n",
    "xr.set_options(display_style=\"html\")  #display dataset nicely "
   ]
  },
  {
   "cell_type": "code",
   "execution_count": null,
   "metadata": {},
   "outputs": [],
   "source": [
    "\n",
    "with xr.open_zarr(fsspec.get_mapper('gcs://pangeo-era5/reanalysis/spatial-analysis'),\n",
    "                  consolidated=True,\n",
    "                  chunks='auto') as ds:\n",
    "    print(ds)"
   ]
  },
  {
   "cell_type": "code",
   "execution_count": null,
   "metadata": {},
   "outputs": [],
   "source": [
    "\n",
    "from intake import open_catalog\n",
    "cat = open_catalog(\"https://raw.githubusercontent.com/pangeo-data/pangeo-datastore/master/intake-catalogs/atmosphere.yaml\")\n",
    "ds  = cat[\"era5_hourly_reanalysis_single_levels_sa\"].to_dask()\n",
    "ds_wsp = np.sqrt(ds.u10**2 + ds.v10**2)"
   ]
  },
  {
   "cell_type": "code",
   "execution_count": null,
   "metadata": {},
   "outputs": [],
   "source": [
    "ds_wsp"
   ]
  },
  {
   "cell_type": "code",
   "execution_count": null,
   "metadata": {},
   "outputs": [],
   "source": [
    "#ds_wsp.sel(time='2017-10-08T00',longitude=slice(115,240),latitude=slice(50,25)).plot(vmin=0,vmax=20)\n",
    "ds_wsp.sel(time='2017-10-08T00',longitude=slice(115,240),latitude=slice(50,25)).plot(vmin=0,vmax=20)"
   ]
  },
  {
   "cell_type": "code",
   "execution_count": null,
   "metadata": {},
   "outputs": [],
   "source": [
    "# Visualizations\n",
    "import hvplot.xarray\n",
    "import hvplot.pandas\n",
    "import matplotlib.pyplot as plt\n",
    "from matplotlib.colors import LogNorm\n",
    "import cartopy.crs as crs\n",
    "\n",
    "ds2 = ds_wsp.sel(time=slice('2017-09-15T00','2017-10-08T00'),longitude=slice(115,240),latitude=slice(60,25))\n",
    "ds2 = ds2.resample(time='1D').mean()\n",
    "proj = crs.Orthographic(-180, 30)\n",
    "ds2.hvplot.quadmesh(\n",
    "    'longitude', 'latitude', projection=proj, project=True,\n",
    "    cmap='gnuplot', dynamic=True, coastline='50m', \n",
    "    frame_width=300, logz=True, clim=(0.01,20), rasterize=True)"
   ]
  },
  {
   "cell_type": "code",
   "execution_count": null,
   "metadata": {},
   "outputs": [],
   "source": [
    "# high winds were evening 10/8/2017 9:45 PM \n",
    "ds"
   ]
  },
  {
   "cell_type": "code",
   "execution_count": null,
   "metadata": {},
   "outputs": [],
   "source": [
    "#ds.u10.sel(longitude=slice(122,124),latitude=slice(39,37)).sel(time=slice('2017-10-01T00','2017-10-14')).mean({'latitude','longitude'}).plot()\n",
    "ds.u10.sel(longitude=122.7,latitude=38.4,method='nearest').sel(time=slice('2017-10-09T00','2017-10-09')).plot()\n",
    "#ds.v10.sel(longitude=122.7,latitude=38.4,method='nearest').sel(time=slice('2017-10-09T00','2017-10-09')).plot()\n"
   ]
  },
  {
   "cell_type": "code",
   "execution_count": null,
   "metadata": {},
   "outputs": [],
   "source": [
    "ts = ds_wnd.sel(longitude=slice(236,239),latitude=slice(46,41)).mean({'latitude','longitude'}).load()"
   ]
  },
  {
   "cell_type": "code",
   "execution_count": null,
   "metadata": {},
   "outputs": [],
   "source": [
    "ts"
   ]
  },
  {
   "cell_type": "code",
   "execution_count": null,
   "metadata": {},
   "outputs": [],
   "source": [
    "ts.to_netcdf('../../data/era5ts.nc')"
   ]
  },
  {
   "cell_type": "code",
   "execution_count": null,
   "metadata": {},
   "outputs": [],
   "source": [
    "sub=ts.sel(time=slice('2017','2020'))"
   ]
  },
  {
   "cell_type": "code",
   "execution_count": null,
   "metadata": {},
   "outputs": [],
   "source": []
  }
 ],
 "metadata": {
  "kernelspec": {
   "display_name": "Python 3",
   "language": "python",
   "name": "python3"
  },
  "language_info": {
   "codemirror_mode": {
    "name": "ipython",
    "version": 3
   },
   "file_extension": ".py",
   "mimetype": "text/x-python",
   "name": "python",
   "nbconvert_exporter": "python",
   "pygments_lexer": "ipython3",
   "version": "3.8.6"
  }
 },
 "nbformat": 4,
 "nbformat_minor": 4
}
