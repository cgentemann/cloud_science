{
 "cells": [
  {
   "cell_type": "code",
   "execution_count": null,
   "id": "245fd7da-e60d-40e6-b11f-5841a195b7f2",
   "metadata": {},
   "outputs": [],
   "source": [
    "import warnings\n",
    "import numpy as np\n",
    "import pandas as pd\n",
    "import xarray as xr\n",
    "import fsspec\n",
    "\n",
    "warnings.simplefilter('ignore') # filter some warning messages\n",
    "xr.set_options(display_style=\"html\")  #display dataset nicely"
   ]
  },
  {
   "cell_type": "code",
   "execution_count": null,
   "id": "4694311b-54ba-4373-87a6-302676930db2",
   "metadata": {},
   "outputs": [],
   "source": [
    "dir_out = './../../data/zarr_testing/'\n",
    "file_aws = 'https://mur-sst.s3.us-west-2.amazonaws.com/zarr-v1'\n",
    "#file_aws = 'https://mur-sst.s3.us-west-2.amazonaws.com/zarr'"
   ]
  },
  {
   "cell_type": "code",
   "execution_count": null,
   "id": "17a9bd5a-4f69-4393-8b6f-45f26573bef1",
   "metadata": {},
   "outputs": [],
   "source": [
    "%%time\n",
    "ds_aws = xr.open_zarr(file_aws,consolidated=True)\n",
    "ds_aws"
   ]
  },
  {
   "cell_type": "code",
   "execution_count": null,
   "id": "e270a544-de7d-4cd2-afdc-56487f3d7344",
   "metadata": {},
   "outputs": [],
   "source": [
    "#region for figure 1\n",
    "xlat1,xlat2 = 33,48\n",
    "xlon1,xlon2 = -132, -118, \n",
    "date1,date2 = '2002-01-01','2013=01=01'\n",
    "\n",
    "subset = ds_aws.sel(time=slice(date1,date2),lat=slice(xlat1,xlat2),lon=slice(xlon1,xlon2))\n",
    "subset\n",
    "\n",
    "\n",
    "#cal climatology\n",
    "#5-day running average\n",
    "#30 day running average\n",
    "#monthly means"
   ]
  },
  {
   "cell_type": "code",
   "execution_count": null,
   "id": "f5c786f1-e0b2-473a-a4e4-07a764a84abd",
   "metadata": {},
   "outputs": [],
   "source": []
  }
 ],
 "metadata": {
  "kernelspec": {
   "display_name": "Python 3 (ipykernel)",
   "language": "python",
   "name": "python3"
  },
  "language_info": {
   "codemirror_mode": {
    "name": "ipython",
    "version": 3
   },
   "file_extension": ".py",
   "mimetype": "text/x-python",
   "name": "python",
   "nbconvert_exporter": "python",
   "pygments_lexer": "ipython3",
   "version": "3.7.12"
  }
 },
 "nbformat": 4,
 "nbformat_minor": 5
}
