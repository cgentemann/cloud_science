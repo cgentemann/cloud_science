{
 "cells": [
  {
   "cell_type": "markdown",
   "metadata": {},
   "source": [
    "# SST in Bavi, Mayas, Haishen\n",
    "  \n",
    "Authors\n",
    "* [Dr Chelle Gentemann](mailto:gentemann@faralloninstitute.org)    - Farallon Institute, USA\n",
    "\n",
    "\n",
    "## In Feb 2020 a GRL [paper](https://agupubs.onlinelibrary.wiley.com/doi/10.1029/2020GL091430) came out connecting 3 closely occuring Typhoons near Korea to the California wildfires\n",
    "  \n",
    "\"Strong winds that accentuated a fire outbreak in the western United States in early September of 2020 resulted from an atmospheric wave train that spanned the Pacific Ocean. Days before the atmospheric waves developed in the United States, three western Pacific tropical cyclones (typhoons) underwent an extratropical transition over Korea within an unprecedentedly short span of 12 days. \"\n",
    "\n",
    "Figure 1 showed zonal winds averaged over a box located over NCal/Oregon. On 9/5 and again on 9/24 the zonal winds were strongly negative (Diablo winds) and both events had major fires.\n",
    "  "
   ]
  },
  {
   "cell_type": "markdown",
   "metadata": {},
   "source": [
    "-------------------\n",
    "\n",
    "## Import python packages\n",
    "\n",
    "* You are going to want numpy, pandas, matplotlib.pyplot, podaaacpy, and xarray\n",
    "* This cell also imports a parser so that a login file can be read to use podaacpy"
   ]
  },
  {
   "cell_type": "code",
   "execution_count": null,
   "metadata": {},
   "outputs": [],
   "source": [
    "#!pip install xhistogram\n",
    "#!pip install eofs\n",
    "#!pip install lxml\n",
    "\n",
    "import warnings\n",
    "warnings.simplefilter('ignore') # filter some warning messages\n",
    "\n",
    "import numpy as np\n",
    "import pandas as pd\n",
    "import matplotlib.pyplot as plt\n",
    "import xarray as xr\n",
    "import cartopy.crs as ccrs\n",
    "\n",
    "\n",
    "import cartopy.crs as ccrs\n",
    "import cartopy.feature as cfeature\n",
    "import matplotlib.pyplot as plt\n",
    "import numpy as np\n",
    "import xarray as xr\n",
    "\n",
    "from eofs.xarray import Eof\n",
    "from eofs.examples import example_data_path\n",
    "\n",
    "#This is for reading in and parsing the login file credentials\n",
    "from pathlib import Path\n",
    "import configparser\n",
    "from lxml import objectify\n",
    "from xhistogram.xarray import histogram\n",
    "from scipy import signal\n",
    "\n",
    "plt.rcParams[\"figure.figsize\"] = (15,8)\n",
    "#rcParams['figure.figsize'] = 5, 10\n",
    "\n",
    "\n",
    "from matplotlib import pyplot as plt, animation\n",
    "%matplotlib inline\n",
    "\n",
    "# This is needed to display graphics calculated outside of jupyter notebook\n",
    "from IPython.display import HTML, display\n"
   ]
  },
  {
   "cell_type": "markdown",
   "metadata": {},
   "source": [
    "## Analysis of SSTs during Typhoons in 2020 near Korea\n"
   ]
  },
  {
   "cell_type": "markdown",
   "metadata": {},
   "source": [
    "# Read in Storm data from a thredds server\n",
    "- Note update - the thredds server has disappeared, so I have left the url in the code, but commented out and replaced it with a local copy of the data.  "
   ]
  },
  {
   "cell_type": "code",
   "execution_count": null,
   "metadata": {},
   "outputs": [],
   "source": [
    "#url = 'https://www.ncei.noaa.gov/data/international-best-track-archive-for-climate-stewardship-ibtracs/v04r00/access/netcdf/IBTrACS.WP.v04r00.nc'\n",
    "url = './../data/IBTrACS.WP.v04r00.nc'\n",
    "\n",
    "ds_storm=xr.open_dataset(url)\n",
    "\n",
    "# the data isn't formatted very well & have to convert strings\n",
    "for var in ds_storm:\n",
    "    if not((ds_storm[var].dtype=='float32') or (ds_storm[var].dtype=='int16')):\n",
    "        ds_storm[var]=ds_storm[var].astype(str)\n",
    "\n",
    "#calculate max_wind for each storm, as an easy way to classify them\n",
    "ds_storm['max_wind']=ds_storm.usa_wind.max(dim='date_time',skipna=True)\n",
    "ds_storm['max_cat']=ds_storm.usa_sshs.max(dim='date_time',skipna=True)\n",
    "ds_storm['yr']=ds_storm.time[:,0].dt.year\n",
    "ds_storm['mon']=ds_storm.time[:,0].dt.month\n",
    "\n",
    "ds_storm"
   ]
  },
  {
   "cell_type": "code",
   "execution_count": null,
   "metadata": {},
   "outputs": [],
   "source": [
    "#list the storms and dates for west pacific year\n",
    "sub = ds_storm.where((ds_storm.basin=='WP') & (ds_storm.max_cat>=3) & (ds_storm.season==2017),drop=True)\n",
    "for i in range(len(sub.name)):\n",
    "    print(sub.time[i,0].data,sub.name[i,0].data,sub.max_cat[i,0].data)\n",
    "#list the storms and dates for west pacific year\n",
    "sub = ds_storm.where((ds_storm.basin=='WP') & (ds_storm.max_cat>=3) & (ds_storm.season==2018),drop=True)\n",
    "for i in range(len(sub.name)):\n",
    "    print(sub.time[i,0].data,sub.name[i,0].data,sub.max_cat[i,0].data)\n",
    "#list the storms and dates for west pacific year\n",
    "sub = ds_storm.where((ds_storm.basin=='WP') & (ds_storm.max_cat>=3) & (ds_storm.season==2019),drop=True)\n",
    "for i in range(len(sub.name)):\n",
    "    print(sub.time[i,0].data,sub.name[i,0].data,sub.max_cat[i,0].data)\n",
    "#list the storms and dates for west pacific year\n",
    "sub = ds_storm.where((ds_storm.basin=='WP') & (ds_storm.max_cat>=3) & (ds_storm.season==2020),drop=True)\n",
    "for i in range(len(sub.name)):\n",
    "    print(sub.time[i,0].data,sub.name[i,0].data,sub.max_cat[i,0].data)"
   ]
  },
  {
   "cell_type": "markdown",
   "metadata": {},
   "source": [
    "# read in NOAA OI SST\n",
    "- calculate climatology, anomaly, monthly anomaly"
   ]
  },
  {
   "cell_type": "code",
   "execution_count": null,
   "metadata": {},
   "outputs": [],
   "source": [
    "storm_list,ilist = ['BAVI','MAYSAK','HAISHEN'],[]\n",
    "for name in storm_list:\n",
    "    iloc = np.where((ds_storm.name==name) & (ds_storm.time>np.datetime64('2020-07-01')))[0][0]\n",
    "    print(name,iloc)\n",
    "    ilist.append(iloc)"
   ]
  },
  {
   "cell_type": "code",
   "execution_count": null,
   "metadata": {},
   "outputs": [],
   "source": [
    "%%time\n",
    "\n",
    "adir = 'F:/data/sat_data/sst/noaa_oisst/www.ncei.noaa.gov/data/sea-surface-temperature-optimum-interpolation/v2.1/access/'\n",
    "dir_pattern_zarr = adir + 'avhrr_zarr2/'\n",
    "ds_sst = xr.open_zarr(dir_pattern_zarr,consolidated=True)\n",
    "\n",
    "sst_climatology = ds_sst.groupby('time.dayofyear').mean('time',keep_attrs=True,skipna=False)\n",
    "\n",
    "sst_anomaly = ds_sst.groupby('time.dayofyear')-sst_climatology\n",
    "\n",
    "sst_anomaly_monthly = sst_anomaly.resample(time='1MS').mean(keep_attrs=True,skipna=False)\n",
    "\n",
    "ds_sst"
   ]
  },
  {
   "cell_type": "markdown",
   "metadata": {},
   "source": [
    "# collocate sst and sst_anomaly with the larger storms\n",
    "- make a subset of storms after 1982 in august cat 3 or larger\n",
    "- only include storms on west side"
   ]
  },
  {
   "cell_type": "code",
   "execution_count": null,
   "metadata": {},
   "outputs": [],
   "source": [
    "ax = plt.axes(projection=ccrs.PlateCarree(central_longitude=180))\n",
    "for i in ilist:\n",
    "    ax.plot(ds_storm.lon[i,:],ds_storm.lat[i,:], transform=ccrs.PlateCarree())\n",
    "ax.set_extent([110, 150, 10, 60], crs=ccrs.PlateCarree())\n",
    "ax.coastlines('50m')\n",
    "ax.stock_img()"
   ]
  },
  {
   "cell_type": "code",
   "execution_count": null,
   "metadata": {},
   "outputs": [],
   "source": [
    "subset_storms = ds_storm.isel(storm=ilist)\n",
    "#subset_storms"
   ]
  },
  {
   "cell_type": "markdown",
   "metadata": {},
   "source": [
    "# where do big storms start out?  only look at 1980 to present (data goes back to 1945)"
   ]
  },
  {
   "cell_type": "code",
   "execution_count": null,
   "metadata": {},
   "outputs": [],
   "source": [
    "ds_storm['yr']=ds_storm.time[:,0].dt.year\n",
    "big = ds_storm.where((ds_storm.max_wind>80) & (ds_storm.yr>1980),drop=True)\n",
    "#big"
   ]
  },
  {
   "cell_type": "markdown",
   "metadata": {},
   "source": [
    "# plot the first point the typhoon is classified as a storm, color is max_wnd"
   ]
  },
  {
   "cell_type": "code",
   "execution_count": null,
   "metadata": {},
   "outputs": [],
   "source": [
    "ax = plt.axes(projection=ccrs.PlateCarree(central_longitude=180))\n",
    "for i in ilist:\n",
    "    plt.scatter(big.lon[:,0],big.lat[:,0],c=big.max_wind,transform=ccrs.PlateCarree())\n",
    "ax.set_extent([110, 200, 0, 50], crs=ccrs.PlateCarree())\n",
    "ax.coastlines('50m')\n",
    "ax.stock_img()\n",
    "plt.colorbar(label='max winds')"
   ]
  },
  {
   "cell_type": "code",
   "execution_count": null,
   "metadata": {},
   "outputs": [],
   "source": [
    "plt.hist(big.time[:,0].dt.year,bins=np.arange(1980,2022))\n",
    "plt.grid()"
   ]
  },
  {
   "cell_type": "code",
   "execution_count": null,
   "metadata": {},
   "outputs": [],
   "source": [
    "ds_storm['yr']=ds_storm.time[:,0].dt.year\n",
    "ds_storm['mon']=ds_storm.time[:,0].dt.month\n",
    "big = ds_storm.where((ds_storm.max_cat>=3) & (ds_storm.yr>1982) & (ds_storm.mon==8),drop=True)\n",
    "plt.hist(big.time[:,0].dt.year,bins=np.arange(1982,2022))\n",
    "plt.grid()"
   ]
  },
  {
   "cell_type": "markdown",
   "metadata": {},
   "source": [
    "# monthly frequency of storms"
   ]
  },
  {
   "cell_type": "code",
   "execution_count": null,
   "metadata": {},
   "outputs": [],
   "source": [
    "bins  = np.arange(0,13)\n",
    "h = histogram(ds_storm.time[:,0].dt.month, bins=[bins])\n",
    "h.plot(marker='.')\n",
    "plt.grid()\n"
   ]
  },
  {
   "cell_type": "markdown",
   "metadata": {},
   "source": [
    "# calculate histogram of number of storms per year"
   ]
  },
  {
   "cell_type": "code",
   "execution_count": null,
   "metadata": {},
   "outputs": [],
   "source": [
    "bins = np.arange(1982,2022)+.5\n",
    "h = histogram(big.time[:,0].dt.year, bins=[bins])\n",
    "h.plot(marker='.')"
   ]
  },
  {
   "cell_type": "code",
   "execution_count": null,
   "metadata": {},
   "outputs": [],
   "source": [
    "%%time\n",
    "#select storms august\n",
    "big2 = ds_storm.where((ds_storm.max_cat>=3) & (ds_storm.yr>1982) & (ds_storm.mon==8) & (ds_storm.lon.max('date_time')<260),drop=True)\n",
    "big2['sst_anom']=sst_anomaly.sst.interp(lat=big2.lat,lon=big2.lon,time=big2.time).compute()\n",
    "big2['sst']=ds_sst.sst.interp(lat=big2.lat,lon=big2.lon,time=big2.time).compute()\n",
    "\n",
    "#select west pacific august data\n",
    "wp = sst_anomaly_monthly.sel(lon=slice(100,175),lat=slice(0,45))\n",
    "aug = wp.sst[11::12,:,:]"
   ]
  },
  {
   "cell_type": "markdown",
   "metadata": {},
   "source": [
    "# read in NOAA OI SST, find the storm data for 2020 storms that were tied to the CA wildfires "
   ]
  },
  {
   "cell_type": "code",
   "execution_count": 6,
   "metadata": {},
   "outputs": [],
   "source": [
    "storm_list,ilist = ['BAVI','MAYSAK','HAISHEN'],[]\n",
    "for name in storm_list:\n",
    "    iloc = np.where((ds_storm.name==name) & (ds_storm.time>np.datetime64('2020-07-01')))[0][0]\n",
    "    print(name,iloc)\n",
    "    ilist.append(iloc)"
   ]
  },
  {
   "cell_type": "markdown",
   "metadata": {},
   "source": [
    "# plot the storm tracks"
   ]
  },
  {
   "cell_type": "code",
   "execution_count": 7,
   "metadata": {},
   "outputs": [],
   "source": [
    "tem = big2 #ds_storm.where((ds_storm.max_wind>80) & (ds_storm.yr>1980),drop=True)\n",
    "fig,ax = plt.subplots(2,figsize=(12,6))\n",
    "ax[0].hist(tem.lat[:,0],bins=np.arange(1.5,24.5))\n",
    "ax[1].hist(tem.lon[:,0],bins=np.arange(110.5,180.5))"
   ]
  },
  {
   "cell_type": "markdown",
   "metadata": {},
   "source": [
    "# is there a trend in latitude start?\n",
    "- yes, 1.3 deg lat per decade"
   ]
  },
  {
   "cell_type": "code",
   "execution_count": 13,
   "metadata": {},
   "outputs": [],
   "source": [
    "big = ds_storm.where((ds_storm.max_cat>=3) & (ds_storm.yr>1982) & (ds_storm.mon==8),drop=True)\n",
    "plt.scatter(big.yr,big.lat[:,0])\n",
    "m, b = np.polyfit(big.yr,big.lat[:,0], 1)\n",
    "x=np.arange(1983,2020)\n",
    "plt.plot(x, m*x + b)\n",
    "print(m,b)"
   ]
  },
  {
   "cell_type": "code",
   "execution_count": 14,
   "metadata": {},
   "outputs": [],
   "source": [
    "ax = plt.axes(projection=ccrs.PlateCarree(central_longitude=180))\n",
    "for i in range(len(big2.storm)):\n",
    "    if big2.yr[i]>=2015:\n",
    "        continue\n",
    "    #ax.scatter(big2.lon[i,:],big2.lat[i,:],c=big2.sst_anom[i,:],vmin=-2,vmax=2,cmap='RdBu_r',transform=ccrs.PlateCarree(),label=big2.name[i].data,linewidth=3)\n",
    "    ax.scatter(big2.lon[i,:],big2.lat[i,:],c=big2.sst_anom[i,:],s=big2.usa_wind[i,:]/2,vmin=-2,vmax=2,cmap='RdBu_r',transform=ccrs.PlateCarree(),linewidth=3)\n",
    "ax.set_extent([100,240, 0, 55], crs=ccrs.PlateCarree())\n",
    "ax.coastlines('50m')\n",
    "ax.stock_img()\n",
    "ax.legend()\n",
    "r1,r2,r3,r4 = 120,147,15,25\n",
    "ax.plot([r1,r1],[r3,r4],'k', transform=ccrs.PlateCarree())\n",
    "ax.plot([r2,r2],[r3,r4],'k', transform=ccrs.PlateCarree())\n",
    "ax.plot([r1,r2],[r3,r3],'k', transform=ccrs.PlateCarree())\n",
    "ax.plot([r1,r2],[r4,r4],'k', transform=ccrs.PlateCarree())\n",
    "r1,r2,r3,r4 = 127,182,5,20\n",
    "ax.plot([r1,r1],[r3,r4],'k', transform=ccrs.PlateCarree())\n",
    "ax.plot([r2,r2],[r3,r4],'k', transform=ccrs.PlateCarree())\n",
    "ax.plot([r1,r2],[r3,r3],'k', transform=ccrs.PlateCarree())\n",
    "ax.plot([r1,r2],[r4,r4],'k', transform=ccrs.PlateCarree())"
   ]
  },
  {
   "cell_type": "markdown",
   "metadata": {},
   "source": [
    "# storms after 2015"
   ]
  },
  {
   "cell_type": "code",
   "execution_count": 15,
   "metadata": {},
   "outputs": [],
   "source": [
    "#plt.scatter(big2.lon,big2.lat,c=big2.sst_anom.mean('date_time'))\n",
    "ax = plt.axes(projection=ccrs.PlateCarree(central_longitude=180))\n",
    "for i in range(len(big2.storm)):\n",
    "    if big2.yr[i]<2015:\n",
    "        continue\n",
    "    #ax.scatter(big2.lon[i,:],big2.lat[i,:],c=big2.sst_anom[i,:],vmin=-2,vmax=2,cmap='RdBu_r',transform=ccrs.PlateCarree(),label=big2.name[i].data,linewidth=3)\n",
    "    ax.scatter(big2.lon[i,:],big2.lat[i,:],c=big2.sst_anom[i,:],s=big2.usa_wind[i,:]/2,vmin=-2,vmax=2,cmap='RdBu_r',transform=ccrs.PlateCarree(),linewidth=3)\n",
    "ax.set_extent([100,240, 0, 55], crs=ccrs.PlateCarree())\n",
    "ax.coastlines('50m')\n",
    "ax.stock_img()\n",
    "ax.legend()\n",
    "r1,r2,r3,r4 = 120,147,15,25\n",
    "ax.plot([r1,r1],[r3,r4],'k', transform=ccrs.PlateCarree())\n",
    "ax.plot([r2,r2],[r3,r4],'k', transform=ccrs.PlateCarree())\n",
    "ax.plot([r1,r2],[r3,r3],'k', transform=ccrs.PlateCarree())\n",
    "ax.plot([r1,r2],[r4,r4],'k', transform=ccrs.PlateCarree())\n",
    "r1,r2,r3,r4 = 127,182,5,20\n",
    "ax.plot([r1,r1],[r3,r4],'k', transform=ccrs.PlateCarree())\n",
    "ax.plot([r2,r2],[r3,r4],'k', transform=ccrs.PlateCarree())\n",
    "ax.plot([r1,r2],[r3,r3],'k', transform=ccrs.PlateCarree())\n",
    "ax.plot([r1,r2],[r4,r4],'k', transform=ccrs.PlateCarree())"
   ]
  },
  {
   "cell_type": "markdown",
   "metadata": {},
   "source": [
    "# looking at cat 3 storm frequency in August\n",
    "\n",
    "- since 2015 consistently more storms"
   ]
  },
  {
   "cell_type": "code",
   "execution_count": 16,
   "metadata": {},
   "outputs": [],
   "source": [
    "plt.hist(big.time[:,0].dt.year,bins=np.arange(1982,2022))\n",
    "plt.grid()"
   ]
  },
  {
   "cell_type": "markdown",
   "metadata": {},
   "source": [
    "# What does the SST data look like in the regions where most storms originate?"
   ]
  },
  {
   "cell_type": "code",
   "execution_count": 17,
   "metadata": {},
   "outputs": [],
   "source": [
    "fig = plt.figure(figsize=(15,6))\n",
    "ts = sst_anomaly_monthly.sst[11::12,:,:].sel(lon=slice(r1,r2),lat=slice(r3,r4)).mean({'lat','lon'})\n",
    "plt.plot(ts.time,ts,linewidth=2,color='b')\n",
    "plt.axhline(0,color='k')\n",
    "plt.xlabel('Year')\n",
    "plt.ylabel('SST Anomaly (K)')\n",
    "plt.savefig('F:/data/project_data/fluxsat/korea/aug_sst_max_north_area_large.png')"
   ]
  },
  {
   "cell_type": "markdown",
   "metadata": {},
   "source": [
    "# what does august look like for the region where the 2020 storms started?"
   ]
  },
  {
   "cell_type": "code",
   "execution_count": 19,
   "metadata": {},
   "outputs": [],
   "source": [
    "fig = plt.figure(figsize=(15,6))\n",
    "ts = sst_anomaly_monthly.sst[11::12,:,:].sel(lon=slice(s1,s2),lat=slice(s3,s4)).mean({'lat','lon'})\n",
    "plt.plot(ts.time,ts,linewidth=2,color='b')\n",
    "plt.axhline(0,color='k')\n",
    "plt.xlabel('Year')\n",
    "plt.ylabel('SST Anomaly (K)')\n",
    "plt.savefig('F:/data/project_data/fluxsat/korea/aug_sst_max_north_area.png')"
   ]
  },
  {
   "cell_type": "markdown",
   "metadata": {},
   "source": [
    "# make west pacific subset and then save only august"
   ]
  },
  {
   "cell_type": "code",
   "execution_count": 20,
   "metadata": {},
   "outputs": [],
   "source": [
    "#wp = sst_anomaly_monthly.sel(lon=slice(100,175),lat=slice(0,45))\n",
    "#aug = wp.sst[11::12,:,:]"
   ]
  },
  {
   "cell_type": "code",
   "execution_count": 27,
   "metadata": {},
   "outputs": [],
   "source": [
    "tem = aug.sel(time=slice('2000','2021'))\n",
    "fig = plt.figure()\n",
    "ax = fig.add_subplot(1, 1, 1,\n",
    "                     projection=ccrs.PlateCarree(central_longitude=180))\n",
    "ax.set_extent([100,175, 0, 45], crs=ccrs.PlateCarree())\n",
    "ax.coastlines('50m')\n",
    "ax.stock_img()\n",
    "cax = tem[0,:,:].plot(ax=ax,\n",
    "    add_colorbar=True,\n",
    "    cmap='coolwarm',\n",
    "    vmin=-2, vmax=2,transform=ccrs.PlateCarree(),\n",
    "    cbar_kwargs={\n",
    "        'extend':'neither'\n",
    "    }\n",
    ")\n",
    "def animate(frame):\n",
    "    cax.set_array(tem[frame,:,:].values.flatten())\n",
    "    ax.set_title(\"Time = \" + str(tem.coords['time'].values[frame])[:13])\n",
    "    ax.coastlines('50m')\n",
    "    ax.stock_img()\n",
    "\n",
    "\n",
    "# Finally, we use the animation module to create the animation.\n",
    "ani = animation.FuncAnimation(\n",
    "    fig,             # figure\n",
    "    animate,         # name of the function above\n",
    "    frames=21,       # Could also be iterable or list\n",
    "    interval=200     # ms between frames\n",
    ")"
   ]
  },
  {
   "cell_type": "code",
   "execution_count": 28,
   "metadata": {},
   "outputs": [],
   "source": [
    "HTML(ani.to_jshtml())"
   ]
  },
  {
   "cell_type": "code",
   "execution_count": 29,
   "metadata": {},
   "outputs": [],
   "source": [
    "ani.save('F:/data/project_data/fluxsat/korea/basic_animation.mp4', fps=1, extra_args=['-vcodec', 'libx264'])\n"
   ]
  },
  {
   "cell_type": "markdown",
   "metadata": {},
   "source": [
    "# load SST monthly anomaly for august\n",
    "- this is a small enough dataset that to make everything faster we can just load into memory and avoid chuncking issues"
   ]
  },
  {
   "cell_type": "code",
   "execution_count": 30,
   "metadata": {},
   "outputs": [],
   "source": [
    "sst = sst_anomaly_monthly.anom[11::12,:,:].load()  #AUGUST"
   ]
  },
  {
   "cell_type": "markdown",
   "metadata": {},
   "source": [
    "# remove mean and trend\n",
    "- detrend the data and put back into xr.DataArray & fill back in nan\n",
    "- sst2 = sst_debias - sst_slope.slope*sst_debias\n"
   ]
  },
  {
   "cell_type": "markdown",
   "metadata": {},
   "source": [
    "# plot SST trend"
   ]
  },
  {
   "cell_type": "code",
   "execution_count": 31,
   "metadata": {},
   "outputs": [],
   "source": [
    "sst_debias = sst - sst.mean({'time'})\n",
    "sst2 = signal.detrend(sst_debias.fillna(0),axis=0,type='linear')\n",
    "sst2 = xr.DataArray(sst2,dims=['time','lat','lon'],coords={'time':sst_debias.time,'lat':sst_debias.lat,'lon':sst_debias.lon})\n",
    "sst2 = sst2.where(~np.isnan(sst))\n",
    "dif = sst_debias-sst2 #cal difference between sst with bias removed and sst with trend removed\n",
    "((dif.sel(time='2010-08-01')-dif.sel(time='2000-08-01'))).plot(vmin=-1,vmax=1,cmap='RdBu_r',cbar_kwargs={'label': 'SST trend (K/decade)'})"
   ]
  },
  {
   "cell_type": "code",
   "execution_count": 32,
   "metadata": {},
   "outputs": [],
   "source": [
    "plt.plot(sst2.sel(lon=150,lat=40,method='nearest'),label='detrend')\n",
    "plt.plot(sst_debias.sel(lon=150,lat=40,method='nearest'),label='debias')\n",
    "plt.legend()"
   ]
  },
  {
   "cell_type": "code",
   "execution_count": 33,
   "metadata": {},
   "outputs": [],
   "source": [
    "# Create an EOF solver to do the EOF analysis. Square-root of cosine of\n",
    "# latitude weights are applied before the computation of EOFs.\n",
    "coslat = np.cos(np.deg2rad(sst2.coords['lat'].values))\n",
    "wgts = np.sqrt(coslat)[..., np.newaxis]\n",
    "solver = Eof(sst2, weights=wgts)\n",
    "\n",
    "# Retrieve the leading EOF, expressed as the correlation between the leading\n",
    "# PC time series and the input SST anomalies at each grid point, and the\n",
    "# leading PC time series itself.\n",
    "eof1 = solver.eofsAsCorrelation(neofs=5)\n",
    "pc1 = solver.pcs(npcs=5, pcscaling=1)\n",
    "\n",
    "# Plot the leading EOF expressed as correlation in the Pacific domain.\n",
    "clevs = np.linspace(-1, 1, 11)\n",
    "ax = plt.axes(projection=ccrs.PlateCarree(central_longitude=190))\n",
    "fill = eof1[0].plot.contourf(ax=ax, levels=clevs, cmap=plt.cm.RdBu_r,\n",
    "                             add_colorbar=False, transform=ccrs.PlateCarree())\n",
    "ax.add_feature(cfeature.LAND, facecolor='w', edgecolor='k')\n",
    "cb = plt.colorbar(fill, orientation='horizontal')\n",
    "cb.set_label('correlation coefficient', fontsize=12)\n",
    "ax.set_title('EOF1 (ENSO - M1) expressed as correlation', fontsize=16)\n",
    "\n",
    "# Plot the leading PC time series.\n",
    "plt.figure()\n",
    "pc1[:, 0].plot(color='b', linewidth=2)\n",
    "ax = plt.gca()\n",
    "ax.axhline(0, color='k')\n",
    "ax.set_ylim(-3, 3)\n",
    "ax.set_xlabel('Year')\n",
    "ax.set_ylabel('Normalized Units')\n",
    "ax.set_title('PC1 Time Series', fontsize=16)\n"
   ]
  },
  {
   "cell_type": "code",
   "execution_count": 34,
   "metadata": {},
   "outputs": [],
   "source": [
    "# Plot the leading EOF expressed as correlation in the Pacific domain.\n",
    "clevs = np.linspace(-1, 1, 11)\n",
    "ax = plt.axes(projection=ccrs.PlateCarree(central_longitude=190))\n",
    "fill = eof1[1].plot.contourf(ax=ax, levels=clevs, cmap=plt.cm.RdBu_r,\n",
    "                             add_colorbar=False, transform=ccrs.PlateCarree())\n",
    "ax.add_feature(cfeature.LAND, facecolor='w', edgecolor='k')\n",
    "cb = plt.colorbar(fill, orientation='horizontal')\n",
    "cb.set_label('correlation coefficient', fontsize=12)\n",
    "ax.set_title('EOF2 expressed as correlation', fontsize=16)\n",
    "\n",
    "# Plot the leading PC time series.\n",
    "plt.figure()\n",
    "pc1[:, 1].plot(color='b', linewidth=2)\n",
    "ax = plt.gca()\n",
    "ax.axhline(0, color='k')\n",
    "ax.set_ylim(-3, 3)\n",
    "ax.set_xlabel('Year')\n",
    "ax.set_ylabel('Normalized Units')\n",
    "ax.set_title('PC2 Time Series', fontsize=16)"
   ]
  },
  {
   "cell_type": "code",
   "execution_count": 35,
   "metadata": {},
   "outputs": [],
   "source": [
    "# Plot the leading EOF expressed as correlation in the Pacific domain.\n",
    "clevs = np.linspace(-1, 1, 11)\n",
    "ax = plt.axes(projection=ccrs.PlateCarree(central_longitude=190))\n",
    "fill = eof1[2].plot.contourf(ax=ax, levels=clevs, cmap=plt.cm.RdBu_r,\n",
    "                             add_colorbar=False, transform=ccrs.PlateCarree())\n",
    "ax.add_feature(cfeature.LAND, facecolor='w', edgecolor='k')\n",
    "cb = plt.colorbar(fill, orientation='horizontal')\n",
    "cb.set_label('correlation coefficient', fontsize=12)\n",
    "ax.set_title('EOF3 ENSO expressed as correlation', fontsize=16)\n",
    "\n",
    "# Plot the leading PC time series.\n",
    "plt.figure()\n",
    "pc1[:, 2].plot(color='b', linewidth=2)\n",
    "ax = plt.gca()\n",
    "ax.axhline(0, color='k')\n",
    "ax.set_ylim(-3, 3)\n",
    "ax.set_xlabel('Year')\n",
    "ax.set_ylabel('Normalized Units')\n",
    "ax.set_title('PC3 Time Series', fontsize=16)"
   ]
  },
  {
   "cell_type": "code",
   "execution_count": 36,
   "metadata": {},
   "outputs": [],
   "source": [
    "# Plot the leading EOF expressed as correlation in the Pacific domain.\n",
    "clevs = np.linspace(-1, 1, 11)\n",
    "ax = plt.axes(projection=ccrs.PlateCarree(central_longitude=190))\n",
    "fill = eof1[3].plot.contourf(ax=ax, levels=clevs, cmap=plt.cm.RdBu_r,\n",
    "                             add_colorbar=False, transform=ccrs.PlateCarree())\n",
    "ax.add_feature(cfeature.LAND, facecolor='w', edgecolor='k')\n",
    "cb = plt.colorbar(fill, orientation='horizontal')\n",
    "cb.set_label('correlation coefficient', fontsize=12)\n",
    "ax.set_title('EOF4 expressed as correlation', fontsize=16)\n",
    "\n",
    "# Plot the leading PC time series.\n",
    "plt.figure()\n",
    "pc1[:, 3].plot(color='b', linewidth=2)\n",
    "ax = plt.gca()\n",
    "ax.axhline(0, color='k')\n",
    "ax.set_ylim(-3, 3)\n",
    "ax.set_xlabel('Year')\n",
    "ax.set_ylabel('Normalized Units')\n",
    "ax.set_title('PC4 Time Series', fontsize=16)"
   ]
  },
  {
   "cell_type": "markdown",
   "metadata": {},
   "source": [
    "# reconstruct data"
   ]
  },
  {
   "cell_type": "code",
   "execution_count": 37,
   "metadata": {},
   "outputs": [],
   "source": [
    "reconstructed_data0 = solver.reconstructedField(0)\n",
    "reconstructed_data1 = solver.reconstructedField(1)\n",
    "reconstructed_data2 = solver.reconstructedField(2)\n",
    "reconstructed_data3 = solver.reconstructedField(3)\n",
    "reconstructed_data4 = solver.reconstructedField(4)"
   ]
  },
  {
   "cell_type": "code",
   "execution_count": 38,
   "metadata": {},
   "outputs": [],
   "source": [
    "#r1,r2,r3,r4 = 120,145,15,25\n",
    "fig = plt.figure(figsize=(15,6))\n",
    "#ts = sst_anomaly_monthly.sst[11::12,:,:].sel(lon=slice(130,150),lat=slice(20,30)).mean({'lat','lon'})\n",
    "ts = sst_anomaly_monthly.sst[11::12,:,:].sel(lon=slice(r1,r2),lat=slice(r3,r4)).mean({'lat','lon'})\n",
    "plt.plot(ts.time,ts,linewidth=2,color='b',label='data')\n",
    "ts0 = reconstructed_data0.sel(lon=slice(r1,r2),lat=slice(r3,r4)).mean({'lat','lon'})\n",
    "ts1 = reconstructed_data1.sel(lon=slice(r1,r2),lat=slice(r3,r4)).mean({'lat','lon'})\n",
    "ts2 = reconstructed_data2.sel(lon=slice(r1,r2),lat=slice(r3,r4)).mean({'lat','lon'})\n",
    "ts3 = reconstructed_data3.sel(lon=slice(r1,r2),lat=slice(r3,r4)).mean({'lat','lon'})\n",
    "ts4 = reconstructed_data4.sel(lon=slice(r1,r2),lat=slice(r3,r4)).mean({'lat','lon'})\n",
    "ts_trend = dif.sel(lon=slice(130,150),lat=slice(20,30)).mean({'lat','lon'})\n",
    "plt.plot(ts.time,ts0+ts_trend,linewidth=2,color='r',label='reconstructed0')\n",
    "plt.plot(ts.time,ts1+ts_trend,linewidth=2,color='m',label='reconstructed1')\n",
    "plt.plot(ts.time,ts2+ts_trend,linewidth=2,color='c',label='reconstructed2')\n",
    "plt.plot(ts.time,ts3+ts_trend,linewidth=2,color='g',label='reconstructed3')\n",
    "plt.plot(ts.time,ts4+ts_trend,linewidth=2,color='k',label='reconstructed4')\n",
    "plt.xlabel('Year')\n",
    "plt.ylabel('SST Anomaly (K)')\n",
    "plt.legend()\n",
    "plt.savefig('F:/data/project_data/fluxsat/korea/aug_sst_reconstructed.png')"
   ]
  },
  {
   "cell_type": "code",
   "execution_count": 39,
   "metadata": {},
   "outputs": [],
   "source": [
    "plt.plot(ts.time,ts0+ts_trend,linewidth=2,color='r',label='reconstructed1')\n",
    "plt.plot(ts.time,ts1+ts_trend,linewidth=2,color='m',label='reconstructed1')\n",
    "plt.plot(ts.time,ts2+ts_trend,linewidth=2,color='c',label='reconstructed1')\n",
    "plt.plot(ts.time,ts3+ts_trend,linewidth=2,color='g',label='reconstructed1')\n"
   ]
  },
  {
   "cell_type": "markdown",
   "metadata": {},
   "source": [
    "# what does buoy data look like?"
   ]
  },
  {
   "cell_type": "code",
   "execution_count": 40,
   "metadata": {},
   "outputs": [],
   "source": [
    "fname='https://dods.ndbc.noaa.gov/thredds/dodsC/data/stdmet/52211/52211.ncml'\n",
    "ds_buoy = xr.open_dataset(fname).rename({'latitude':'lat','longitude':'lon'})\n",
    "ds_buoy['mon']=ds_buoy.time.dt.month\n",
    "#ds_buoy"
   ]
  },
  {
   "cell_type": "code",
   "execution_count": 41,
   "metadata": {},
   "outputs": [],
   "source": [
    "ds_buoy_month = ds_buoy.resample(time='1MS').mean(keep_attrs=True,skipna=True)\n",
    "ds_buoy_month.sea_surface_temperature.plot()\n",
    "buoy_aug = ds_buoy_month.where(ds_buoy_month.mon==8,drop=True)\n",
    "buoy_aug.sea_surface_temperature.plot()"
   ]
  },
  {
   "cell_type": "code",
   "execution_count": 42,
   "metadata": {},
   "outputs": [],
   "source": [
    "#too slow\n",
    "buoy_clim = sst_climatology.sst.sel(lat=ds_buoy.lat,lon=ds_buoy.lon,method='nearest')\n",
    "sst_anomaly_buoy = ds_buoy.sea_surface_temperature.groupby('time.dayofyear')-buoy_clim[:,0,0]\n",
    "sst_anomaly_buoy_monthly = sst_anomaly_buoy.resample(time='1MS').mean(keep_attrs=True,skipna=True)\n",
    "sst_anomaly_buoy_monthly[10::12].plot()\n",
    "plt.ylabel('SST anomaly (K)')\n",
    "print(sst_anomaly_buoy_monthly[10::12].load().data[-1])"
   ]
  },
  {
   "cell_type": "markdown",
   "metadata": {},
   "source": [
    "# plot NOAA OI SST, reconstructed SST, and buoy SST all at buoy SST location\n",
    "- Just a note - if they don't agree there is something probably wrong because NOAA OI SSTs uses in situ data in their analysis"
   ]
  },
  {
   "cell_type": "code",
   "execution_count": 43,
   "metadata": {},
   "outputs": [],
   "source": [
    "fig = plt.figure(figsize=(15,6))\n",
    "ts = sst_anomaly_monthly.sst[11::12,:,:].sel(lat=ds_buoy.lat,lon=ds_buoy.lon,method='nearest')\n",
    "plt.plot(ts.time,ts[:,0,0],linewidth=2,color='b',label='data')\n",
    "ts = reconstructed_data4.sel(lat=ds_buoy.lat,lon=ds_buoy.lon,method='nearest')\n",
    "ts_trend = dif.sel(lat=ds_buoy.lat,lon=ds_buoy.lon,method='nearest')\n",
    "plt.plot(ts.time,ts[:,0,0]+ts_trend[:,0,0],linewidth=2,color='r',label='reconstructed')\n",
    "sst_anomaly_buoy_monthly[10::12].plot(color='k',marker='.',label='buoy')\n",
    "plt.xlabel('Year')\n",
    "plt.ylabel('SST Anomaly (K)')\n",
    "plt.legend()\n",
    "plt.savefig('F:/data/project_data/fluxsat/korea/aug_sst_reconstructed_buoy.png')"
   ]
  },
  {
   "cell_type": "markdown",
   "metadata": {},
   "source": [
    "# so what is going on? are all months warming like this?"
   ]
  },
  {
   "cell_type": "code",
   "execution_count": 44,
   "metadata": {},
   "outputs": [],
   "source": [
    "for imon in range(12):\n",
    "    imon2 = imon+4\n",
    "    sst = sst_anomaly_monthly.anom[imon2::12,:,:].load()  #monthly\n",
    "    sst_debias = sst - sst.mean({'time'})\n",
    "    sst2 = signal.detrend(sst_debias.fillna(0),axis=0,type='linear')\n",
    "    sst2 = xr.DataArray(sst2,dims=['time','lat','lon'],coords={'time':sst_debias.time,'lat':sst_debias.lat,'lon':sst_debias.lon})\n",
    "    sst2 = sst2.where(~np.isnan(sst))\n",
    "    dif = sst_debias-sst2 #cal difference between sst with bias removed and sst with trend removed\n",
    "    time0,time1='2010-'+str(imon+1).zfill(2)+'-01','2000-'+str(imon+1).zfill(2)+'-01'\n",
    "    ((dif.sel(time=time0)-dif.sel(time=time1))).plot(vmin=-1,vmax=1,cmap='RdBu_r',cbar_kwargs={'label': 'SST trend (K/decade)'})\n",
    "    plt.savefig('F:/data/project_data/fluxsat/korea/sst_trend_mon'+str(imon+1)+'.png')\n",
    "    plt.clf()\n",
    "    "
   ]
  },
  {
   "cell_type": "markdown",
   "metadata": {},
   "source": [
    "# when are SSTs warm enough for TCs?\n",
    "- TC require SST > 26.5  ref: https://journals.ametsoc.org/view/journals/clim/28/20/jcli-d-14-00637.1.xml\n",
    "- so write a function that calculates fraction of days in a month that SSTs >26.5\n",
    "- then once that is working, caluclate it for each year\n",
    "- then calculate if there is a trend in # days"
   ]
  },
  {
   "cell_type": "code",
   "execution_count": 45,
   "metadata": {},
   "outputs": [],
   "source": [
    "def fracdy(x):\n",
    "    return (((x.where(x>26.5)/x).sum({'time'}))/x.sizes['time'])\n",
    "def numdy(x):\n",
    "    return ((x.where(x>26.5)/x).sum({'time'}))\n",
    "frac = ds_sst.sst.groupby('time.month').map(fracdy)\n",
    "num = ds_sst.sst.groupby('time.month').map(numdy)"
   ]
  },
  {
   "cell_type": "code",
   "execution_count": 46,
   "metadata": {},
   "outputs": [],
   "source": [
    "frac_yr = []\n",
    "for lyr in range(1982,2021):\n",
    "    tem = ds_sst.sst.sel(time=str(lyr))\n",
    "    frac = tem.groupby('time.month').map(fracdy)\n",
    "    frac_yr.append(frac)\n",
    "frac_yr = xr.concat(frac_yr, dim='time')\n",
    "frac_yr['time']=np.arange(1982,2021)"
   ]
  },
  {
   "cell_type": "code",
   "execution_count": 47,
   "metadata": {},
   "outputs": [],
   "source": [
    "#r1,r2,r3,r4 = 120,145,15,25\n",
    "ts =frac_yr.isel(month=6).sel(lon=r2,lat=r4,method='nearest')\n",
    "f = (ts.sel(time=slice(2015,2020)).mean()-ts.sel(time=slice(1985,1990)).mean()).load()\n",
    "print(f)"
   ]
  },
  {
   "cell_type": "code",
   "execution_count": 48,
   "metadata": {},
   "outputs": [],
   "source": [
    "ts =frac_yr.isel(month=7)\n",
    "f = (ts.sel(time=slice(2015,2020)).mean('time')-ts.sel(time=slice(1985,1990)).mean('time')).load()\n",
    "fig = plt.figure(figsize=(15,6))\n",
    "ax = plt.axes(projection=ccrs.PlateCarree(central_longitude=180))\n",
    "f.plot(vmin=-.75,vmax=.75,cmap='RdBu_r',transform=ccrs.PlateCarree())\n",
    "#ax.set_extent([110, 150, 10, 60], crs=ccrs.PlateCarree())\n",
    "ax.coastlines('50m')\n",
    "ax.stock_img()"
   ]
  },
  {
   "cell_type": "code",
   "execution_count": 49,
   "metadata": {},
   "outputs": [],
   "source": [
    "ts.sel(lat=25,lon=145,method='nearest').plot()"
   ]
  },
  {
   "cell_type": "code",
   "execution_count": 50,
   "metadata": {},
   "outputs": [],
   "source": [
    "ts_debias = ts - ts.mean({'time'})\n",
    "ts2 = signal.detrend(ts_debias.fillna(0),axis=0,type='linear')"
   ]
  },
  {
   "cell_type": "code",
   "execution_count": 51,
   "metadata": {},
   "outputs": [],
   "source": [
    "time0,time1=2010,2000\n",
    "dif = ts_debias-ts2 #cal difference between sst with bias removed and sst with trend removed\n",
    "f = ((dif.sel(time=time0)-dif.sel(time=time1))) #.plot(vmin=-.25,vmax=.25,cmap='RdBu_r',cbar_kwargs={'label': 'SST trend (K/decade)'})\n",
    "fig = plt.figure(figsize=(15,6))\n",
    "ax = plt.axes(projection=ccrs.PlateCarree(central_longitude=180))\n",
    "f.plot(vmin=-.25,vmax=.25,cmap='RdBu_r',transform=ccrs.PlateCarree())\n",
    "#ax.set_extent([110, 150, 10, 60], crs=ccrs.PlateCarree())\n",
    "ax.coastlines('50m')\n",
    "ax.stock_img()"
   ]
  },
  {
   "cell_type": "code",
   "execution_count": 52,
   "metadata": {},
   "outputs": [],
   "source": [
    "big"
   ]
  },
  {
   "cell_type": "code",
   "execution_count": 53,
   "metadata": {},
   "outputs": [],
   "source": [
    "sub = ds_storm.where((ds_storm.max_wind>50) & (ds_storm.yr>1980))\n",
    "plt.scatter(sub.lon[:,0],sub.lat[:,0],c=sub.yr)\n",
    "plt.colorbar()"
   ]
  },
  {
   "cell_type": "code",
   "execution_count": null,
   "metadata": {},
   "outputs": [],
   "source": [
    "hh=[]\n",
    "for iyr in range(1980,2021):\n",
    "    sub = ds_storm.where((ds_storm.max_wind>50) & (ds_storm.yr==1980),drop=True)\n",
    "    h = plt.hist(sub.lat[:,0],bins=np.arange(0,40,2))\n",
    "    h1 = xr.DataArray(h[0]/sum(h[0]),coords={'lat':h[1][:-1]},dims=('lat'))\n",
    "    hh.append(h1)"
   ]
  },
  {
   "cell_type": "code",
   "execution_count": null,
   "metadata": {},
   "outputs": [],
   "source": [
    "h2 = xr.concat(hh,dim='year')"
   ]
  },
  {
   "cell_type": "code",
   "execution_count": null,
   "metadata": {},
   "outputs": [],
   "source": [
    "plt.plot(h2[:,0])"
   ]
  },
  {
   "cell_type": "code",
   "execution_count": null,
   "metadata": {},
   "outputs": [],
   "source": [
    "h"
   ]
  },
  {
   "cell_type": "code",
   "execution_count": null,
   "metadata": {},
   "outputs": [],
   "source": [
    "# can i get average sst at the locations the storms went over their first 5-10 days?\n",
    "big = ds_storm.where((ds_storm.max_cat>=3) & (ds_storm.yr>1982) & (ds_storm.mon==8),drop=True)\n",
    "big"
   ]
  },
  {
   "cell_type": "code",
   "execution_count": null,
   "metadata": {},
   "outputs": [],
   "source": [
    "#big2 is for all storms that START in august\n",
    "#sub2 is for all storms that have any data in august\n",
    "ds_storm['yr']=ds_storm.time[:,0].dt.year\n",
    "ds_storm['mon']=ds_storm.time[:,0].dt.month\n",
    "#subset to cat 3 & post 1982\n",
    "big = ds_storm.where((ds_storm.max_cat>=3) & (ds_storm.yr>1982),drop=True)\n",
    "#big2 = ds_storm.where((ds_storm.max_cat>=3) & (ds_storm.yr>1982) & (ds_storm.mon==8),drop=True)\n",
    "#big2a = ds_storm.where((ds_storm.max_cat>=3) & (ds_storm.yr>1982) & (ds_storm.mon==8) & (ds_storm.lon.max('date_time')<260) & (ds_storm.lat.max('date_time')>25),drop=True)\n"
   ]
  },
  {
   "cell_type": "markdown",
   "metadata": {},
   "source": [
    "# Plot SST anomalies along storm track"
   ]
  },
  {
   "cell_type": "code",
   "execution_count": null,
   "metadata": {},
   "outputs": [],
   "source": [
    "plt.scatter(big2.yr,big2.sst_anom.mean('date_time'),c=big2.max_cat)\n",
    "plt.colorbar()"
   ]
  },
  {
   "cell_type": "markdown",
   "metadata": {},
   "source": [
    "# Plot SSTs to check 26.5 threshold point. only use mean sst for first 20 obs."
   ]
  },
  {
   "cell_type": "code",
   "execution_count": null,
   "metadata": {},
   "outputs": [],
   "source": [
    "plt.scatter(big2.yr,big2.sst.isel(date_time=slice(0,20)).mean('date_time'),c=big2.max_cat)\n",
    "plt.colorbar()"
   ]
  },
  {
   "cell_type": "code",
   "execution_count": null,
   "metadata": {},
   "outputs": [],
   "source": [
    "#for i in range(63):\n",
    "#    tem=np.sum(np.isfinite(np.where(big2.wmo_wind[i,:]>10)))\n",
    "#    plt.scatter(big2.yr[i],tem)\n"
   ]
  },
  {
   "cell_type": "code",
   "execution_count": null,
   "metadata": {},
   "outputs": [],
   "source": [
    "plt.scatter(big2.yr,big2.numobs,c=big2.max_cat)\n",
    "plt.colorbar()"
   ]
  },
  {
   "cell_type": "code",
   "execution_count": null,
   "metadata": {},
   "outputs": [],
   "source": [
    "plt.scatter(big2.sst,big2.wmo_wind)\n",
    "plt.xlabel('SST ($\\circ$C)')\n",
    "plt.ylabel('Wind Speed (kts)')\n",
    "plt.colorbar()"
   ]
  }
 ],
 "metadata": {
  "anaconda-cloud": {},
  "celltoolbar": "Raw Cell Format",
  "kernelspec": {
   "display_name": "Python 3",
   "language": "python",
   "name": "python3"
  },
  "language_info": {
   "codemirror_mode": {
    "name": "ipython",
    "version": 3
   },
   "file_extension": ".py",
   "mimetype": "text/x-python",
   "name": "python",
   "nbconvert_exporter": "python",
   "pygments_lexer": "ipython3",
   "version": "3.8.6"
  }
 },
 "nbformat": 4,
 "nbformat_minor": 4
}
