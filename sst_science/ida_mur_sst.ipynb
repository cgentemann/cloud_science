{
 "cells": [
  {
   "cell_type": "code",
   "execution_count": null,
   "id": "mounted-showcase",
   "metadata": {},
   "outputs": [],
   "source": [
    "import xarray as xr\n",
    "import matplotlib.pyplot as plt\n",
    "file = 'https://podaac-opendap.jpl.nasa.gov/opendap/allData/ghrsst/data/GDS2/L4/GLOB/JPL/MUR/v4.1/2021/239/20210827090000-JPL-L4_GHRSST-SSTfnd-MUR-GLOB-v02.0-fv04.1.nc'\n",
    "#file = 'https://podaac-opendap.jpl.nasa.gov/opendap/allData/ghrsst/data/GDS2/L4/GLOB/JPL/MUR/v4.1/2021/240/20210828090000-JPL-L4_GHRSST-SSTfnd-MUR-GLOB-v02.0-fv04.1.nc'\n",
    "ds = xr.open_dataset(file)\n",
    "ds"
   ]
  },
  {
   "cell_type": "code",
   "execution_count": null,
   "id": "underlying-concentrate",
   "metadata": {},
   "outputs": [],
   "source": [
    "ds = ds.sel(lat=slice(10,38),lon=slice(-121,-65))\n",
    "ds = ds.where(ds.mask==1)\n",
    "sst = ds.analysed_sst.load()\n",
    "sst -= 273.15\n",
    "anom = ds.sst_anomaly.load()"
   ]
  },
  {
   "cell_type": "code",
   "execution_count": null,
   "id": "identical-stewart",
   "metadata": {},
   "outputs": [],
   "source": [
    "sst.plot(vmin=24,vmax=32,cmap='jet')\n",
    "plt.savefig('./../figs/anom8272021.png')"
   ]
  },
  {
   "cell_type": "code",
   "execution_count": null,
   "id": "available-basic",
   "metadata": {},
   "outputs": [],
   "source": [
    "anom.plot(vmin=-2,vmax=2,cmap='seismic')\n",
    "plt.savefig('./../figs/anom8272021.png')"
   ]
  },
  {
   "cell_type": "code",
   "execution_count": null,
   "id": "breathing-collar",
   "metadata": {},
   "outputs": [],
   "source": [
    "sst.plot(vmin=15,vmax=32,cmap='jet')\n",
    "plt.contour(sst[0,:,:], levels=[26.5]) "
   ]
  },
  {
   "cell_type": "code",
   "execution_count": null,
   "id": "champion-disposition",
   "metadata": {},
   "outputs": [],
   "source": [
    "import xarray as xr\n",
    "import matplotlib.pyplot as plt\n",
    "files = [\n",
    "'https://podaac-opendap.jpl.nasa.gov/opendap/allData/ghrsst/data/GDS2/L4/GLOB/JPL/MUR/v4.1/2021/240/20210828090000-JPL-L4_GHRSST-SSTfnd-MUR-GLOB-v02.0-fv04.1.nc',\n",
    "'https://podaac-opendap.jpl.nasa.gov/opendap/allData/ghrsst/data/GDS2/L4/GLOB/JPL/MUR/v4.1/2021/241/20210829090000-JPL-L4_GHRSST-SSTfnd-MUR-GLOB-v02.0-fv04.1.nc',\n",
    "'https://podaac-opendap.jpl.nasa.gov/opendap/allData/ghrsst/data/GDS2/L4/GLOB/JPL/MUR/v4.1/2021/242/20210830090000-JPL-L4_GHRSST-SSTfnd-MUR-GLOB-v02.0-fv04.1.nc',\n",
    "'https://podaac-opendap.jpl.nasa.gov/opendap/allData/ghrsst/data/GDS2/L4/GLOB/JPL/MUR/v4.1/2021/243/20210831090000-JPL-L4_GHRSST-SSTfnd-MUR-GLOB-v02.0-fv04.1.nc',\n",
    "'https://podaac-opendap.jpl.nasa.gov/opendap/allData/ghrsst/data/GDS2/L4/GLOB/JPL/MUR/v4.1/2021/244/20210901090000-JPL-L4_GHRSST-SSTfnd-MUR-GLOB-v02.0-fv04.1.nc',\n",
    "'https://podaac-opendap.jpl.nasa.gov/opendap/allData/ghrsst/data/GDS2/L4/GLOB/JPL/MUR/v4.1/2021/245/20210902090000-JPL-L4_GHRSST-SSTfnd-MUR-GLOB-v02.0-fv04.1.nc',\n",
    "'https://podaac-opendap.jpl.nasa.gov/opendap/allData/ghrsst/data/GDS2/L4/GLOB/JPL/MUR/v4.1/2021/246/20210903090000-JPL-L4_GHRSST-SSTfnd-MUR-GLOB-v02.0-fv04.1.nc']\n",
    "sub=[]\n",
    "for file in files:\n",
    "    ds = xr.open_dataset(file)\n",
    "    sub.append(ds.sel(lat=slice(25,31),lon=slice(-92,-80)))\n",
    "sub = xr.concat(sub, dim='time')\n",
    "sub = sub.where(sub.mask==1)"
   ]
  },
  {
   "cell_type": "code",
   "execution_count": null,
   "id": "separated-republic",
   "metadata": {},
   "outputs": [],
   "source": [
    "sub.sst_anomaly[6,:,:].plot(vmin=-1.5,vmax=1.5,cmap='seismic')\n",
    "plt.savefig('./../figs/anom9032021_zoom.png')"
   ]
  },
  {
   "cell_type": "code",
   "execution_count": null,
   "id": "departmental-reality",
   "metadata": {},
   "outputs": [],
   "source": [
    "sub.sst_anomaly.sel(lat=28,lon=-87,method='nearest').plot()\n",
    "plt.savefig('./../figs/anom_ts.png')"
   ]
  },
  {
   "cell_type": "code",
   "execution_count": null,
   "id": "parliamentary-leone",
   "metadata": {},
   "outputs": [],
   "source": [
    "#file = 'https://podaac-opendap.jpl.nasa.gov/opendap/allData/ghrsst/data/GDS2/L4/GLOB/JPL/MUR/v4.1/2021/240/20210828090000-JPL-L4_GHRSST-SSTfnd-MUR-GLOB-v02.0-fv04.1.nc'\n",
    "ds = xr.open_dataset(file)\n",
    "ds = ds.sel(lat=slice(10,38),lon=slice(-121,-65))\n",
    "ds = ds.where(ds.mask==1)\n",
    "anom = ds.sst_anomaly.load()\n",
    "anom.plot(vmin=-2,vmax=2,cmap='seismic')\n",
    "plt.savefig('./../figs/anom9032021.png')"
   ]
  },
  {
   "cell_type": "code",
   "execution_count": null,
   "id": "czech-birmingham",
   "metadata": {},
   "outputs": [],
   "source": [
    "file = 'https://podaac-opendap.jpl.nasa.gov/opendap/allData/ghrsst/data/GDS2/L4/GLOB/JPL/MUR/v4.1/2021/246/20210903090000-JPL-L4_GHRSST-SSTfnd-MUR-GLOB-v02.0-fv04.1.nc'\n",
    "ds = xr.open_dataset(file)\n",
    "ds = ds.sel(lat=slice(10,38),lon=slice(-121,-65))\n",
    "ds = ds.where(ds.mask==1)\n",
    "anom = ds.sst_anomaly.load()\n",
    "anom.plot(vmin=-2,vmax=2,cmap='seismic')\n",
    "plt.savefig('./../figs/anom9032021.png')\n",
    "sub = anom.sel(lat=slice(25,31),lon=slice(-92,-80))\n",
    "sub.plot()\n",
    "plt.savefig('./../figs/anom9032021_zoom.png')"
   ]
  },
  {
   "cell_type": "code",
   "execution_count": null,
   "id": "usual-interest",
   "metadata": {},
   "outputs": [],
   "source": []
  },
  {
   "cell_type": "code",
   "execution_count": null,
   "id": "amber-progressive",
   "metadata": {},
   "outputs": [],
   "source": [
    "#xr.plot.contour(sst[0,:,:],levels=[0,26.5,40])"
   ]
  },
  {
   "cell_type": "code",
   "execution_count": null,
   "id": "chubby-concrete",
   "metadata": {},
   "outputs": [],
   "source": [
    "#url = './../data/IBTrACS.NA.v04r00.nc'\n",
    "#ds_storm=xr.open_dataset(url)\n",
    "#irene = ds_storm.isel(storm=2092).isel(date_time=slice(0,78))\n",
    "#plt.scatter(irene.lon,irene.lat,c=irene.time.dt.dayofyear)\n",
    "#print('storm start and end:', irene.time[0].data,irene.time[-1].data)"
   ]
  },
  {
   "cell_type": "code",
   "execution_count": null,
   "id": "optical-nursing",
   "metadata": {},
   "outputs": [],
   "source": [
    "#url = 'https://www.ncei.noaa.gov/data/international-best-track-archive-for-climate-stewardship-ibtracs/v04r00/access/netcdf/IBTrACS.WP.v04r00.nc'\n",
    "url = './../data/IBTrACS.ACTIVE.v04r00.nc'\n",
    "\n",
    "ds_storm=xr.open_dataset(url)\n",
    "\n",
    "# the data isn't formatted very well & have to convert strings\n",
    "for var in ds_storm:\n",
    "    if not((ds_storm[var].dtype=='float32') or (ds_storm[var].dtype=='int16')):\n",
    "        ds_storm[var]=ds_storm[var].astype(str)\n",
    "\n",
    "#calculate max_wind for each storm, as an easy way to classify them\n",
    "#ds_storm['max_wind']=ds_storm.usa_wind.max(dim='date_time',skipna=True)\n",
    "#ds_storm['max_cat']=ds_storm.usa_sshs.max(dim='date_time',skipna=True)\n",
    "ds_storm['yr']=ds_storm.time[:,0].dt.year\n",
    "ds_storm['mon']=ds_storm.time[:,0].dt.month\n",
    "#ds_storm"
   ]
  },
  {
   "cell_type": "code",
   "execution_count": null,
   "id": "olive-genesis",
   "metadata": {},
   "outputs": [],
   "source": [
    "sub = ds_storm.where((ds_storm.yr==2021) & (ds_storm.name=='IDA'),drop=True)\n",
    "sub"
   ]
  },
  {
   "cell_type": "code",
   "execution_count": null,
   "id": "silent-scientist",
   "metadata": {},
   "outputs": [],
   "source": [
    "sst.plot(vmin=15,vmax=32,cmap='jet')\n",
    "plt.plot(sub.lon[0,:],sub.lat[0,:],'.-')"
   ]
  },
  {
   "cell_type": "code",
   "execution_count": null,
   "id": "labeled-section",
   "metadata": {},
   "outputs": [],
   "source": [
    "import pandas as pd"
   ]
  },
  {
   "cell_type": "code",
   "execution_count": null,
   "id": "informative-nickname",
   "metadata": {},
   "outputs": [],
   "source": [
    "file_ida = './../data/ida.csv'\n",
    "ida = pd.read_csv(file_ida)"
   ]
  },
  {
   "cell_type": "code",
   "execution_count": null,
   "id": "medieval-cookie",
   "metadata": {},
   "outputs": [],
   "source": [
    "sst.plot(vmin=15,vmax=32,cmap='jet')\n",
    "plt.plot(ida.lon.values,ida.lat.values)\n",
    "plt.scatter(ida.lon.values[::4],ida.lat.values[::4],marker='o',s=ida.wspd_mph[::4]*2,c=ida.wspd_mph[::4]*2,cmap='jet')\n",
    "plt.savefig('./../figs/anom8272021.png')"
   ]
  },
  {
   "cell_type": "code",
   "execution_count": null,
   "id": "wound-episode",
   "metadata": {},
   "outputs": [],
   "source": [
    "tem=[]\n",
    "for i in range(60):\n",
    "    val = ds.analysed_sst.sel(lat=ida.lat[i],lon=ida.lon[i])\n",
    "    tem.append(val[0].data)\n",
    "    #print(i,val.data)\n",
    "print(tem)\n",
    "tem3 = [float(i) for i in tem]\n",
    "tem3 = xr.DataArray(tem3)"
   ]
  },
  {
   "cell_type": "code",
   "execution_count": null,
   "id": "romantic-things",
   "metadata": {},
   "outputs": [],
   "source": [
    "import numpy as np\n",
    "fig,ax = plt.subplots()\n",
    "ax = plt.plot(ida.date[0:45],ida.wspd_mph[0:45])\n",
    "plt.xlabel(\"Date\",fontsize=14)\n",
    "plt.ylabel(\"Wind (mph)\",fontsize=14)\n",
    "plt.xticks(rotation = 45)\n",
    "locs, labels = plt.xticks()\n",
    "plt.xticks(locs[::4])\n",
    "ax2=plt.twinx()\n",
    "ax2.plot(ida.date[0:60],tem3,'r')\n",
    "ax2.set_ylabel('SST (C)',fontsize=14)\n",
    "locs, labels = plt.xticks()\n",
    "plt.xticks(locs[::4])\n",
    "plt.savefig('./../figs/ts_wnd_sst.png')"
   ]
  },
  {
   "cell_type": "code",
   "execution_count": null,
   "id": "acting-constitutional",
   "metadata": {},
   "outputs": [],
   "source": [
    "ida.wspd_mph"
   ]
  },
  {
   "cell_type": "code",
   "execution_count": null,
   "id": "improved-italy",
   "metadata": {},
   "outputs": [],
   "source": []
  }
 ],
 "metadata": {
  "kernelspec": {
   "display_name": "Python 3",
   "language": "python",
   "name": "python3"
  },
  "language_info": {
   "codemirror_mode": {
    "name": "ipython",
    "version": 3
   },
   "file_extension": ".py",
   "mimetype": "text/x-python",
   "name": "python",
   "nbconvert_exporter": "python",
   "pygments_lexer": "ipython3",
   "version": "3.8.6"
  }
 },
 "nbformat": 4,
 "nbformat_minor": 5
}
