{
 "cells": [
  {
   "cell_type": "code",
   "execution_count": null,
   "id": "curious-columbus",
   "metadata": {},
   "outputs": [],
   "source": [
    "import warnings\n",
    "import numpy as np\n",
    "import pandas as pd\n",
    "import xarray as xr\n",
    "import fsspec\n",
    "import cartopy.crs as ccrs\n",
    "import cartopy.feature as cfeature\n",
    "import cartopy.io.shapereader as shpreader\n",
    "import matplotlib.pyplot as plt\n",
    "import dask"
   ]
  },
  {
   "cell_type": "code",
   "execution_count": null,
   "id": "freelance-reminder",
   "metadata": {},
   "outputs": [],
   "source": [
    "#lib for dask gateway\n",
    "from dask_gateway import Gateway\n",
    "from dask.distributed import Client\n",
    "from dask import delayed\n",
    "gateway = Gateway()\n",
    "cluster = gateway.new_cluster()\n",
    "cluster.adapt(minimum=1, maximum=75)\n",
    "client = Client(cluster)\n",
    "cluster"
   ]
  },
  {
   "cell_type": "code",
   "execution_count": null,
   "id": "indie-monkey",
   "metadata": {},
   "outputs": [],
   "source": [
    "file_aws2 = 'https://mur-sst.s3.us-west-2.amazonaws.com/zarr'  #chunked for TS analysis\n",
    "ds = xr.open_zarr(file_aws2,consolidated=True)\n",
    "ds"
   ]
  },
  {
   "cell_type": "code",
   "execution_count": null,
   "id": "conventional-moscow",
   "metadata": {},
   "outputs": [],
   "source": [
    "subset = ds.analysed_sst.sel(time=slice('2003-01-01','2019-12-31'),lat=slice(10,38),lon=slice(-121,-65))\n",
    "subset = subset.chunk({'lat':200,'lon':200,'time':6209})\n",
    "subset"
   ]
  },
  {
   "cell_type": "code",
   "execution_count": null,
   "id": "multiple-partnership",
   "metadata": {},
   "outputs": [],
   "source": [
    "#subset[0,:,:].plot()"
   ]
  },
  {
   "cell_type": "code",
   "execution_count": null,
   "id": "rough-mattress",
   "metadata": {},
   "outputs": [],
   "source": [
    "%%time\n",
    "\n",
    "with dask.config.set(**{'array.slicing.split_large_chunks': False}):\n",
    "    clim = subset.groupby('time.dayofyear').mean('time',keep_attrs=True)\n",
    "\n",
    "#daily_clim=u.groupby('time.dayofyear').mean()\n",
    "#sst_anom = sst.groupby('time.day')-clim  #take out annual mean to remove trends\n",
    "\n",
    "#sst_anom = sst_anomaly.persist()\n"
   ]
  },
  {
   "cell_type": "code",
   "execution_count": null,
   "id": "foreign-insulin",
   "metadata": {},
   "outputs": [],
   "source": [
    "clim = clim.chunk({'lat':2801,'lon':5601,'dayofyear':1})"
   ]
  },
  {
   "cell_type": "code",
   "execution_count": null,
   "id": "preliminary-edwards",
   "metadata": {},
   "outputs": [],
   "source": [
    "subset_clim = clim.sel(dayofyear=slice(223,260)) # we only need aug - 10th sept anomaly\n",
    "subset_clim"
   ]
  },
  {
   "cell_type": "code",
   "execution_count": null,
   "id": "earned-resident",
   "metadata": {},
   "outputs": [],
   "source": [
    "#subset_clim.load()"
   ]
  },
  {
   "cell_type": "code",
   "execution_count": null,
   "id": "incredible-technician",
   "metadata": {},
   "outputs": [],
   "source": [
    "subset_clim.to_netcdf('./../../data/gulf_2003_2019_climatology.nc')"
   ]
  },
  {
   "cell_type": "code",
   "execution_count": null,
   "id": "green-growth",
   "metadata": {},
   "outputs": [],
   "source": []
  },
  {
   "cell_type": "code",
   "execution_count": null,
   "id": "general-consequence",
   "metadata": {},
   "outputs": [],
   "source": []
  }
 ],
 "metadata": {
  "kernelspec": {
   "display_name": "Python 3",
   "language": "python",
   "name": "python3"
  },
  "language_info": {
   "codemirror_mode": {
    "name": "ipython",
    "version": 3
   },
   "file_extension": ".py",
   "mimetype": "text/x-python",
   "name": "python",
   "nbconvert_exporter": "python",
   "pygments_lexer": "ipython3",
   "version": "3.8.6"
  }
 },
 "nbformat": 4,
 "nbformat_minor": 5
}
