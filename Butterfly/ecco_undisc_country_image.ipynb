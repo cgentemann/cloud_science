{
 "cells": [
  {
   "cell_type": "code",
   "execution_count": null,
   "metadata": {},
   "outputs": [],
   "source": [
    "#!pip install git+https://github.com/rabernat/xmitgcm.git@fix-llcreader-klevels-bug"
   ]
  },
  {
   "cell_type": "code",
   "execution_count": null,
   "metadata": {},
   "outputs": [],
   "source": [
    "import numpy as np\n",
    "import xmitgcm.llcreader as llcreader\n",
    "%matplotlib inline\n",
    "import holoviews as hv\n",
    "#from holoviews.operation.datashader import regrid\n",
    "#hv.extension('bokeh')\n",
    "import xarray as xr\n",
    "import matplotlib.pyplot as plt\n",
    "plt.rcParams['figure.figsize'] = (15,10)\n",
    "\n",
    "%matplotlib inline\n",
    "import holoviews as hv\n",
    "from holoviews.operation.datashader import regrid\n",
    "hv.extension('bokeh')"
   ]
  },
  {
   "cell_type": "code",
   "execution_count": null,
   "metadata": {},
   "outputs": [],
   "source": [
    "plt.rcParams['figure.figsize'] = (15,10)\n"
   ]
  },
  {
   "cell_type": "code",
   "execution_count": null,
   "metadata": {},
   "outputs": [],
   "source": [
    "model = llcreader.ECCOPortalLLC2160Model()\n",
    "model"
   ]
  },
  {
   "cell_type": "code",
   "execution_count": null,
   "metadata": {},
   "outputs": [],
   "source": [
    "ds_sst = model.get_dataset(varnames=['Theta'], k_levels=[0], type='latlon')\n",
    "ds_sst"
   ]
  },
  {
   "cell_type": "code",
   "execution_count": null,
   "metadata": {},
   "outputs": [],
   "source": [
    "#create a daily climatology and anomaly\n",
    "climatology_mean = ds_sst.groupby('time.dayofyear').mean('time',keep_attrs=True,skipna=False)\n",
    "ds_anomaly = ds_sst.groupby('time.dayofyear')-climatology_mean  #take out annual mean to remove trends\n",
    "anom = ds_anomaly.Theta.isel(k=0,time=6200,j=slice(4900,5400),i=slice(4600,5200)).load()"
   ]
  },
  {
   "cell_type": "code",
   "execution_count": null,
   "metadata": {},
   "outputs": [],
   "source": [
    "# okay, now in x direction smooth by radius, convolution ?\n",
    "noise = 1\n",
    "sst = ds_sst.Theta.isel(k=0,time=6200,j=slice(4900,5400),i=slice(4600,5200)).load()\n",
    "#create random array 0 to 1\n",
    "tem1a = (sst/sst)*np.random.rand(500,600)\n",
    "#tem1a.plot()\n",
    "#create linearly increasing random array\n",
    "tem2 = (sst/sst).load()\n",
    "for j in range(500):\n",
    "    tem2[j,:]=tem2[j,:]*((j/500)**3*noise)\n",
    "noise = tem1a*tem2\n",
    "sstnoise = sst+sst*noise\n",
    "anomsmooth=sstnoise.copy(deep=True).load()\n",
    "noisesmooth=sstnoise.copy(deep=True).load()\n",
    "for i in range(600):\n",
    "    w = int(i/20)+1 #window for smoothing\n",
    "    i1,i2=i-w+1,i+w\n",
    "    if i1<0:\n",
    "        i1=0\n",
    "    if i2>599:\n",
    "        i2=599\n",
    "    for j in range(500):\n",
    "        j1,j2=j-w+1,j+w\n",
    "        if j1<0:\n",
    "            j1=0\n",
    "        if j2>499:\n",
    "            j2=499\n",
    "        anomsmooth[j,i]=sst[j1:j2,i1:i2].mean()\n",
    "        noisesmooth[j,i]=noise[j1:j2,i1:i2].mean()\n",
    "    if int(i/100)*100==i:\n",
    "        print(i,600)\n",
    "anomsmooth.to_netcdf('anomsmooth45a.nc')\n",
    "noisesmooth.to_netcdf('noisemooth45a.nc')"
   ]
  },
  {
   "cell_type": "code",
   "execution_count": null,
   "metadata": {},
   "outputs": [],
   "source": [
    "anomsmooth=xr.open_dataset('anomsmooth45a.nc')\n",
    "noisesmooth=xr.open_dataset('noisemooth45a.nc')\n",
    "anomsmooth = anomsmooth['Theta']\n",
    "noisesmooth = noisesmooth['Theta']\n",
    "noisesmooth"
   ]
  },
  {
   "cell_type": "code",
   "execution_count": null,
   "metadata": {},
   "outputs": [],
   "source": [
    "import matplotlib.font_manager\n",
    "from IPython.core.display import HTML\n",
    "\n",
    "def make_html(fontname):\n",
    "    return \"<p>{font}: <span style='font-family:{font}; font-size: 24px;'>{font}</p>\".format(font=fontname)\n",
    "\n",
    "code = \"\\n\".join([make_html(font) for font in sorted(set([f.name for f in matplotlib.font_manager.fontManager.ttflist]))])\n",
    "\n",
    "HTML(\"<div style='column-count: 2;'>{}</div>\".format(code))"
   ]
  },
  {
   "cell_type": "code",
   "execution_count": null,
   "metadata": {},
   "outputs": [],
   "source": [
    "fontname='Arial Narrow'\n",
    "def make_html(fontname):\n",
    "    return \"<p>{font}: <span style='font-family:{font}; font-size: 24px;'>{font}</p>\".format(font=fontname)\n",
    "fn = make_html(fontname)\n",
    "fn"
   ]
  },
  {
   "cell_type": "code",
   "execution_count": null,
   "metadata": {},
   "outputs": [],
   "source": [
    "plt.rcParams['font.family'] = 'sans-serif'\n",
    "plt.rcParams['font.sans-serif'] = ['Arial']\n",
    "plt.rcParams['font.stretch'] = 'condensed'\n",
    "plt.rcParams['figure.figsize'] = (18,10)\n",
    "xx = np.arange(600)/600*260 \n",
    "xlabel = [20,60,100,140,180,220]\n",
    "yy = np.arange(500)/500*30+5\n",
    "ylabel = [10,20,30]\n",
    "dotx = [35,250,50,62,80,200,20]\n",
    "doty = [20,19,23,21,20,19,12.9]\n",
    "#doty = [17,18,32,22,25,18,11]\n",
    "plt.pcolormesh(xx,yy,anomsmooth+noisesmooth*anomsmooth,vmin=8,vmax=22,cmap='turbo',shading='auto')\n",
    "plt.scatter(dotx,doty)\n",
    "cc1 = 'darkblue'\n",
    "cc2=[176/250,228/250,229/250]\n",
    "plt.axvline(x=25,linestyle='-.',color=cc1)\n",
    "plt.text(153,9.6,'Science Requirement',size=30,color=cc1)\n",
    "plt.text(153,7.8,'15% Uncertainty',size=30,color=cc1)\n",
    "plt.text(153,6,'25 km Spatial Resolution',size=30,color=cc1)\n",
    "plt.scatter([150,150],[8.5,6.7],color=cc1)\n",
    "plt.text(33,13.2,'Butterfly',size=35,color=cc2)\n",
    "plt.text(33,11.4,'Projected Performance',size=30,color=cc2)\n",
    "plt.text(33,9.6,'13% Uncertainty',size=30,color=cc2)\n",
    "plt.text(33,8,'20 km Spatial Resolution',size=30,color=cc2)\n",
    "plt.scatter([30,30],[10.3,8.7],color=cc2)\n",
    "plt.axhline(y=15,color='darkblue',linestyle='-.')\n",
    "plt.tick_params(labelsize=30)\n",
    "plt.xlabel('Spatial Resolution (km)',size=30)\n",
    "plt.ylabel('Random Uncertainty \\n Latent + Sensible Heat Flux (%)',size=30)\n",
    "#plt.arrow(25,16.9,-3.5,-4.4,head_width=1,width=.02,color='w')\n",
    "plt.savefig('discovered_country_sst_smoothed_A_20210318.png')\n",
    "#plt.savefig('discovered_country_sst_smoothed_A_20210318.pdf')"
   ]
  },
  {
   "cell_type": "code",
   "execution_count": null,
   "metadata": {},
   "outputs": [],
   "source": [
    "plt.rcParams['font.family'] = 'sans-serif'\n",
    "plt.rcParams['font.sans-serif'] = ['Arial']\n",
    "plt.rcParams['font.stretch'] = 'condensed'\n",
    "plt.rcParams['figure.figsize'] = (18,10)\n",
    "xx = np.arange(600)/600*260 \n",
    "xlabel = [20,60,100,140,180,220]\n",
    "yy = np.arange(500)/500*30+5\n",
    "ylabel = [10,20,30]\n",
    "dotx = [35,250,50,62,80,200,20]\n",
    "doty = [20,19,23,21,20,19,12.9]\n",
    "#doty = [17,18,32,22,25,18,11]\n",
    "plt.pcolormesh(xx,yy,anomsmooth+noisesmooth*anomsmooth,vmin=8,vmax=22,cmap='turbo',shading='auto')\n",
    "plt.scatter(dotx,doty)\n",
    "cc1 = 'darkblue'\n",
    "cc2=[176/250,228/250,229/250]\n",
    "plt.axvline(x=25,linestyle='-.',color=cc1)\n",
    "plt.text(153,9.6,'Science Requirement',size=30,color=cc1,fontweight='bold')\n",
    "plt.text(153,7.8,'15%',size=30,color=cc1,fontweight='bold')\n",
    "plt.text(153,6,'25 km',size=30,color=cc1,fontweight='bold')\n",
    "plt.scatter([150,150],[8.5,6.7],color=cc1)\n",
    "plt.text(43,13.2,'Butterfly',size=35,color=cc2,fontweight='bold')\n",
    "plt.text(43,11.4,'Projected Performance',size=30,color=cc2,fontweight='bold')\n",
    "#plt.text(43,9.6,'13%',size=30,color=cc2,fontweight='bold')\n",
    "#plt.text(43,8,'20 km',size=30,color=cc2,fontweight='bold')\n",
    "#plt.scatter([40,40],[10.3,8.7],color=cc2)\n",
    "plt.plot([0,20],[12.9,12.9],color=cc2,linestyle='-.')\n",
    "plt.plot([20,20],[5,12.9],color=cc2,linestyle='-.')\n",
    "plt.axhline(y=15,color='darkblue',linestyle='-.')\n",
    "plt.arrow(40,12.9,-11,0,color=cc2,width=.5)\n",
    "plt.arrow(150,9,0,5,color=cc1,width=1.2,head_length=.8)\n",
    "plt.arrow(148,6.7,-120,0,color=cc1,width=.3)\n",
    "plt.scatter([20],[12.9],color=cc2,s=900)\n",
    "plt.tick_params(labelsize=30)\n",
    "plt.xlabel('Spatial Resolution (km)',size=30)\n",
    "plt.ylabel('Random Uncertainty \\n Latent + Sensible Heat Flux (%)',size=30)\n",
    "#plt.arrow(25,16.9,-3.5,-4.4,head_width=1,width=.02,color='w')\n",
    "plt.savefig('discovered_country_sst_smoothed_A_20210318a.png')\n",
    "#plt.savefig('discovered_country_sst_smoothed_A_20210318.pdf')"
   ]
  },
  {
   "cell_type": "code",
   "execution_count": null,
   "metadata": {},
   "outputs": [],
   "source": [
    "plt.rcParams['font.family'] = 'sans-serif'\n",
    "plt.rcParams['font.sans-serif'] = ['Arial']\n",
    "plt.rcParams['font.stretch'] = 'condensed'\n",
    "plt.rcParams['figure.figsize'] = (18,10)\n",
    "xx = np.arange(600)/600*260 \n",
    "xlabel = [20,60,100,140,180,220]\n",
    "yy = np.arange(500)/500*30+5\n",
    "ylabel = [10,20,30]\n",
    "dotx = [35,250,50,62,80,200,20]\n",
    "doty = [17,18,32,22,25,18,11]\n",
    "plt.pcolormesh(xx,yy,anomsmooth+noisesmooth*anomsmooth,vmin=8,vmax=22,cmap='turbo',shading='auto')\n",
    "plt.scatter(dotx,doty)\n",
    "plt.axvline(x=25,color='k')\n",
    "plt.text(25,5.5,'25 km Spatial Resolution Requirement',size=25)\n",
    "plt.axhline(y=16.9,color='darkblue',linestyle='-.')\n",
    "plt.text(55,15.5,'17% Uncertainty Requirement',size=25,color='darkblue')\n",
    "plt.tick_params(labelsize=30)\n",
    "plt.xlabel('Spatial Resolution (km)',size=30)\n",
    "plt.ylabel('Random Uncertainty \\n Latent + Sensible Heat Flux (%)',size=30)\n",
    "plt.arrow(25,16.9,-3.5,-4.4,head_width=1,width=.02,color='w')\n",
    "plt.savefig('discovered_country_sst_smoothed_A_20210208.png')\n",
    "plt.savefig('discovered_country_sst_smoothed_A_20210208.pdf')"
   ]
  },
  {
   "cell_type": "code",
   "execution_count": null,
   "metadata": {},
   "outputs": [],
   "source": [
    "\n"
   ]
  },
  {
   "cell_type": "code",
   "execution_count": null,
   "metadata": {},
   "outputs": [],
   "source": []
  }
 ],
 "metadata": {
  "kernelspec": {
   "display_name": "Python 3",
   "language": "python",
   "name": "python3"
  },
  "language_info": {
   "codemirror_mode": {
    "name": "ipython",
    "version": 3
   },
   "file_extension": ".py",
   "mimetype": "text/x-python",
   "name": "python",
   "nbconvert_exporter": "python",
   "pygments_lexer": "ipython3",
   "version": "3.7.10"
  }
 },
 "nbformat": 4,
 "nbformat_minor": 4
}
