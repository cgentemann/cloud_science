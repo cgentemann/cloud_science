{
 "cells": [
  {
   "cell_type": "code",
   "execution_count": null,
   "metadata": {},
   "outputs": [],
   "source": [
    "import xarray as xr\n",
    "from glob import glob\n",
    "from os import path\n",
    "import os\n",
    "import numpy as np\n"
   ]
  },
  {
   "cell_type": "markdown",
   "metadata": {},
   "source": [
    "# Create list of CCMP filenames"
   ]
  },
  {
   "cell_type": "code",
   "execution_count": null,
   "metadata": {},
   "outputs": [],
   "source": [
    "dir_pattern = 'F:/data/sat_data/ccmp/v02.0/'\n",
    "dir_pattern_zarr = 'F:/data/sat_data/ccmp/zarr2/'\n",
    "pattern = 'F:/data/sat_data/ccmp/v02.0/*/*/*_V02.0_L3.0_RSS.nc'"
   ]
  },
  {
   "cell_type": "code",
   "execution_count": null,
   "metadata": {},
   "outputs": [],
   "source": [
    "files = [x for x in glob(pattern)]\n",
    "print(files[0])\n",
    "print(files[-1])"
   ]
  },
  {
   "cell_type": "code",
   "execution_count": null,
   "metadata": {
    "jupyter": {
     "source_hidden": true
    },
    "scrolled": true
   },
   "outputs": [],
   "source": [
    "%%time\n",
    "#list files\n",
    "files = [x for x in glob(pattern)]\n",
    "#open dataset\n",
    "ds=xr.open_mfdataset(files,combine='nested',concat_dim='time',decode_cf=False,mask_and_scale=False)\n",
    "# if you don't need all the variables, drop extra ones here\n",
    "# ds = ds.drop({'nobs'})\n",
    "ds.close()"
   ]
  },
  {
   "cell_type": "code",
   "execution_count": null,
   "metadata": {},
   "outputs": [],
   "source": [
    "#remove any duplicates -- CCMP has both NRT and RT data so some files are duplicates -- \n",
    "# this returns 1st occurance check this is what you want\n",
    "_, index = np.unique(ds['time'], return_index=True)\n",
    "ds = ds.isel(time=index)"
   ]
  },
  {
   "cell_type": "markdown",
   "metadata": {},
   "source": [
    "# Set Chunk Size Here\n",
    "\n",
    "- you want chunks of about 100mb"
   ]
  },
  {
   "cell_type": "code",
   "execution_count": null,
   "metadata": {},
   "outputs": [],
   "source": [
    "#rechunck data      #cci SUGGESTION\n",
    "itime_chunk = 2000   #200\n",
    "ilat_chunk = 157    #300\n",
    "ilon_chunk = 180    #600\n",
    "\n",
    "ds = ds.chunk({'time':itime_chunk,'latitude':ilat_chunk,'longitude':ilon_chunk})\n",
    "\n",
    "ds"
   ]
  },
  {
   "cell_type": "code",
   "execution_count": null,
   "metadata": {},
   "outputs": [],
   "source": [
    "%%time\n",
    "#only need to run once to write data\n",
    "ds.to_zarr(dir_pattern_zarr, consolidated=True)"
   ]
  },
  {
   "cell_type": "markdown",
   "metadata": {},
   "source": [
    "# Test reading zarr file and making some plots"
   ]
  },
  {
   "cell_type": "code",
   "execution_count": null,
   "metadata": {},
   "outputs": [],
   "source": [
    "%%time\n",
    "dir_pattern_zarr = 'F:/data/sat_data/ccmp/zarr2/'\n",
    "ds2= xr.open_zarr(dir_pattern_zarr)\n",
    "ts = ds2.uwnd.sel(latitude=slice(-60,0),longitude=slice(70,180)).mean({'latitude','longitude'}).plot()\n"
   ]
  },
  {
   "cell_type": "code",
   "execution_count": null,
   "metadata": {},
   "outputs": [],
   "source": [
    "%%time\n",
    "dir_pattern_zarr = 'F:/data/sat_data/ccmp/zarr/'\n",
    "ds2= xr.open_zarr(dir_pattern_zarr)\n",
    "ts = ds2.uwnd.sel(latitude=slice(-60,0),longitude=slice(70,180)).mean({'latitude','longitude'}).plot()\n"
   ]
  },
  {
   "cell_type": "markdown",
   "metadata": {},
   "source": [
    "# upload to S3"
   ]
  },
  {
   "cell_type": "code",
   "execution_count": null,
   "metadata": {},
   "outputs": [],
   "source": [
    "#! pip install awscli \n",
    "! aws s3 sync F:\\data\\sat_data\\ccmp\\zarr\\ s3://cmc-sst/zarr"
   ]
  },
  {
   "cell_type": "markdown",
   "metadata": {},
   "source": [
    "# update in place and then on AWS"
   ]
  },
  {
   "cell_type": "code",
   "execution_count": null,
   "metadata": {},
   "outputs": [],
   "source": [
    "import xarray as xr\n",
    "from glob import glob\n",
    "from os import path\n",
    "import os\n",
    "import numpy as np\n",
    "\n",
    "dir_pattern = 'F:/data/sat_data/ccmp/v02.0/'\n",
    "dir_pattern_zarr = 'F:/data/sat_data/ccmp/zarr2/'\n",
    "pattern = 'F:/data/sat_data/ccmp/v02.0/*/*/*_V02.0_L3.0_RSS.nc'\n",
    "\n",
    "files = glob(pattern)\n",
    "print(files[0])\n",
    "print(files[-1])\n"
   ]
  },
  {
   "cell_type": "code",
   "execution_count": null,
   "metadata": {},
   "outputs": [],
   "source": [
    "ds_old = xr.open_zarr(dir_pattern_zarr, consolidated=True,decode_cf=False)\n",
    "ds_old.close()\n",
    "lasttime=ds_old.time[-1] + 1#+np.timedelta64(1, 'D')\n",
    "print(lasttime.data)\n",
    "ds_old"
   ]
  },
  {
   "cell_type": "code",
   "execution_count": null,
   "metadata": {},
   "outputs": [],
   "source": [
    "ds_old.time[-4:].data"
   ]
  },
  {
   "cell_type": "code",
   "execution_count": null,
   "metadata": {},
   "outputs": [],
   "source": [
    "ds=xr.open_mfdataset(files[-60:],combine='nested',concat_dim='time',decode_cf=False,mask_and_scale=False)\n",
    "ds.close()\n",
    "ds_all = ds\n",
    "#remove any duplicates\n",
    "_, index = np.unique(ds_all['time'], return_index=True)\n",
    "ds_all=ds_all.isel(time=index)\n",
    "#rechunck data  #data in int16 = 2 bytes \n",
    "itime_chunk = 2000   #200\n",
    "ilat_chunk = 157    #300\n",
    "ilon_chunk = 180    #600\n",
    "ds_all = ds_all.chunk({'time':itime_chunk,'latitude':ilat_chunk,'longitude':ilon_chunk})\n",
    "ds_new = ds_all.sel(time=slice(lasttime,9999999))\n",
    "ds_new = xr.decode_cf(ds_new)\n"
   ]
  },
  {
   "cell_type": "code",
   "execution_count": null,
   "metadata": {},
   "outputs": [],
   "source": [
    "print(ds_old.time[-4:].data)\n",
    "print(ds_new.time[:4].data)"
   ]
  },
  {
   "cell_type": "code",
   "execution_count": null,
   "metadata": {},
   "outputs": [],
   "source": [
    "ds_new.to_netcdf('f:/tem/ccmp.nc')\n",
    "ds_new.to_zarr(dir_pattern_zarr, mode='a',append_dim='time', consolidated=True) #\n"
   ]
  },
  {
   "cell_type": "code",
   "execution_count": null,
   "metadata": {},
   "outputs": [],
   "source": [
    "ds_old = xr.open_zarr(dir_pattern_zarr, consolidated=True)\n",
    "ds_old.close()\n",
    "ds_old"
   ]
  },
  {
   "cell_type": "code",
   "execution_count": null,
   "metadata": {},
   "outputs": [],
   "source": [
    "ds_old.uwnd[-1,:,:].plot()"
   ]
  },
  {
   "cell_type": "code",
   "execution_count": null,
   "metadata": {},
   "outputs": [],
   "source": []
  }
 ],
 "metadata": {
  "kernelspec": {
   "display_name": "Python 3",
   "language": "python",
   "name": "python3"
  },
  "language_info": {
   "codemirror_mode": {
    "name": "ipython",
    "version": 3
   },
   "file_extension": ".py",
   "mimetype": "text/x-python",
   "name": "python",
   "nbconvert_exporter": "python",
   "pygments_lexer": "ipython3",
   "version": "3.7.10"
  }
 },
 "nbformat": 4,
 "nbformat_minor": 4
}
