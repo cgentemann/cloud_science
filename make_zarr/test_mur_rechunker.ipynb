{
 "cells": [
  {
   "cell_type": "code",
   "execution_count": null,
   "metadata": {},
   "outputs": [],
   "source": [
    "from rechunker import rechunk\n",
    "import s3fs\n",
    "#import xarray as xr\n",
    "import zarr\n",
    "import dask.array as dsa\n",
    "import shutil\n",
    "from dask.diagnostics import ProgressBar\n",
    "import numpy as np\n",
    "import xarray as xr\n",
    "import os\n",
    "import fsspec\n",
    "import pandas as pd"
   ]
  },
  {
   "cell_type": "code",
   "execution_count": null,
   "metadata": {},
   "outputs": [],
   "source": [
    "#from dask_gateway import Gateway\n",
    "#from dask.distributed import Client"
   ]
  },
  {
   "cell_type": "code",
   "execution_count": null,
   "metadata": {},
   "outputs": [],
   "source": [
    "#gateway = Gateway()\n",
    "#cluster = gateway.new_cluster(worker_memory=8)\n",
    "#cluster.adapt(minimum=1, maximum=60)\n",
    "#client = Client(cluster)\n",
    "#cluster"
   ]
  },
  {
   "cell_type": "code",
   "execution_count": null,
   "metadata": {},
   "outputs": [],
   "source": [
    "file_aws = 'https://mur-sst.s3.us-west-2.amazonaws.com/zarr-v1'\n",
    "file_aws2 = 'https://mur-sst.s3.us-west-2.amazonaws.com/zarr'\n",
    "fout3 = 'data/test_subset_v2.zarr'\n",
    "rechunk_location = 'noaa-oisstv02r1/newgroupv2.zarr'\n",
    "tmp_location = 'noaa-oisstv02r1/tmpv2.zarr'\n",
    "\n",
    "# create a subset of the data to test rechunker\n",
    "ds_aws = xr.open_zarr(file_aws,consolidated=True) #read in data\n",
    "ds_aws = ds_aws.isel(time=slice(0,20),lat=slice(6000,7000),lon=slice(19000,20000)) #subset to reasonable size\n",
    "ds_aws.to_zarr(fout3,consolidated=True)  #output data\n",
    "xlat,xlon = -26,18\n",
    "print('v1',ds_aws.analysed_sst.sel(lat=xlat,lon=xlon).isel(time=0).compute().data)"
   ]
  },
  {
   "cell_type": "code",
   "execution_count": null,
   "metadata": {},
   "outputs": [],
   "source": [
    "# load the data\n",
    "ds_zarr = zarr.open_consolidated(fout3, mode='r')\n",
    "print(zarr.tree(ds_zarr))"
   ]
  },
  {
   "cell_type": "code",
   "execution_count": null,
   "metadata": {},
   "outputs": [],
   "source": [
    "#rechunker plan\n",
    "#s3 = s3fs.S3FileSystem(client_kwargs=dict(region_name='us-east-2'), default_fill_cache=False, skip_instance_cache=True)\n",
    "\n",
    "s3 = s3fs.S3FileSystem(client_kwargs=dict(region_name='us-west-2'),anon=False, default_fill_cache=False, skip_instance_cache=True)\n",
    "\n",
    "s3_rechunk_store = s3fs.S3Map(root=rechunk_location, create=True, s3=s3)\n",
    "\n",
    "# Note this path must exist in S3 or will raise rechunker assertion, `assert temp_store_or_group is not None`\n",
    "s3_tmp_store     = s3fs.S3Map(root=tmp_location, create=True, s3=s3)\n"
   ]
  },
  {
   "cell_type": "code",
   "execution_count": null,
   "metadata": {},
   "outputs": [],
   "source": [
    "target_chunks = {\n",
    "    'analysed_sst': {'time': 20, 'lat': 100, 'lon': 100},\n",
    "    'analysis_error': {'time': 20, 'lat': 100, 'lon': 100},\n",
    "    'mask': {'time': 20, 'lat': 100, 'lon': 100},\n",
    "    'sea_ice_fraction': {'time': 20, 'lat': 100, 'lon': 100},\n",
    "    'lat': None,\n",
    "    'lon': None,\n",
    "    'time': None\n",
    "}\n",
    "max_mem = '2GB'\n",
    "\n",
    "array_plan = rechunk(ds_zarr, target_chunks, max_mem, s3_rechunk_store, s3_tmp_store)\n",
    "array_plan"
   ]
  },
  {
   "cell_type": "code",
   "execution_count": null,
   "metadata": {},
   "outputs": [],
   "source": [
    "## CHECK filename here DOES This have nan or fill_value?\n",
    "ds_aws = xr.open_zarr(s3_rechunk_store,consolidated=True) #read in data\n",
    "xlat,xlon = -26,18\n",
    "print('v1',ds_aws.analysed_sst.sel(lat=xlat,lon=xlon).isel(time=0).compute().data)"
   ]
  },
  {
   "cell_type": "code",
   "execution_count": null,
   "metadata": {},
   "outputs": [],
   "source": []
  }
 ],
 "metadata": {
  "kernelspec": {
   "display_name": "Python 3",
   "language": "python",
   "name": "python3"
  },
  "language_info": {
   "codemirror_mode": {
    "name": "ipython",
    "version": 3
   },
   "file_extension": ".py",
   "mimetype": "text/x-python",
   "name": "python",
   "nbconvert_exporter": "python",
   "pygments_lexer": "ipython3",
   "version": "3.8.6"
  }
 },
 "nbformat": 4,
 "nbformat_minor": 4
}
