{
 "cells": [
  {
   "cell_type": "code",
   "execution_count": null,
   "metadata": {},
   "outputs": [],
   "source": [
    "import pandas as pd\n",
    "import xarray as xr\n",
    "import numpy as np\n",
    "\n",
    "\n",
    "adir = 'F:/tem/' #where you want to put these test files\n",
    "\n",
    "#create dummy netcdf data\n",
    "ds1 = xr.Dataset(\n",
    "    {\"foo\": ((\"x\", \"y\", \"t\"), np.random.rand(4, 5, 2),{'long_name':'foobar'})},\n",
    "    coords={\n",
    "        \"x\": [10, 20, 30, 40],\n",
    "        \"y\": [1, 2, 3, 4, 5],\n",
    "        \"t\": pd.date_range(\"2001-01-01\", periods=2),\n",
    "    }\n",
    ")\n",
    "ds1.to_netcdf(adir+\"test_with_attr.nc\",encoding={'foo': {'dtype': 'int8', 'add_offset': 3,'scale_factor': 0.1, '_FillValue': -9999}})\n",
    "\n",
    "#create dummy netcdf data file with additional data\n",
    "ds2 = xr.Dataset(\n",
    "    {\"foo\": ((\"x\", \"y\", \"t\"), np.random.rand(4, 5, 2),{'longname':'foobar'})},\n",
    "    coords={\n",
    "        \"x\": [10, 20, 30, 40],\n",
    "        \"y\": [1, 2, 3, 4, 5],\n",
    "        \"t\": pd.date_range(\"2001-01-03\", periods=2),\n",
    "    },\n",
    ")\n",
    "ds2.to_netcdf(adir+\"test_with_attr_more.nc\",encoding={'foo': {'dtype': 'int8', 'add_offset': 3,'scale_factor': 0.1, '_FillValue': -9999}})"
   ]
  },
  {
   "cell_type": "code",
   "execution_count": null,
   "metadata": {},
   "outputs": [],
   "source": [
    "#read in first part of data & create zarr store\n",
    "#do not decode stuff because you want zarr store to be == netcdf store\n",
    "\n",
    "ds1=xr.open_dataset(adir+'test_with_attr.nc',decode_cf=False,mask_and_scale=False)\n",
    "ds1.close()\n",
    "ds1.to_zarr(adir+'test_with_attr.zarr',consolidated=True)\n"
   ]
  },
  {
   "cell_type": "code",
   "execution_count": null,
   "metadata": {},
   "outputs": [],
   "source": [
    "#read in data to append & append to zarr store\n",
    "#YOU WILL GET ERROR:\n",
    "#ValueError: failed to prevent overwriting existing key add_offset in attrs. \n",
    "#This is probably an encoding field used by xarray to describe how a variable is serialized. \n",
    "#To proceed, remove this key from the variable's attributes manually.\n",
    "\n",
    "ds2=xr.open_dataset(adir+'test_with_attr_more.nc',decode_cf=False,mask_and_scale=False)\n",
    "ds2.close()\n",
    "ds2.to_zarr(adir+'test_with_attr.zarr',consolidated=True,mode='a',append_dim='t',)\n"
   ]
  },
  {
   "cell_type": "code",
   "execution_count": null,
   "metadata": {},
   "outputs": [],
   "source": [
    "#comment out the ds2.to_zarr above & run again\n",
    "\n",
    "#If you followed this advice you could do this:\n",
    "for var in ds2:\n",
    "    tem = ds2[var].attrs\n",
    "    tem.pop('add_offset')\n",
    "    tem.pop('scale_factor')\n",
    "    tem.pop('_FillValue')\n",
    "    ds2[var].attrs=tem\n",
    "ds2.to_zarr('F:/tem/test_with_attr.zarr',consolidated=True,mode='a',append_dim='t',)\n",
    "\n",
    "#BUT this is a problem, if you read in the data, now the appended data isn't scaled right\n",
    "ds2 = xr.open_zarr('F:/tem/test_with_attr.zarr',consolidated=True)\n",
    "ds2\n",
    "\n",
    "# the correct way to do this:\n",
    "ds2=xr.open_dataset('F:/tem/test_with_attr_more.nc',decode_cf=False,mask_and_scale=False)\n",
    "ds2.close()\n",
    "ds2 = xr.decode_cf(ds2) #you can either decode here or take out the decode_cf=False above\n",
    "ds2.to_zarr('F:/tem/test_with_attr.zarr',consolidated=True,mode='a',append_dim='t',)\n",
    "\n"
   ]
  },
  {
   "cell_type": "code",
   "execution_count": null,
   "metadata": {},
   "outputs": [],
   "source": []
  },
  {
   "cell_type": "code",
   "execution_count": null,
   "metadata": {},
   "outputs": [],
   "source": []
  }
 ],
 "metadata": {
  "kernelspec": {
   "display_name": "Python 3",
   "language": "python",
   "name": "python3"
  },
  "language_info": {
   "codemirror_mode": {
    "name": "ipython",
    "version": 3
   },
   "file_extension": ".py",
   "mimetype": "text/x-python",
   "name": "python",
   "nbconvert_exporter": "python",
   "pygments_lexer": "ipython3",
   "version": "3.7.10"
  }
 },
 "nbformat": 4,
 "nbformat_minor": 4
}
