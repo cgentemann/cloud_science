{
 "cells": [
  {
   "cell_type": "markdown",
   "id": "238d43b0-1aa1-456e-a562-205d2e0c46a9",
   "metadata": {},
   "source": [
    "# Fast read of AWS cloud MUR SST\n",
    "\n",
    "10/5/2021\n",
    "\n",
    "NASA JPL PODAAC has put the entire [MUR SST](https://podaac.jpl.nasa.gov/dataset/MUR-JPL-L4-GLOB-v4.1) dataset on AWS cloud as individual netCDF files, **but all ~7000 of them are netCDF files.**\\ Accessing one file works well, but accessing multiple files is **very slow** because the metadata for each file has to be queried. Here, we create **fast access** by consolidating the metadata and accessing the entire dataset rapidly via zarr. More background on this project:\n",
    "[medium article](https://medium.com/pangeo/fake-it-until-you-make-it-reading-goes-netcdf4-data-on-aws-s3-as-zarr-for-rapid-data-access-61e33f8fe685) and in this [repo](https://github.com/lsterzinger/fsspec-reference-maker-tutorial). We need help developing documentation and more test datasets. If you want to help, we are working in the [Pangeo Gitter](https://gitter.im/pangeo-data/cloud-performant-netcdf4).\n",
    "\n",
    "To run this code:\n",
    "- you need to set up your `.netrc` file in your home directory with your earthdata login info\n",
    "\n",
    "Authors:\n",
    "- [Chelle Gentemann](https://github.com/cgentemann)\n",
    "- [Rich Signell](https://github.com/rsignell-usgs)\n",
    "- [Lucas Steringzer](https://github.com/lsterzinger/)\n",
    "- [Martin Durant](https://github.com/martindurant)\n",
    "\n",
    "Credit:\n",
    "- Funding: Interagency Implementation and Advanced Concepts Team [IMPACT](https://earthdata.nasa.gov/esds/impact) for the Earth Science Data Systems (ESDS) program and AWS Public Dataset Program\n",
    "- AWS Credit Program\n",
    "- ESIP Hub"
   ]
  },
  {
   "cell_type": "code",
   "execution_count": null,
   "id": "2714f117-5c68-4d16-a54f-f5be7a0c65d9",
   "metadata": {},
   "outputs": [],
   "source": [
    "from urllib import request\n",
    "from http.cookiejar import CookieJar\n",
    "import s3fs\n",
    "import requests\n",
    "import netrc\n",
    "from os.path import dirname, join\n",
    "from io import StringIO\n",
    "import xarray as xr"
   ]
  },
  {
   "cell_type": "code",
   "execution_count": null,
   "id": "a5690817-aaba-4aed-9e82-985796bdb71d",
   "metadata": {},
   "outputs": [],
   "source": [
    "#consolidated metadata file is in a public s3 bucket\n",
    "rpath = 's3://esip-qhub-public/nasa/mur/mur_consolidated_test.json'"
   ]
  },
  {
   "cell_type": "code",
   "execution_count": null,
   "id": "aeb56d98-7764-4e4f-aeb5-95d15d272c50",
   "metadata": {},
   "outputs": [],
   "source": [
    "#########Setting up earthdata login credentials \n",
    "# this code is from https://github.com/podaac/tutorials/blob/master/notebooks/cloudwebinar/cloud_direct_access_s3.py\n",
    "def setup_earthdata_login_auth(endpoint):\n",
    "    \"\"\"\n",
    "    Set up the request library so that it authenticates against the given Earthdata Login\n",
    "    endpoint and is able to track cookies between requests.  This looks in the .netrc file \n",
    "    first and if no credentials are found, it prompts for them.\n",
    "    Valid endpoints:\n",
    "        urs.earthdata.nasa.gov - Earthdata Login production\n",
    "    \"\"\"\n",
    "    try:\n",
    "        username, _, password = netrc.netrc().authenticators(endpoint)\n",
    "    except (FileNotFoundError, TypeError):\n",
    "        # FileNotFound = There's no .netrc file\n",
    "        # TypeError = The endpoint isn't in the netrc file, causing the above to try unpacking None\n",
    "        print(\"There's no .netrc file or the The endpoint isn't in the netrc file\")\n",
    "\n",
    "    manager = request.HTTPPasswordMgrWithDefaultRealm()\n",
    "    manager.add_password(None, endpoint, username, password)\n",
    "    auth = request.HTTPBasicAuthHandler(manager)\n",
    "\n",
    "    jar = CookieJar()\n",
    "    processor = request.HTTPCookieProcessor(jar)\n",
    "    opener = request.build_opener(auth, processor)\n",
    "    request.install_opener(opener)\n",
    "\n",
    "###############################################################################\n",
    "edl=\"urs.earthdata.nasa.gov\"\n",
    "setup_earthdata_login_auth(edl)\n",
    "\n",
    "def begin_s3_direct_access():\n",
    "    url=\"https://archive.podaac.earthdata.nasa.gov/s3credentials\"\n",
    "    response = requests.get(url).json()\n",
    "    return s3fs.S3FileSystem(key=response['accessKeyId'],secret=response['secretAccessKey'],token=response['sessionToken'],client_kwargs={'region_name':'us-west-2'})\n"
   ]
  },
  {
   "cell_type": "markdown",
   "id": "121344a2-27c8-4dff-8533-7a35f5c90ba7",
   "metadata": {},
   "source": [
    "# OLD SCHOOL: Accessing MUR SST via netcdf\n",
    "1. Create a list of filenames\n",
    "1. Test time to open 1 file\n",
    "1. Test time to open 10 files\n",
    "1. Calculate timeseries for global mean for 10 days"
   ]
  },
  {
   "cell_type": "code",
   "execution_count": null,
   "id": "2faef6d9-e554-4ea4-a90b-443b6c687c15",
   "metadata": {},
   "outputs": [],
   "source": [
    "%%time    \n",
    "#create list of filenames for 10 days\n",
    "fs = begin_s3_direct_access()\n",
    "flist = []\n",
    "for lyr in range(2015,1016):\n",
    "    for imon in range(1,2):\n",
    "        fstr = str(lyr)+str(imon).zfill(2)+'*.nc'\n",
    "        files = fs.glob(join(\"podaac-ops-cumulus-protected/\", \"MUR-JPL-L4-GLOB-v4.1\", fstr))\n",
    "        for file in files:\n",
    "            flist.append(file)\n",
    "#flist = flist[0:10] #only get first 10 files\n",
    "print('total number of individual netcdf files:',len(flist))"
   ]
  },
  {
   "cell_type": "code",
   "execution_count": null,
   "id": "b951787f-33e5-44df-b79d-014b03f9136c",
   "metadata": {},
   "outputs": [],
   "source": [
    "%%time   \n",
    "# open 1 file\n",
    "ds = xr.open_dataset(flist[0])\n",
    "ds"
   ]
  },
  {
   "cell_type": "code",
   "execution_count": null,
   "id": "cd2c3f2c-420c-42ba-b870-667f0056d373",
   "metadata": {},
   "outputs": [],
   "source": [
    "%%time\n",
    "# open 10 files\n",
    "ds = xr.open_mfdataset(flist,combine='by_coords')\n",
    "ds"
   ]
  },
  {
   "cell_type": "code",
   "execution_count": null,
   "id": "39a666a6-36ca-40eb-b4f6-131d0ef1fb79",
   "metadata": {},
   "outputs": [],
   "source": []
  },
  {
   "cell_type": "markdown",
   "id": "d1572bc7-9aa9-4849-80bd-467a548b7269",
   "metadata": {},
   "source": [
    "# Consolidated metadata zarr access\n",
    "- Use public metadata file. That is it."
   ]
  },
  {
   "cell_type": "code",
   "execution_count": null,
   "id": "c7b87cff-f691-4898-a968-a20b1708d07f",
   "metadata": {},
   "outputs": [],
   "source": [
    "url=\"https://archive.podaac.earthdata.nasa.gov/s3credentials\"\n",
    "response = requests.get(url).json()"
   ]
  },
  {
   "cell_type": "code",
   "execution_count": null,
   "id": "4176ba28-73f5-4935-b668-098f6e4644b9",
   "metadata": {},
   "outputs": [],
   "source": [
    "%%time\n",
    "s_opts = {'requester_pays':True, 'skip_instance_cache':True}\n",
    "r_opts = {'key':response['accessKeyId'],\n",
    "          'secret':response['secretAccessKey'],\n",
    "          'token':response['sessionToken'],\n",
    "          'client_kwargs':{'region_name':'us-west-2'}}\n",
    "\n",
    "fs = fsspec.filesystem(\"reference\", fo=rpath, ref_storage_args=s_opts,\n",
    "                       remote_protocol='s3', remote_options=r_opts)\n",
    "m = fs.get_mapper(\"\")\n",
    "ds = xr.open_dataset(m, engine=\"zarr\", consolidated=False)\n",
    "ds"
   ]
  },
  {
   "cell_type": "code",
   "execution_count": null,
   "id": "753be2ec-57ba-430b-91d8-e7482c8b1a3e",
   "metadata": {},
   "outputs": [],
   "source": []
  },
  {
   "cell_type": "code",
   "execution_count": null,
   "id": "8f66d237-3bbc-478a-b63d-9d212633c758",
   "metadata": {},
   "outputs": [],
   "source": []
  },
  {
   "cell_type": "code",
   "execution_count": null,
   "id": "e6514859-c3ff-497d-95ba-b90f66f5bb3d",
   "metadata": {},
   "outputs": [],
   "source": []
  },
  {
   "cell_type": "code",
   "execution_count": null,
   "id": "d082ab11-007e-4927-aa84-873e9bbd7bf0",
   "metadata": {},
   "outputs": [],
   "source": []
  },
  {
   "cell_type": "code",
   "execution_count": null,
   "id": "5fd4b182-84d0-4b8a-8079-027d931d653e",
   "metadata": {},
   "outputs": [],
   "source": []
  }
 ],
 "metadata": {
  "kernelspec": {
   "display_name": "Python [conda env:pangeo]",
   "language": "python",
   "name": "conda-env-pangeo-py"
  },
  "language_info": {
   "codemirror_mode": {
    "name": "ipython",
    "version": 3
   },
   "file_extension": ".py",
   "mimetype": "text/x-python",
   "name": "python",
   "nbconvert_exporter": "python",
   "pygments_lexer": "ipython3",
   "version": "3.9.7"
  }
 },
 "nbformat": 4,
 "nbformat_minor": 5
}
