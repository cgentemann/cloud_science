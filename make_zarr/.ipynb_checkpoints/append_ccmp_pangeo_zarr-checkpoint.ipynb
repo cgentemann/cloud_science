{
 "cells": [
  {
   "cell_type": "code",
   "execution_count": null,
   "id": "configured-resort",
   "metadata": {},
   "outputs": [],
   "source": [
    "#libs for reading data\n",
    "import xarray as xr\n",
    "import gcsfs\n",
    "import glob\n",
    "import numpy as np\n",
    "import matplotlib.pyplot as plt\n",
    "from xhistogram.xarray import histogram"
   ]
  },
  {
   "cell_type": "markdown",
   "id": "english-boards",
   "metadata": {},
   "source": [
    "# read in old data & get last time\n",
    "- just increment by one so that slice won't repeat data"
   ]
  },
  {
   "cell_type": "code",
   "execution_count": null,
   "id": "expensive-manufacturer",
   "metadata": {},
   "outputs": [],
   "source": [
    "zstore = 'gs://pangeo-nasa-ccmp/zarr'\n",
    "fs = gcsfs.GCSFileSystem(project='pangeo-181919',requester_pays=True)\n",
    "ds_old = xr.open_zarr(fs.get_mapper(zstore), consolidated=True,decode_cf=False)\n",
    "ds_old.close()\n",
    "lasttime=ds_old.time[-1] + 1\n",
    "print('last time incremented up 1',lasttime.data)\n",
    "ds_old"
   ]
  },
  {
   "cell_type": "code",
   "execution_count": null,
   "id": "level-recovery",
   "metadata": {},
   "outputs": [],
   "source": [
    "#read in new data\n",
    "ds=xr.open_dataset('../../ccmp_data/ccmp.nc',decode_cf=False,mask_and_scale=False)\n",
    "ds.close()\n",
    "ds_all = ds\n",
    "#remove any duplicates\n",
    "_, index = np.unique(ds_all['time'], return_index=True)\n",
    "ds_all=ds_all.isel(time=index)\n",
    "#rechunck data  #data in int16 = 2 bytes \n",
    "itime_chunk = 2000   #200\n",
    "ilat_chunk = 157    #300\n",
    "ilon_chunk = 180    #600\n",
    "ds_all = ds_all.chunk({'time':itime_chunk,'latitude':ilat_chunk,'longitude':ilon_chunk})\n",
    "ds_new = ds_all.sel(time=slice(lasttime,9999999))\n",
    "ds_new = xr.decode_cf(ds_new)"
   ]
  },
  {
   "cell_type": "code",
   "execution_count": null,
   "id": "supposed-church",
   "metadata": {},
   "outputs": [],
   "source": [
    "ds_new.to_zarr(fs.get_mapper(zstore), mode='a',append_dim='time', consolidated=True) "
   ]
  },
  {
   "cell_type": "markdown",
   "id": "complimentary-philosophy",
   "metadata": {},
   "source": [
    "# test new data"
   ]
  },
  {
   "cell_type": "code",
   "execution_count": null,
   "id": "positive-steal",
   "metadata": {},
   "outputs": [],
   "source": [
    "zstore = 'gs://pangeo-nasa-ccmp/zarr'\n",
    "fs = gcsfs.GCSFileSystem(project='pangeo-181919',requester_pays=True)\n",
    "ds = xr.open_zarr(fs.get_mapper(zstore), consolidated=True)\n",
    "ds"
   ]
  },
  {
   "cell_type": "code",
   "execution_count": null,
   "id": "worst-bronze",
   "metadata": {},
   "outputs": [],
   "source": []
  }
 ],
 "metadata": {
  "kernelspec": {
   "display_name": "Python 3",
   "language": "python",
   "name": "python3"
  },
  "language_info": {
   "codemirror_mode": {
    "name": "ipython",
    "version": 3
   },
   "file_extension": ".py",
   "mimetype": "text/x-python",
   "name": "python",
   "nbconvert_exporter": "python",
   "pygments_lexer": "ipython3",
   "version": "3.7.10"
  }
 },
 "nbformat": 4,
 "nbformat_minor": 5
}
