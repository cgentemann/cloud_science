{
 "cells": [
  {
   "cell_type": "code",
   "execution_count": null,
   "id": "damaged-treasury",
   "metadata": {},
   "outputs": [],
   "source": [
    "import warnings\n",
    "import numpy as np\n",
    "import pandas as pd\n",
    "import xarray as xr\n",
    "import fsspec\n",
    "\n",
    "warnings.simplefilter('ignore') # filter some warning messages\n",
    "xr.set_options(display_style=\"html\")  #display dataset nicely"
   ]
  },
  {
   "cell_type": "code",
   "execution_count": null,
   "id": "liquid-finding",
   "metadata": {},
   "outputs": [],
   "source": [
    "file_sst = 'https://mur-sst.s3.us-west-2.amazonaws.com/zarr-v1'\n",
    "ds_sst = xr.open_zarr(file_sst,consolidated=True)\n",
    "ds_sst = ds_sst.sel(time='2015-01-01')\n",
    "ds_sst"
   ]
  },
  {
   "cell_type": "code",
   "execution_count": null,
   "id": "crucial-adapter",
   "metadata": {},
   "outputs": [],
   "source": [
    "%%time\n",
    "cat_pangeo = intake.open_catalog(\"https://raw.githubusercontent.com/pangeo-data/pangeo-datastore/master/intake-catalogs/master.yaml\")\n",
    "ds_ccmp = cat_pangeo.atmosphere.nasa_ccmp_wind_vectors.to_dask()\n",
    "\n",
    "#calculate wind speed and add attributes to new variable\n",
    "ds_ccmp['wspd'] = np.sqrt(ds_ccmp.uwnd**2 + ds_ccmp.vwnd**2)\n",
    "ds_ccmp.wspd.attrs=ds_ccmp.uwnd.attrs\n",
    "ds_ccmp.wspd.attrs['long_name']='wind speed at 10 meters'\n",
    "\n",
    "ds_ccmp = ds_ccmp.sel(time='2015-01-01T06')"
   ]
  },
  {
   "cell_type": "code",
   "execution_count": null,
   "id": "unavailable-clothing",
   "metadata": {},
   "outputs": [],
   "source": []
  },
  {
   "cell_type": "code",
   "execution_count": null,
   "id": "authorized-fraction",
   "metadata": {},
   "outputs": [],
   "source": []
  }
 ],
 "metadata": {
  "kernelspec": {
   "display_name": "Python 3",
   "language": "python",
   "name": "python3"
  },
  "language_info": {
   "codemirror_mode": {
    "name": "ipython",
    "version": 3
   },
   "file_extension": ".py",
   "mimetype": "text/x-python",
   "name": "python",
   "nbconvert_exporter": "python",
   "pygments_lexer": "ipython3",
   "version": "3.8.6"
  }
 },
 "nbformat": 4,
 "nbformat_minor": 5
}
