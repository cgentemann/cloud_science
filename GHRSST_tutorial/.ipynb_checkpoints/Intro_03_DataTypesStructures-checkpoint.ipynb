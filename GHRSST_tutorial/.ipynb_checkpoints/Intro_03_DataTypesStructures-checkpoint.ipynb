{
 "cells": [
  {
   "cell_type": "code",
   "execution_count": null,
   "metadata": {},
   "outputs": [],
   "source": [
    "Data types and Structures"
   ]
  },
  {
   "cell_type": "code",
   "execution_count": null,
   "metadata": {},
   "outputs": [],
   "source": [
    "A great advatage of python is the type of variables it can handle and data types it can combine\n",
    "However, python was not desigined for large numerical data or scientific data, therefore it can be different (and sometimes confusing)\n",
    "from other programs where arrays are the basic (and intuitive) data structure.\n",
    "but no worries, once you learn it is very powerful"
   ]
  },
  {
   "cell_type": "code",
   "execution_count": null,
   "metadata": {},
   "outputs": [],
   "source": [
    "like other programing languages, Python data types include numbers line integers, floats, complex, and strings,and boolean, \n",
    "and it can handle dates! (example)\n",
    "\n"
   ]
  },
  {
   "cell_type": "code",
   "execution_count": null,
   "metadata": {},
   "outputs": [],
   "source": [
    "Basic Python has a some data types (or structures) that are particular:\n",
    "    List\n",
    "    Tuple\n",
    "    Dictionary\n",
    "Definitions and examples"
   ]
  },
  {
   "cell_type": "code",
   "execution_count": null,
   "metadata": {},
   "outputs": [],
   "source": [
    "Certain libraries have specific data structures - arrays, data frames, and datasets\n",
    "examples of each, but we will go back talking about each library."
   ]
  }
 ],
 "metadata": {
  "kernelspec": {
   "display_name": "Python 3",
   "language": "python",
   "name": "python3"
  },
  "language_info": {
   "codemirror_mode": {
    "name": "ipython",
    "version": 3
   },
   "file_extension": ".py",
   "mimetype": "text/x-python",
   "name": "python",
   "nbconvert_exporter": "python",
   "pygments_lexer": "ipython3",
   "version": "3.7.1"
  }
 },
 "nbformat": 4,
 "nbformat_minor": 2
}
