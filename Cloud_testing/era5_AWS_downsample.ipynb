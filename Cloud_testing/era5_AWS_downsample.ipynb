{
 "cells": [
  {
   "cell_type": "markdown",
   "id": "smoking-trauma",
   "metadata": {},
   "source": [
    "# AWS ERA5 data\n",
    "\n",
    "- remaking ERA5 from AWS zarr store\n"
   ]
  },
  {
   "cell_type": "code",
   "execution_count": null,
   "id": "ahead-bunch",
   "metadata": {},
   "outputs": [],
   "source": [
    "#notebook based on zflemings:https://nbviewer.jupyter.org/github/zflamig/dask-era5/blob/main/notebook/era5_fargate_dask.ipynb\n",
    "import xarray as xr\n",
    "import fsspec\n",
    "import dask\n",
    "import s3fs\n",
    "import numpy as np\n",
    "xr.set_options(display_style=\"html\")  #display dataset nicely \n"
   ]
  },
  {
   "cell_type": "code",
   "execution_count": null,
   "id": "central-columbia",
   "metadata": {},
   "outputs": [],
   "source": [
    "from dask_gateway import Gateway\n",
    "from dask.distributed import Client\n",
    "\n",
    "gateway = Gateway()\n",
    "cluster = gateway.new_cluster()\n",
    "cluster.adapt(minimum=1, maximum=70)\n",
    "cluster"
   ]
  },
  {
   "cell_type": "code",
   "execution_count": null,
   "id": "rising-somalia",
   "metadata": {},
   "outputs": [],
   "source": [
    "def fix_accum_var_dims(ds, var):\n",
    "    # Some varibles like precip have extra time bounds varibles, we drop them here to allow merging with other variables\n",
    "    \n",
    "    # Select variable of interest (drops dims that are not linked to current variable)\n",
    "    ds = ds[[var]]  \n",
    "\n",
    "    if var in ['air_temperature_at_2_metres',\n",
    "               'dew_point_temperature_at_2_metres',\n",
    "               'air_pressure_at_mean_sea_level',\n",
    "               'northward_wind_at_10_metres',\n",
    "               'eastward_wind_at_10_metres']:\n",
    "        \n",
    "        ds = ds.rename({'time0':'time','lat':'latitude','lon':'longitude'})\n",
    "        \n",
    "    elif var in ['precipitation_amount_1hour_Accumulation',\n",
    "                 'integral_wrt_time_of_surface_direct_downwelling_shortwave_flux_in_air_1hour_Accumulation']:\n",
    "        \n",
    "        ds = ds.rename({'time1':'time','lat':'latitude','lon':'longitude'})\n",
    "        \n",
    "    else:\n",
    "        print(\"Warning, Haven't seen {var} varible yet! Time renaming might not work.\".format(var=var))\n",
    "        \n",
    "    return ds\n",
    "\n",
    "@dask.delayed\n",
    "def s3open(path):\n",
    "    fs = s3fs.S3FileSystem(anon=True, default_fill_cache=False, \n",
    "                           config_kwargs = {'max_pool_connections': 20})\n",
    "    return s3fs.S3Map(path, s3=fs)\n",
    "\n",
    "\n",
    "def open_era5_range(start_year, end_year, variables):\n",
    "    ''' Opens ERA5 monthly Zarr files in S3, given a start and end year (all months loaded) and a list of variables'''\n",
    "    \n",
    "    \n",
    "    file_pattern = 'era5-pds/zarr/{year}/{month}/data/{var}.zarr/'\n",
    "    \n",
    "    years = list(np.arange(start_year, end_year+1, 1))\n",
    "    months = [\"01\", \"02\", \"03\", \"04\", \"05\", \"06\", \"07\", \"08\", \"09\", \"10\", \"11\", \"12\"]\n",
    "    \n",
    "    l = []\n",
    "    for var in variables:\n",
    "        print(var)\n",
    "        \n",
    "        # Get files\n",
    "        files_mapper = [s3open(file_pattern.format(year=year, month=month, var=var)) for year in years for month in months]\n",
    "        \n",
    "        # Look up correct time dimension by variable name\n",
    "        if var in ['precipitation_amount_1hour_Accumulation']:\n",
    "            concat_dim='time1'\n",
    "        else:\n",
    "            concat_dim='time0'\n",
    "            \n",
    "        # Lazy load\n",
    "        ds = xr.open_mfdataset(files_mapper, engine='zarr', \n",
    "                               concat_dim=concat_dim, combine='nested', \n",
    "                               coords='minimal', compat='override', parallel=True)\n",
    "        \n",
    "        # Fix dimension names\n",
    "        ds = fix_accum_var_dims(ds, var)\n",
    "        l.append(ds)\n",
    "        \n",
    "    ds_out = xr.merge(l)\n",
    "    \n",
    "    return ds_out\n"
   ]
  },
  {
   "cell_type": "code",
   "execution_count": null,
   "id": "aware-encyclopedia",
   "metadata": {},
   "outputs": [],
   "source": [
    "# set AWS region to access ERA5 data\n",
    "s3 = s3fs.S3FileSystem(anon=True, client_kwargs={'region_name':'us-east-1'})\n",
    "data_var = s3.ls('era5-pds/zarr/2021/04/data/')\n",
    "for dvar in data_var:\n",
    "    print(dvar[27:-5])"
   ]
  },
  {
   "cell_type": "code",
   "execution_count": null,
   "id": "alert-alcohol",
   "metadata": {},
   "outputs": [],
   "source": [
    "%%time\n",
    "for dvar in data_var:\n",
    "    var = dvar[27:-5]\n",
    "    ds = open_era5_range(1979, 2020, [var])\n",
    "    #resample to 1 Month\n",
    "    ds_month  = ds.resample(time='1M').mean(keep_attrs=True)\n",
    "    #resample spatially to 1 deg\n",
    "    ds_month_deg = ds_month.coarsen(latitude=4,longitude=4,boundary=\"trim\").mean(keep_attrs=True)\n",
    "    ds_month_deg.to_netcdf('./../../data/era5/era5_monthly_1deg'+var+'.nc')"
   ]
  },
  {
   "cell_type": "code",
   "execution_count": null,
   "id": "welsh-medium",
   "metadata": {},
   "outputs": [],
   "source": []
  },
  {
   "cell_type": "code",
   "execution_count": null,
   "id": "overhead-oklahoma",
   "metadata": {},
   "outputs": [],
   "source": []
  },
  {
   "cell_type": "code",
   "execution_count": null,
   "id": "mechanical-break",
   "metadata": {},
   "outputs": [],
   "source": []
  },
  {
   "cell_type": "code",
   "execution_count": null,
   "id": "blind-carnival",
   "metadata": {},
   "outputs": [],
   "source": [
    "print('ds size in GB {:0.2f}\\n'.format(ds.nbytes / 1e9))\n",
    "ds.info"
   ]
  },
  {
   "cell_type": "code",
   "execution_count": null,
   "id": "usual-letters",
   "metadata": {},
   "outputs": [],
   "source": [
    "# set AWS region to access ERA5 data\n",
    "s3 = s3fs.S3FileSystem(anon=True, client_kwargs={'region_name':'us-east-1'})\n",
    "data_var = s3.ls('era5-pds/zarr/2021/04/data/')\n",
    "data_var[0][27:-5]"
   ]
  },
  {
   "cell_type": "code",
   "execution_count": null,
   "id": "funky-equity",
   "metadata": {},
   "outputs": [],
   "source": []
  }
 ],
 "metadata": {
  "kernelspec": {
   "display_name": "Python 3",
   "language": "python",
   "name": "python3"
  },
  "language_info": {
   "codemirror_mode": {
    "name": "ipython",
    "version": 3
   },
   "file_extension": ".py",
   "mimetype": "text/x-python",
   "name": "python",
   "nbconvert_exporter": "python",
   "pygments_lexer": "ipython3",
   "version": "3.8.6"
  }
 },
 "nbformat": 4,
 "nbformat_minor": 5
}
