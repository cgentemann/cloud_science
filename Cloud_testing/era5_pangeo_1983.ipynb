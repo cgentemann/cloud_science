{
 "cells": [
  {
   "cell_type": "markdown",
   "id": "stylish-avenue",
   "metadata": {},
   "source": [
    "# I made a monthly dataset for a class to work with\n",
    " - plotted timeseries\n",
    " - big odd drop in t2m in April 1983.  \n",
    " - thought there was a delayed response to El Chichon 9/1982 eruption\n",
    " - investigating here\n"
   ]
  },
  {
   "cell_type": "code",
   "execution_count": null,
   "id": "eligible-abortion",
   "metadata": {},
   "outputs": [],
   "source": [
    "#read in era5 catalog\n",
    "import numpy as np\n",
    "import xarray as xr\n",
    "from intake import open_catalog\n",
    "cat = open_catalog(\"https://raw.githubusercontent.com/pangeo-data/pangeo-datastore/master/intake-catalogs/atmosphere.yaml\")\n",
    "#list(cat)\n",
    "ds  = cat[\"era5_hourly_reanalysis_single_levels_sa\"].to_dask()\n",
    "ds"
   ]
  },
  {
   "cell_type": "code",
   "execution_count": null,
   "id": "chronic-chase",
   "metadata": {},
   "outputs": [],
   "source": [
    "from dask_gateway import Gateway\n",
    "from dask.distributed import Client\n",
    "\n",
    "gateway = Gateway()\n",
    "cluster = gateway.new_cluster()\n",
    "cluster.adapt(minimum=1, maximum=70)\n",
    "cluster"
   ]
  },
  {
   "cell_type": "code",
   "execution_count": null,
   "id": "central-fitness",
   "metadata": {},
   "outputs": [],
   "source": [
    "dy = ds.sel(time=slice('1983-04-10','1983-05-10')).resample(time='1D').mean(keep_attrs=True)"
   ]
  },
  {
   "cell_type": "code",
   "execution_count": null,
   "id": "extreme-potential",
   "metadata": {},
   "outputs": [],
   "source": [
    "dif = dy-dy.sel(time='1983-04-09')\n",
    "dif.t2m.mean('longitude').plot()"
   ]
  },
  {
   "cell_type": "code",
   "execution_count": null,
   "id": "amazing-mexican",
   "metadata": {},
   "outputs": [],
   "source": [
    "dy.t2m.sel(time='1983-04-25').plot()"
   ]
  },
  {
   "cell_type": "code",
   "execution_count": null,
   "id": "listed-standard",
   "metadata": {},
   "outputs": [],
   "source": [
    "dy.t2m.sel(time='1983-04-15').plot()"
   ]
  },
  {
   "cell_type": "code",
   "execution_count": null,
   "id": "competent-proxy",
   "metadata": {},
   "outputs": [],
   "source": []
  }
 ],
 "metadata": {
  "kernelspec": {
   "display_name": "Python 3",
   "language": "python",
   "name": "python3"
  },
  "language_info": {
   "codemirror_mode": {
    "name": "ipython",
    "version": 3
   },
   "file_extension": ".py",
   "mimetype": "text/x-python",
   "name": "python",
   "nbconvert_exporter": "python",
   "pygments_lexer": "ipython3",
   "version": "3.8.6"
  }
 },
 "nbformat": 4,
 "nbformat_minor": 5
}
