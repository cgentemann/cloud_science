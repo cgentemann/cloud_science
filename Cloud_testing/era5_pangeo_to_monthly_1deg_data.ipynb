{
 "cells": [
  {
   "cell_type": "markdown",
   "id": "portable-valley",
   "metadata": {},
   "source": [
    "# read in pangeo era5 data \n",
    "- make into reasonable size data to download & store on d100 hub"
   ]
  },
  {
   "cell_type": "code",
   "execution_count": null,
   "id": "exceptional-arrival",
   "metadata": {},
   "outputs": [],
   "source": [
    "#read in era5 catalog\n",
    "from intake import open_catalog\n",
    "cat = open_catalog(\"https://raw.githubusercontent.com/pangeo-data/pangeo-datastore/master/intake-catalogs/atmosphere.yaml\")\n",
    "#list(cat)\n",
    "ds  = cat[\"era5_hourly_reanalysis_single_levels_sa\"].to_dask()\n",
    "ds"
   ]
  },
  {
   "cell_type": "code",
   "execution_count": null,
   "id": "pressing-relaxation",
   "metadata": {},
   "outputs": [],
   "source": [
    "from dask_gateway import Gateway\n",
    "from dask.distributed import Client\n",
    "\n",
    "gateway = Gateway()\n",
    "cluster = gateway.new_cluster()\n",
    "cluster.adapt(minimum=1, maximum=70)\n",
    "cluster"
   ]
  },
  {
   "cell_type": "code",
   "execution_count": null,
   "id": "cutting-target",
   "metadata": {},
   "outputs": [],
   "source": [
    "#resample to 1 Month\n",
    "ds_month  = ds.resample(time='1M').mean(keep_attrs=True)"
   ]
  },
  {
   "cell_type": "code",
   "execution_count": null,
   "id": "developmental-theta",
   "metadata": {},
   "outputs": [],
   "source": [
    "#resample spatially to 1 deg\n",
    "ds_month_deg = ds_month.coarsen(latitude=8,longitude=8,boundary=\"trim\").mean(keep_attrs=True)\n",
    "ds_month_deg"
   ]
  },
  {
   "cell_type": "code",
   "execution_count": null,
   "id": "nearby-banana",
   "metadata": {},
   "outputs": [],
   "source": [
    "#print example\n",
    "tem = ds_month_deg.t2m[0,:,:].load()\n",
    "tem.plot()"
   ]
  },
  {
   "cell_type": "code",
   "execution_count": null,
   "id": "worth-devil",
   "metadata": {},
   "outputs": [],
   "source": [
    "# the number of GB involved in the reduction\n",
    "print('total size:',ds.t2m.nbytes/1e9*17)\n",
    "print(ds_month_deg.t2m.nbytes/1e9)"
   ]
  },
  {
   "cell_type": "code",
   "execution_count": null,
   "id": "effective-pursuit",
   "metadata": {},
   "outputs": [],
   "source": [
    "#output data one variable at a time\n",
    "for var in ds_month_deg:\n",
    "    tem = ds_month_deg[var].load()\n",
    "    tem.to_netcdf('./../../data/era5_monthly_2deg'+var+'.nc')"
   ]
  },
  {
   "cell_type": "code",
   "execution_count": null,
   "id": "sexual-cruise",
   "metadata": {},
   "outputs": [],
   "source": [
    "#create filelist\n",
    "files=[]\n",
    "[files.append('./../../data/era5_monthly_2deg'+var+'.nc') for var in ds]\n",
    "print(files)"
   ]
  },
  {
   "cell_type": "code",
   "execution_count": null,
   "id": "scenic-gardening",
   "metadata": {},
   "outputs": [],
   "source": [
    "#read in data\n",
    "ds_combined = xr.open_mfdataset(files,parallel=True)\n",
    "ds_combined"
   ]
  },
  {
   "cell_type": "code",
   "execution_count": null,
   "id": "delayed-grace",
   "metadata": {},
   "outputs": [],
   "source": [
    "#output single file\n",
    "ds_combined.to_netcdf('./../../data/era5_monthly_2deg_pangeo.nc')"
   ]
  },
  {
   "cell_type": "code",
   "execution_count": null,
   "id": "permanent-pizza",
   "metadata": {},
   "outputs": [],
   "source": [
    "import xarray as xr\n",
    "ds = xr.open_dataset('./../../data/era5_monthly_2deg_pangeo.nc')\n",
    "ds"
   ]
  },
  {
   "cell_type": "code",
   "execution_count": null,
   "id": "correct-communication",
   "metadata": {},
   "outputs": [],
   "source": [
    "ds.t2m.mean({'latitude','longitude'}).plot()"
   ]
  },
  {
   "cell_type": "code",
   "execution_count": null,
   "id": "third-washington",
   "metadata": {},
   "outputs": [],
   "source": []
  }
 ],
 "metadata": {
  "kernelspec": {
   "display_name": "Python 3",
   "language": "python",
   "name": "python3"
  },
  "language_info": {
   "codemirror_mode": {
    "name": "ipython",
    "version": 3
   },
   "file_extension": ".py",
   "mimetype": "text/x-python",
   "name": "python",
   "nbconvert_exporter": "python",
   "pygments_lexer": "ipython3",
   "version": "3.8.6"
  }
 },
 "nbformat": 4,
 "nbformat_minor": 5
}
