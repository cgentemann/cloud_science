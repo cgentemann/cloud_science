{
 "cells": [
  {
   "cell_type": "code",
   "execution_count": 1,
   "id": "literary-senate",
   "metadata": {},
   "outputs": [
    {
     "data": {
      "text/plain": [
       "<xarray.core.options.set_options at 0x7fe52034f940>"
      ]
     },
     "execution_count": 1,
     "metadata": {},
     "output_type": "execute_result"
    }
   ],
   "source": [
    "import warnings\n",
    "import numpy as np\n",
    "import pandas as pd\n",
    "import xarray as xr\n",
    "import fsspec\n",
    "\n",
    "warnings.simplefilter('ignore') # filter some warning messages\n",
    "xr.set_options(display_style=\"html\")  #display dataset nicely"
   ]
  },
  {
   "cell_type": "code",
   "execution_count": 2,
   "id": "allied-witch",
   "metadata": {},
   "outputs": [],
   "source": [
    "file_opendap = 'https://podaac-opendap.jpl.nasa.gov/opendap/allData/ghrsst/data/GDS2/L4/GLOB/JPL/MUR/v4.1/2015/001/20150101090000-JPL-L4_GHRSST-SSTfnd-MUR-GLOB-v02.0-fv04.1.nc'\n",
    "file_local = './../../data/20150101090000-JPL-L4_GHRSST-SSTfnd-MUR-GLOB-v02.0-fv04.1.nc'\n",
    "dir_out = './../../data/zarr_testing/'\n",
    "file_aws = 'https://mur-sst.s3.us-west-2.amazonaws.com/zarr-v1'\n",
    "file_aws2 = 'https://mur-sst.s3.us-west-2.amazonaws.com/zarr'\n",
    "\n",
    "fout1 = dir_out+'test_normalread_v1.zarr'\n",
    "fout2 = dir_out+'test_rawread_v1.zarr'"
   ]
  },
  {
   "cell_type": "code",
   "execution_count": 3,
   "id": "hourly-bearing",
   "metadata": {},
   "outputs": [
    {
     "name": "stdout",
     "output_type": "stream",
     "text": [
      "CPU times: user 1.57 s, sys: 99 ms, total: 1.67 s\n",
      "Wall time: 2.03 s\n"
     ]
    }
   ],
   "source": [
    "%%time\n",
    "ds_aws = xr.open_zarr(file_aws,consolidated=True)\n",
    "#ds_aws"
   ]
  },
  {
   "cell_type": "code",
   "execution_count": 4,
   "id": "miniature-domestic",
   "metadata": {},
   "outputs": [
    {
     "name": "stdout",
     "output_type": "stream",
     "text": [
      "CPU times: user 638 ms, sys: 43.5 ms, total: 681 ms\n",
      "Wall time: 802 ms\n"
     ]
    }
   ],
   "source": [
    "%%time\n",
    "ds_aws2 = xr.open_zarr(file_aws2,consolidated=True)\n",
    "#ds_aws2"
   ]
  },
  {
   "cell_type": "code",
   "execution_count": 5,
   "id": "monthly-master",
   "metadata": {},
   "outputs": [],
   "source": [
    "ds_odap = xr.open_dataset(file_opendap)\n",
    "#ds_odap"
   ]
  },
  {
   "cell_type": "code",
   "execution_count": 6,
   "id": "intellectual-incidence",
   "metadata": {},
   "outputs": [],
   "source": [
    "ds_local = xr.open_dataset(file_local)\n",
    "#ds_local"
   ]
  },
  {
   "cell_type": "code",
   "execution_count": 7,
   "id": "diagnostic-fifth",
   "metadata": {},
   "outputs": [],
   "source": [
    "#ds_local.analysed_sst.sel(lat=slice(20,30),lon=slice(-120,-100)).isel(time=0).plot()"
   ]
  },
  {
   "cell_type": "code",
   "execution_count": 8,
   "id": "accompanied-wallet",
   "metadata": {},
   "outputs": [
    {
     "name": "stdout",
     "output_type": "stream",
     "text": [
      "local file nan\n",
      "opendap file nan\n",
      "aws v1 nan\n",
      "aws v2 265.382\n"
     ]
    }
   ],
   "source": [
    "# print out value near land\n",
    "xlat = 24\n",
    "xlon = -100\n",
    "date = '2015-01-01'\n",
    "print('local file',ds_local.analysed_sst.sel(time=date,lat=xlat,lon=xlon).isel(time=0).data)\n",
    "print('opendap file',ds_odap.analysed_sst.sel(time=date,lat=xlat,lon=xlon).isel(time=0).data)\n",
    "print('aws v1',ds_aws.analysed_sst.sel(time=date,lat=xlat,lon=xlon).isel(time=0).compute().data)\n",
    "print('aws v2',ds_aws2.analysed_sst.sel(time=date,lat=xlat,lon=xlon).isel(time=0).compute().data)"
   ]
  },
  {
   "cell_type": "code",
   "execution_count": 9,
   "id": "suitable-chicago",
   "metadata": {},
   "outputs": [],
   "source": [
    "#ds_local.analysed_sst.sel(lat=slice(20,30),lon=slice(100,120)).isel(time=0).plot()"
   ]
  },
  {
   "cell_type": "code",
   "execution_count": 10,
   "id": "widespread-finland",
   "metadata": {},
   "outputs": [
    {
     "name": "stdout",
     "output_type": "stream",
     "text": [
      "local file nan\n",
      "opendap file nan\n",
      "aws v1 nan\n",
      "aws v2 265.382\n"
     ]
    }
   ],
   "source": [
    "# print out value near land\n",
    "xlat = 21\n",
    "xlon = 101\n",
    "date = '2015-01-01'\n",
    "print('local file',ds_local.analysed_sst.sel(time=date,lat=xlat,lon=xlon).isel(time=0).data)\n",
    "print('opendap file',ds_odap.analysed_sst.sel(time=date,lat=xlat,lon=xlon).isel(time=0).data)\n",
    "print('aws v1',ds_aws.analysed_sst.sel(time=date,lat=xlat,lon=xlon).isel(time=0).compute().data)\n",
    "print('aws v2',ds_aws2.analysed_sst.sel(time=date,lat=xlat,lon=xlon).isel(time=0).compute().data)"
   ]
  },
  {
   "cell_type": "markdown",
   "id": "bound-instrumentation",
   "metadata": {},
   "source": [
    "## looking at aws v1 versus aws "
   ]
  },
  {
   "cell_type": "code",
   "execution_count": 11,
   "id": "alpine-conversation",
   "metadata": {},
   "outputs": [
    {
     "name": "stdout",
     "output_type": "stream",
     "text": [
      "examine chunking in arrays\n",
      "v1 dask.array<xarray-analysed_sst, shape=(6443, 17999, 36000), dtype=float32, chunksize=(5, 1799, 3600), chunktype=numpy.ndarray>\n",
      "v2 dask.array<xarray-analysed_sst, shape=(6443, 17999, 36000), dtype=float32, chunksize=(6443, 100, 100), chunktype=numpy.ndarray>\n",
      "aws v1 [nan]\n",
      "aws v2 [265.382]\n",
      "CPU times: user 2.16 s, sys: 256 ms, total: 2.41 s\n",
      "Wall time: 2.77 s\n"
     ]
    }
   ],
   "source": [
    "%%time\n",
    "ds_aws = xr.open_zarr(file_aws,consolidated=True)\n",
    "#ds_aws = ds_aws.isel(time=slice(0,10),lat=slice(1000,3000),lon=slice(0,1000))\n",
    "ds_aws2 = xr.open_zarr(file_aws2,consolidated=True)\n",
    "#ds_aws2 = ds_aws2.isel(time=slice(0,10),lat=slice(1000,3000),lon=slice(0,1000))\n",
    "print('examine chunking in arrays')\n",
    "print('v1',ds_aws.analysed_sst.data)\n",
    "print('v2',ds_aws2.analysed_sst.data)\n",
    "\n",
    "# print out value near land\n",
    "xlat = 24\n",
    "xlon = -100\n",
    "date = '2015-01-01'\n",
    "print('aws v1',ds_aws.analysed_sst.sel(time=date,lat=xlat,lon=xlon).compute().data)\n",
    "print('aws v2',ds_aws2.analysed_sst.sel(time=date,lat=xlat,lon=xlon).compute().data)"
   ]
  },
  {
   "cell_type": "code",
   "execution_count": 12,
   "id": "intense-compilation",
   "metadata": {},
   "outputs": [],
   "source": [
    "#ds_aws.analysed_sst[0,6000:7000,19000:20000].plot()"
   ]
  },
  {
   "cell_type": "markdown",
   "id": "revised-jewel",
   "metadata": {},
   "source": [
    "## test creating new zarr data store by \n",
    "- reading in zarr store\n",
    "- rechuncking\n",
    "- writing out\n",
    "- reading it back in from the new store\n",
    "- outputting a data point"
   ]
  },
  {
   "cell_type": "code",
   "execution_count": 13,
   "id": "accepted-seating",
   "metadata": {},
   "outputs": [
    {
     "name": "stdout",
     "output_type": "stream",
     "text": [
      "v1 nan\n",
      "v2 265.382\n",
      "new nan\n"
     ]
    }
   ],
   "source": [
    "# test by reading REGULAR \n",
    "ds_aws = xr.open_zarr(file_aws,consolidated=True) #read in data\n",
    "ds_aws = ds_aws.isel(time=slice(0,10),lat=slice(6000,7000),lon=slice(19000,20000)) #subset to reasonable size\n",
    "ds_aws_rechunked = ds_aws.chunk({'time':10,'lat':100,'lon':100}).compute() #rechunk data\n",
    "ds_aws_rechunked.to_zarr(fout1)  #output data\n",
    "ds_aws3 = xr.open_zarr(fout1) #test read back in\n",
    "# print out value near land\n",
    "xlat = -26\n",
    "xlon = 18\n",
    "date = '2002-06-01'\n",
    "print('v1',ds_aws.analysed_sst.sel(time=date,lat=xlat,lon=xlon).isel(time=0).compute().data)\n",
    "print('v2',ds_aws2.analysed_sst.sel(time=date,lat=xlat,lon=xlon).isel(time=0).compute().data)\n",
    "print('new',ds_aws3.analysed_sst.sel(time=date,lat=xlat,lon=xlon).isel(time=0).compute().data)"
   ]
  },
  {
   "cell_type": "code",
   "execution_count": 14,
   "id": "southeast-plant",
   "metadata": {},
   "outputs": [
    {
     "name": "stdout",
     "output_type": "stream",
     "text": [
      "v1 nan\n",
      "v2 265.382\n",
      "new nan\n",
      "new_raw nan\n"
     ]
    }
   ],
   "source": [
    "# test by reading WITHOUT cf-convention \n",
    "ds_aws_raw = xr.open_zarr(file_aws,consolidated=True,decode_cf=False, mask_and_scale=False, decode_times=False) #read in data\n",
    "ds_aws_raw = ds_aws_raw.isel(time=slice(0,10),lat=slice(6000,7000),lon=slice(19000,20000)) #subset to reasonable size\n",
    "ds_aws_raw_rechunked = ds_aws_raw.chunk({'time':10,'lat':100,'lon':100}).compute() #rechunk data\n",
    "ds_aws_raw_rechunked.to_zarr(fout2)  #output data\n",
    "ds_aws4 = xr.open_zarr(fout2) #test read back in\n",
    "# print out value near land\n",
    "xlat = -26\n",
    "xlon = 18\n",
    "date = '2002-06-01'\n",
    "print('v1',ds_aws.analysed_sst.sel(time=date,lat=xlat,lon=xlon).isel(time=0).compute().data)\n",
    "print('v2',ds_aws2.analysed_sst.sel(time=date,lat=xlat,lon=xlon).isel(time=0).compute().data)\n",
    "print('new',ds_aws3.analysed_sst.sel(time=date,lat=xlat,lon=xlon).isel(time=0).compute().data)\n",
    "print('new_raw',ds_aws4.analysed_sst.sel(time=date,lat=xlat,lon=xlon).isel(time=0).compute().data)"
   ]
  },
  {
   "cell_type": "markdown",
   "id": "dominant-accountability",
   "metadata": {},
   "source": [
    "## looking at xarray .sel round off error that seems to be not selecting all the valid coordinate points"
   ]
  },
  {
   "cell_type": "code",
   "execution_count": 15,
   "id": "banner-interference",
   "metadata": {},
   "outputs": [
    {
     "name": "stdout",
     "output_type": "stream",
     "text": [
      "[10.44 10.45 10.46 10.47 10.48 10.49]\n"
     ]
    }
   ],
   "source": [
    "print(ds_local.lat[10043:10049].data)"
   ]
  },
  {
   "cell_type": "markdown",
   "id": "sharing-membership",
   "metadata": {},
   "source": [
    "The results above show that (as expected) the lat coordinate has .01 precision"
   ]
  },
  {
   "cell_type": "code",
   "execution_count": 16,
   "id": "excessive-accreditation",
   "metadata": {},
   "outputs": [
    {
     "name": "stdout",
     "output_type": "stream",
     "text": [
      "these should all be len=3 since slice is inclusive of first/last points\n",
      "[10.46 10.47 10.48]\n",
      "[10.46] missing first&last points\n",
      "[10.43 10.44 10.45]\n",
      "[10.47 10.48 10.49]\n",
      "[11.46] missing first&last points\n"
     ]
    }
   ],
   "source": [
    "print('these should all be len=3 since slice is inclusive of first/last points')\n",
    "print(ds_local.lat.sel(lat=slice(10.46,10.48)).data)\n",
    "print(ds_local.lat.sel(lat=slice(10.45,10.47)).data,'missing first&last points')\n",
    "print(ds_local.lat.sel(lat=slice(10.43,10.45)).data)\n",
    "print(ds_local.lat.sel(lat=slice(10.47,10.49)).data)\n",
    "print(ds_local.lat.sel(lat=slice(11.45,11.47)).data,'missing first&last points')"
   ]
  },
  {
   "cell_type": "code",
   "execution_count": 17,
   "id": "suitable-electricity",
   "metadata": {},
   "outputs": [
    {
     "name": "stdout",
     "output_type": "stream",
     "text": [
      "these should all be len=5 since slice is inclusive of first/last points\n",
      "[11.46 11.47 11.48 11.49 11.5 ]\n",
      "[11.46 11.47 11.48 11.49] missing first point\n",
      "[11.43 11.44 11.45 11.46] missing last point\n",
      "[11.42 11.43 11.44 11.45] missing first point\n"
     ]
    }
   ],
   "source": [
    "print('these should all be len=5 since slice is inclusive of first/last points')\n",
    "print(ds_local.lat.sel(lat=slice(11.46,11.50)).data)\n",
    "print(ds_local.lat.sel(lat=slice(11.45,11.49)).data,'missing first point')\n",
    "print(ds_local.lat.sel(lat=slice(11.43,11.47)).data,'missing last point')\n",
    "print(ds_local.lat.sel(lat=slice(11.41,11.45)).data,'missing first point')"
   ]
  },
  {
   "cell_type": "code",
   "execution_count": null,
   "id": "disciplinary-arlington",
   "metadata": {},
   "outputs": [],
   "source": []
  }
 ],
 "metadata": {
  "kernelspec": {
   "display_name": "Python 3",
   "language": "python",
   "name": "python3"
  },
  "language_info": {
   "codemirror_mode": {
    "name": "ipython",
    "version": 3
   },
   "file_extension": ".py",
   "mimetype": "text/x-python",
   "name": "python",
   "nbconvert_exporter": "python",
   "pygments_lexer": "ipython3",
   "version": "3.8.6"
  }
 },
 "nbformat": 4,
 "nbformat_minor": 5
}
