{
 "cells": [
  {
   "cell_type": "code",
   "execution_count": null,
   "id": "competent-bidding",
   "metadata": {},
   "outputs": [],
   "source": [
    "import warnings\n",
    "import numpy as np\n",
    "import pandas as pd\n",
    "import xarray as xr\n",
    "import fsspec\n",
    "\n",
    "warnings.simplefilter('ignore') # filter some warning messages\n",
    "xr.set_options(display_style=\"html\")  #display dataset nicely"
   ]
  },
  {
   "cell_type": "code",
   "execution_count": null,
   "id": "moderate-district",
   "metadata": {},
   "outputs": [],
   "source": [
    "file_opendap = 'https://podaac-opendap.jpl.nasa.gov/opendap/allData/ghrsst/data/GDS2/L4/GLOB/JPL/MUR/v4.1/2015/001/20150101090000-JPL-L4_GHRSST-SSTfnd-MUR-GLOB-v02.0-fv04.1.nc'\n",
    "file_local = './../../data/20150101090000-JPL-L4_GHRSST-SSTfnd-MUR-GLOB-v02.0-fv04.1.nc'\n",
    "file_aws = 'https://mur-sst.s3.us-west-2.amazonaws.com/zarr-v1'\n",
    "file_aws2 = 'https://mur-sst.s3.us-west-2.amazonaws.com/zarr'"
   ]
  },
  {
   "cell_type": "code",
   "execution_count": null,
   "id": "likely-lingerie",
   "metadata": {},
   "outputs": [],
   "source": [
    "%%time\n",
    "\n",
    "ds_aws = xr.open_zarr(file_aws,consolidated=True)\n",
    "ds_aws = ds_aws.sel(time='2015-01-01')\n",
    "ds_aws"
   ]
  },
  {
   "cell_type": "code",
   "execution_count": null,
   "id": "vital-narrow",
   "metadata": {},
   "outputs": [],
   "source": [
    "%%time\n",
    "\n",
    "ds_aws2 = xr.open_zarr(file_aws2,consolidated=True)\n",
    "ds_aws2 = ds_aws.sel(time='2015-01-01')\n",
    "ds_aws2"
   ]
  },
  {
   "cell_type": "code",
   "execution_count": null,
   "id": "cardiac-evolution",
   "metadata": {},
   "outputs": [],
   "source": [
    "ds_odap = xr.open_dataset(file_opendap)\n",
    "ds_odap"
   ]
  },
  {
   "cell_type": "code",
   "execution_count": null,
   "id": "comparable-tomato",
   "metadata": {},
   "outputs": [],
   "source": [
    "ds_local = xr.open_dataset(file_local)\n",
    "ds_local"
   ]
  },
  {
   "cell_type": "code",
   "execution_count": null,
   "id": "sacred-ultimate",
   "metadata": {},
   "outputs": [],
   "source": [
    "ds_local.analysed_sst.sel(lat=slice(20,30),lon=slice(-120,-100)).isel(time=0).plot()"
   ]
  },
  {
   "cell_type": "code",
   "execution_count": null,
   "id": "authorized-garden",
   "metadata": {},
   "outputs": [],
   "source": [
    "# print out value near land\n",
    "xlat = 24\n",
    "xlon = -100\n",
    "print(ds_local.analysed_sst.sel(lat=24,lon=-100).isel(time=0).data)\n",
    "print(ds_odap.analysed_sst.sel(lat=24,lon=-100).isel(time=0).data)\n",
    "print(ds_aws.analysed_sst.sel(lat=24,lon=-100).isel(time=0).compute().data)\n",
    "print(ds_aws2.analysed_sst.sel(lat=24,lon=-100).isel(time=0).compute().data)"
   ]
  },
  {
   "cell_type": "code",
   "execution_count": null,
   "id": "numerous-clerk",
   "metadata": {},
   "outputs": [],
   "source": [
    "ds_local.analysed_sst.sel(lat=slice(20,30),lon=slice(100,120)).isel(time=0).plot()"
   ]
  },
  {
   "cell_type": "code",
   "execution_count": null,
   "id": "stuffed-dress",
   "metadata": {},
   "outputs": [],
   "source": [
    "# print out value near land\n",
    "xlat = 21\n",
    "xlon = 101\n",
    "print(ds_local.analysed_sst.sel(lat=24,lon=-100).isel(time=0).data)\n",
    "print(ds_odap.analysed_sst.sel(lat=24,lon=-100).isel(time=0).data)\n",
    "print(ds_aws.analysed_sst.sel(lat=24,lon=-100).isel(time=0).compute().data)\n",
    "print(ds_aws2.analysed_sst.sel(lat=24,lon=-100).isel(time=0).compute().data)"
   ]
  },
  {
   "cell_type": "code",
   "execution_count": null,
   "id": "graduate-malpractice",
   "metadata": {},
   "outputs": [],
   "source": []
  }
 ],
 "metadata": {
  "kernelspec": {
   "display_name": "Python 3",
   "language": "python",
   "name": "python3"
  },
  "language_info": {
   "codemirror_mode": {
    "name": "ipython",
    "version": 3
   },
   "file_extension": ".py",
   "mimetype": "text/x-python",
   "name": "python",
   "nbconvert_exporter": "python",
   "pygments_lexer": "ipython3",
   "version": "3.8.6"
  }
 },
 "nbformat": 4,
 "nbformat_minor": 5
}
