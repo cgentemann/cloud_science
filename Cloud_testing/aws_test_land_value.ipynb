{
 "cells": [
  {
   "cell_type": "code",
   "execution_count": 1,
   "id": "fixed-mobile",
   "metadata": {},
   "outputs": [
    {
     "data": {
      "text/plain": [
       "<xarray.core.options.set_options at 0x7fa42850c520>"
      ]
     },
     "execution_count": 1,
     "metadata": {},
     "output_type": "execute_result"
    }
   ],
   "source": [
    "import warnings\n",
    "import numpy as np\n",
    "import pandas as pd\n",
    "import xarray as xr\n",
    "import fsspec\n",
    "\n",
    "warnings.simplefilter('ignore') # filter some warning messages\n",
    "xr.set_options(display_style=\"html\")  #display dataset nicely"
   ]
  },
  {
   "cell_type": "code",
   "execution_count": 2,
   "id": "owned-measure",
   "metadata": {},
   "outputs": [],
   "source": [
    "file_opendap = 'https://podaac-opendap.jpl.nasa.gov/opendap/allData/ghrsst/data/GDS2/L4/GLOB/JPL/MUR/v4.1/2015/001/20150101090000-JPL-L4_GHRSST-SSTfnd-MUR-GLOB-v02.0-fv04.1.nc'\n",
    "file_local = './../../data/20150101090000-JPL-L4_GHRSST-SSTfnd-MUR-GLOB-v02.0-fv04.1.nc'\n",
    "dir_out = './../../data/zarr_testing/'\n",
    "file_aws = 'https://mur-sst.s3.us-west-2.amazonaws.com/zarr-v1'\n",
    "file_aws2 = 'https://mur-sst.s3.us-west-2.amazonaws.com/zarr'\n",
    "\n",
    "fout1 = dir_out+'test_normalread_v1.zarr'\n",
    "fout2 = dir_out+'test_rawread_v1.zarr'\n",
    "fout3 = dir_out+'test_subset_v1.zarr'"
   ]
  },
  {
   "cell_type": "code",
   "execution_count": 3,
   "id": "dangerous-cholesterol",
   "metadata": {},
   "outputs": [
    {
     "name": "stdout",
     "output_type": "stream",
     "text": [
      "CPU times: user 2.51 s, sys: 205 ms, total: 2.72 s\n",
      "Wall time: 4.45 s\n"
     ]
    }
   ],
   "source": [
    "%%time\n",
    "ds_aws = xr.open_zarr(file_aws,consolidated=True)\n",
    "#ds_aws"
   ]
  },
  {
   "cell_type": "code",
   "execution_count": 4,
   "id": "entertaining-newsletter",
   "metadata": {},
   "outputs": [
    {
     "name": "stdout",
     "output_type": "stream",
     "text": [
      "CPU times: user 1.07 s, sys: 95.9 ms, total: 1.16 s\n",
      "Wall time: 2.09 s\n"
     ]
    }
   ],
   "source": [
    "%%time\n",
    "ds_aws2 = xr.open_zarr(file_aws2,consolidated=True)\n",
    "#ds_aws2"
   ]
  },
  {
   "cell_type": "code",
   "execution_count": 5,
   "id": "lyric-customs",
   "metadata": {},
   "outputs": [],
   "source": [
    "ds_odap = xr.open_dataset(file_opendap)\n",
    "#ds_odap"
   ]
  },
  {
   "cell_type": "code",
   "execution_count": 6,
   "id": "minute-disney",
   "metadata": {},
   "outputs": [
    {
     "ename": "FileNotFoundError",
     "evalue": "[Errno 2] No such file or directory: b'/home/jovyan/data/20150101090000-JPL-L4_GHRSST-SSTfnd-MUR-GLOB-v02.0-fv04.1.nc'",
     "output_type": "error",
     "traceback": [
      "\u001b[0;31m---------------------------------------------------------------------------\u001b[0m",
      "\u001b[0;31mKeyError\u001b[0m                                  Traceback (most recent call last)",
      "\u001b[0;32m/srv/conda/envs/notebook/lib/python3.8/site-packages/xarray/backends/file_manager.py\u001b[0m in \u001b[0;36m_acquire_with_cache_info\u001b[0;34m(self, needs_lock)\u001b[0m\n\u001b[1;32m    198\u001b[0m             \u001b[0;32mtry\u001b[0m\u001b[0;34m:\u001b[0m\u001b[0;34m\u001b[0m\u001b[0;34m\u001b[0m\u001b[0m\n\u001b[0;32m--> 199\u001b[0;31m                 \u001b[0mfile\u001b[0m \u001b[0;34m=\u001b[0m \u001b[0mself\u001b[0m\u001b[0;34m.\u001b[0m\u001b[0m_cache\u001b[0m\u001b[0;34m[\u001b[0m\u001b[0mself\u001b[0m\u001b[0;34m.\u001b[0m\u001b[0m_key\u001b[0m\u001b[0;34m]\u001b[0m\u001b[0;34m\u001b[0m\u001b[0;34m\u001b[0m\u001b[0m\n\u001b[0m\u001b[1;32m    200\u001b[0m             \u001b[0;32mexcept\u001b[0m \u001b[0mKeyError\u001b[0m\u001b[0;34m:\u001b[0m\u001b[0;34m\u001b[0m\u001b[0;34m\u001b[0m\u001b[0m\n",
      "\u001b[0;32m/srv/conda/envs/notebook/lib/python3.8/site-packages/xarray/backends/lru_cache.py\u001b[0m in \u001b[0;36m__getitem__\u001b[0;34m(self, key)\u001b[0m\n\u001b[1;32m     52\u001b[0m         \u001b[0;32mwith\u001b[0m \u001b[0mself\u001b[0m\u001b[0;34m.\u001b[0m\u001b[0m_lock\u001b[0m\u001b[0;34m:\u001b[0m\u001b[0;34m\u001b[0m\u001b[0;34m\u001b[0m\u001b[0m\n\u001b[0;32m---> 53\u001b[0;31m             \u001b[0mvalue\u001b[0m \u001b[0;34m=\u001b[0m \u001b[0mself\u001b[0m\u001b[0;34m.\u001b[0m\u001b[0m_cache\u001b[0m\u001b[0;34m[\u001b[0m\u001b[0mkey\u001b[0m\u001b[0;34m]\u001b[0m\u001b[0;34m\u001b[0m\u001b[0;34m\u001b[0m\u001b[0m\n\u001b[0m\u001b[1;32m     54\u001b[0m             \u001b[0mself\u001b[0m\u001b[0;34m.\u001b[0m\u001b[0m_cache\u001b[0m\u001b[0;34m.\u001b[0m\u001b[0mmove_to_end\u001b[0m\u001b[0;34m(\u001b[0m\u001b[0mkey\u001b[0m\u001b[0;34m)\u001b[0m\u001b[0;34m\u001b[0m\u001b[0;34m\u001b[0m\u001b[0m\n",
      "\u001b[0;31mKeyError\u001b[0m: [<class 'netCDF4._netCDF4.Dataset'>, ('/home/jovyan/data/20150101090000-JPL-L4_GHRSST-SSTfnd-MUR-GLOB-v02.0-fv04.1.nc',), 'r', (('clobber', True), ('diskless', False), ('format', 'NETCDF4'), ('persist', False))]",
      "\nDuring handling of the above exception, another exception occurred:\n",
      "\u001b[0;31mFileNotFoundError\u001b[0m                         Traceback (most recent call last)",
      "\u001b[0;32m<ipython-input-6-da49bf92edff>\u001b[0m in \u001b[0;36m<module>\u001b[0;34m\u001b[0m\n\u001b[0;32m----> 1\u001b[0;31m \u001b[0mds_local\u001b[0m \u001b[0;34m=\u001b[0m \u001b[0mxr\u001b[0m\u001b[0;34m.\u001b[0m\u001b[0mopen_dataset\u001b[0m\u001b[0;34m(\u001b[0m\u001b[0mfile_local\u001b[0m\u001b[0;34m)\u001b[0m\u001b[0;34m\u001b[0m\u001b[0;34m\u001b[0m\u001b[0m\n\u001b[0m\u001b[1;32m      2\u001b[0m \u001b[0;31m#ds_local\u001b[0m\u001b[0;34m\u001b[0m\u001b[0;34m\u001b[0m\u001b[0;34m\u001b[0m\u001b[0m\n",
      "\u001b[0;32m/srv/conda/envs/notebook/lib/python3.8/site-packages/xarray/backends/api.py\u001b[0m in \u001b[0;36mopen_dataset\u001b[0;34m(filename_or_obj, group, decode_cf, mask_and_scale, decode_times, autoclose, concat_characters, decode_coords, engine, chunks, lock, cache, drop_variables, backend_kwargs, use_cftime, decode_timedelta)\u001b[0m\n\u001b[1;32m    570\u001b[0m \u001b[0;34m\u001b[0m\u001b[0m\n\u001b[1;32m    571\u001b[0m         \u001b[0mopener\u001b[0m \u001b[0;34m=\u001b[0m \u001b[0m_get_backend_cls\u001b[0m\u001b[0;34m(\u001b[0m\u001b[0mengine\u001b[0m\u001b[0;34m)\u001b[0m\u001b[0;34m\u001b[0m\u001b[0;34m\u001b[0m\u001b[0m\n\u001b[0;32m--> 572\u001b[0;31m         \u001b[0mstore\u001b[0m \u001b[0;34m=\u001b[0m \u001b[0mopener\u001b[0m\u001b[0;34m(\u001b[0m\u001b[0mfilename_or_obj\u001b[0m\u001b[0;34m,\u001b[0m \u001b[0;34m**\u001b[0m\u001b[0mextra_kwargs\u001b[0m\u001b[0;34m,\u001b[0m \u001b[0;34m**\u001b[0m\u001b[0mbackend_kwargs\u001b[0m\u001b[0;34m)\u001b[0m\u001b[0;34m\u001b[0m\u001b[0;34m\u001b[0m\u001b[0m\n\u001b[0m\u001b[1;32m    573\u001b[0m \u001b[0;34m\u001b[0m\u001b[0m\n\u001b[1;32m    574\u001b[0m     \u001b[0;32mwith\u001b[0m \u001b[0mclose_on_error\u001b[0m\u001b[0;34m(\u001b[0m\u001b[0mstore\u001b[0m\u001b[0;34m)\u001b[0m\u001b[0;34m:\u001b[0m\u001b[0;34m\u001b[0m\u001b[0;34m\u001b[0m\u001b[0m\n",
      "\u001b[0;32m/srv/conda/envs/notebook/lib/python3.8/site-packages/xarray/backends/netCDF4_.py\u001b[0m in \u001b[0;36mopen\u001b[0;34m(cls, filename, mode, format, group, clobber, diskless, persist, lock, lock_maker, autoclose)\u001b[0m\n\u001b[1;32m    362\u001b[0m             \u001b[0mnetCDF4\u001b[0m\u001b[0;34m.\u001b[0m\u001b[0mDataset\u001b[0m\u001b[0;34m,\u001b[0m \u001b[0mfilename\u001b[0m\u001b[0;34m,\u001b[0m \u001b[0mmode\u001b[0m\u001b[0;34m=\u001b[0m\u001b[0mmode\u001b[0m\u001b[0;34m,\u001b[0m \u001b[0mkwargs\u001b[0m\u001b[0;34m=\u001b[0m\u001b[0mkwargs\u001b[0m\u001b[0;34m\u001b[0m\u001b[0;34m\u001b[0m\u001b[0m\n\u001b[1;32m    363\u001b[0m         )\n\u001b[0;32m--> 364\u001b[0;31m         \u001b[0;32mreturn\u001b[0m \u001b[0mcls\u001b[0m\u001b[0;34m(\u001b[0m\u001b[0mmanager\u001b[0m\u001b[0;34m,\u001b[0m \u001b[0mgroup\u001b[0m\u001b[0;34m=\u001b[0m\u001b[0mgroup\u001b[0m\u001b[0;34m,\u001b[0m \u001b[0mmode\u001b[0m\u001b[0;34m=\u001b[0m\u001b[0mmode\u001b[0m\u001b[0;34m,\u001b[0m \u001b[0mlock\u001b[0m\u001b[0;34m=\u001b[0m\u001b[0mlock\u001b[0m\u001b[0;34m,\u001b[0m \u001b[0mautoclose\u001b[0m\u001b[0;34m=\u001b[0m\u001b[0mautoclose\u001b[0m\u001b[0;34m)\u001b[0m\u001b[0;34m\u001b[0m\u001b[0;34m\u001b[0m\u001b[0m\n\u001b[0m\u001b[1;32m    365\u001b[0m \u001b[0;34m\u001b[0m\u001b[0m\n\u001b[1;32m    366\u001b[0m     \u001b[0;32mdef\u001b[0m \u001b[0m_acquire\u001b[0m\u001b[0;34m(\u001b[0m\u001b[0mself\u001b[0m\u001b[0;34m,\u001b[0m \u001b[0mneeds_lock\u001b[0m\u001b[0;34m=\u001b[0m\u001b[0;32mTrue\u001b[0m\u001b[0;34m)\u001b[0m\u001b[0;34m:\u001b[0m\u001b[0;34m\u001b[0m\u001b[0;34m\u001b[0m\u001b[0m\n",
      "\u001b[0;32m/srv/conda/envs/notebook/lib/python3.8/site-packages/xarray/backends/netCDF4_.py\u001b[0m in \u001b[0;36m__init__\u001b[0;34m(self, manager, group, mode, lock, autoclose)\u001b[0m\n\u001b[1;32m    312\u001b[0m         \u001b[0mself\u001b[0m\u001b[0;34m.\u001b[0m\u001b[0m_group\u001b[0m \u001b[0;34m=\u001b[0m \u001b[0mgroup\u001b[0m\u001b[0;34m\u001b[0m\u001b[0;34m\u001b[0m\u001b[0m\n\u001b[1;32m    313\u001b[0m         \u001b[0mself\u001b[0m\u001b[0;34m.\u001b[0m\u001b[0m_mode\u001b[0m \u001b[0;34m=\u001b[0m \u001b[0mmode\u001b[0m\u001b[0;34m\u001b[0m\u001b[0;34m\u001b[0m\u001b[0m\n\u001b[0;32m--> 314\u001b[0;31m         \u001b[0mself\u001b[0m\u001b[0;34m.\u001b[0m\u001b[0mformat\u001b[0m \u001b[0;34m=\u001b[0m \u001b[0mself\u001b[0m\u001b[0;34m.\u001b[0m\u001b[0mds\u001b[0m\u001b[0;34m.\u001b[0m\u001b[0mdata_model\u001b[0m\u001b[0;34m\u001b[0m\u001b[0;34m\u001b[0m\u001b[0m\n\u001b[0m\u001b[1;32m    315\u001b[0m         \u001b[0mself\u001b[0m\u001b[0;34m.\u001b[0m\u001b[0m_filename\u001b[0m \u001b[0;34m=\u001b[0m \u001b[0mself\u001b[0m\u001b[0;34m.\u001b[0m\u001b[0mds\u001b[0m\u001b[0;34m.\u001b[0m\u001b[0mfilepath\u001b[0m\u001b[0;34m(\u001b[0m\u001b[0;34m)\u001b[0m\u001b[0;34m\u001b[0m\u001b[0;34m\u001b[0m\u001b[0m\n\u001b[1;32m    316\u001b[0m         \u001b[0mself\u001b[0m\u001b[0;34m.\u001b[0m\u001b[0mis_remote\u001b[0m \u001b[0;34m=\u001b[0m \u001b[0mis_remote_uri\u001b[0m\u001b[0;34m(\u001b[0m\u001b[0mself\u001b[0m\u001b[0;34m.\u001b[0m\u001b[0m_filename\u001b[0m\u001b[0;34m)\u001b[0m\u001b[0;34m\u001b[0m\u001b[0;34m\u001b[0m\u001b[0m\n",
      "\u001b[0;32m/srv/conda/envs/notebook/lib/python3.8/site-packages/xarray/backends/netCDF4_.py\u001b[0m in \u001b[0;36mds\u001b[0;34m(self)\u001b[0m\n\u001b[1;32m    371\u001b[0m     \u001b[0;34m@\u001b[0m\u001b[0mproperty\u001b[0m\u001b[0;34m\u001b[0m\u001b[0;34m\u001b[0m\u001b[0m\n\u001b[1;32m    372\u001b[0m     \u001b[0;32mdef\u001b[0m \u001b[0mds\u001b[0m\u001b[0;34m(\u001b[0m\u001b[0mself\u001b[0m\u001b[0;34m)\u001b[0m\u001b[0;34m:\u001b[0m\u001b[0;34m\u001b[0m\u001b[0;34m\u001b[0m\u001b[0m\n\u001b[0;32m--> 373\u001b[0;31m         \u001b[0;32mreturn\u001b[0m \u001b[0mself\u001b[0m\u001b[0;34m.\u001b[0m\u001b[0m_acquire\u001b[0m\u001b[0;34m(\u001b[0m\u001b[0;34m)\u001b[0m\u001b[0;34m\u001b[0m\u001b[0;34m\u001b[0m\u001b[0m\n\u001b[0m\u001b[1;32m    374\u001b[0m \u001b[0;34m\u001b[0m\u001b[0m\n\u001b[1;32m    375\u001b[0m     \u001b[0;32mdef\u001b[0m \u001b[0mopen_store_variable\u001b[0m\u001b[0;34m(\u001b[0m\u001b[0mself\u001b[0m\u001b[0;34m,\u001b[0m \u001b[0mname\u001b[0m\u001b[0;34m,\u001b[0m \u001b[0mvar\u001b[0m\u001b[0;34m)\u001b[0m\u001b[0;34m:\u001b[0m\u001b[0;34m\u001b[0m\u001b[0;34m\u001b[0m\u001b[0m\n",
      "\u001b[0;32m/srv/conda/envs/notebook/lib/python3.8/site-packages/xarray/backends/netCDF4_.py\u001b[0m in \u001b[0;36m_acquire\u001b[0;34m(self, needs_lock)\u001b[0m\n\u001b[1;32m    365\u001b[0m \u001b[0;34m\u001b[0m\u001b[0m\n\u001b[1;32m    366\u001b[0m     \u001b[0;32mdef\u001b[0m \u001b[0m_acquire\u001b[0m\u001b[0;34m(\u001b[0m\u001b[0mself\u001b[0m\u001b[0;34m,\u001b[0m \u001b[0mneeds_lock\u001b[0m\u001b[0;34m=\u001b[0m\u001b[0;32mTrue\u001b[0m\u001b[0;34m)\u001b[0m\u001b[0;34m:\u001b[0m\u001b[0;34m\u001b[0m\u001b[0;34m\u001b[0m\u001b[0m\n\u001b[0;32m--> 367\u001b[0;31m         \u001b[0;32mwith\u001b[0m \u001b[0mself\u001b[0m\u001b[0;34m.\u001b[0m\u001b[0m_manager\u001b[0m\u001b[0;34m.\u001b[0m\u001b[0macquire_context\u001b[0m\u001b[0;34m(\u001b[0m\u001b[0mneeds_lock\u001b[0m\u001b[0;34m)\u001b[0m \u001b[0;32mas\u001b[0m \u001b[0mroot\u001b[0m\u001b[0;34m:\u001b[0m\u001b[0;34m\u001b[0m\u001b[0;34m\u001b[0m\u001b[0m\n\u001b[0m\u001b[1;32m    368\u001b[0m             \u001b[0mds\u001b[0m \u001b[0;34m=\u001b[0m \u001b[0m_nc4_require_group\u001b[0m\u001b[0;34m(\u001b[0m\u001b[0mroot\u001b[0m\u001b[0;34m,\u001b[0m \u001b[0mself\u001b[0m\u001b[0;34m.\u001b[0m\u001b[0m_group\u001b[0m\u001b[0;34m,\u001b[0m \u001b[0mself\u001b[0m\u001b[0;34m.\u001b[0m\u001b[0m_mode\u001b[0m\u001b[0;34m)\u001b[0m\u001b[0;34m\u001b[0m\u001b[0;34m\u001b[0m\u001b[0m\n\u001b[1;32m    369\u001b[0m         \u001b[0;32mreturn\u001b[0m \u001b[0mds\u001b[0m\u001b[0;34m\u001b[0m\u001b[0;34m\u001b[0m\u001b[0m\n",
      "\u001b[0;32m/srv/conda/envs/notebook/lib/python3.8/contextlib.py\u001b[0m in \u001b[0;36m__enter__\u001b[0;34m(self)\u001b[0m\n\u001b[1;32m    111\u001b[0m         \u001b[0;32mdel\u001b[0m \u001b[0mself\u001b[0m\u001b[0;34m.\u001b[0m\u001b[0margs\u001b[0m\u001b[0;34m,\u001b[0m \u001b[0mself\u001b[0m\u001b[0;34m.\u001b[0m\u001b[0mkwds\u001b[0m\u001b[0;34m,\u001b[0m \u001b[0mself\u001b[0m\u001b[0;34m.\u001b[0m\u001b[0mfunc\u001b[0m\u001b[0;34m\u001b[0m\u001b[0;34m\u001b[0m\u001b[0m\n\u001b[1;32m    112\u001b[0m         \u001b[0;32mtry\u001b[0m\u001b[0;34m:\u001b[0m\u001b[0;34m\u001b[0m\u001b[0;34m\u001b[0m\u001b[0m\n\u001b[0;32m--> 113\u001b[0;31m             \u001b[0;32mreturn\u001b[0m \u001b[0mnext\u001b[0m\u001b[0;34m(\u001b[0m\u001b[0mself\u001b[0m\u001b[0;34m.\u001b[0m\u001b[0mgen\u001b[0m\u001b[0;34m)\u001b[0m\u001b[0;34m\u001b[0m\u001b[0;34m\u001b[0m\u001b[0m\n\u001b[0m\u001b[1;32m    114\u001b[0m         \u001b[0;32mexcept\u001b[0m \u001b[0mStopIteration\u001b[0m\u001b[0;34m:\u001b[0m\u001b[0;34m\u001b[0m\u001b[0;34m\u001b[0m\u001b[0m\n\u001b[1;32m    115\u001b[0m             \u001b[0;32mraise\u001b[0m \u001b[0mRuntimeError\u001b[0m\u001b[0;34m(\u001b[0m\u001b[0;34m\"generator didn't yield\"\u001b[0m\u001b[0;34m)\u001b[0m \u001b[0;32mfrom\u001b[0m \u001b[0;32mNone\u001b[0m\u001b[0;34m\u001b[0m\u001b[0;34m\u001b[0m\u001b[0m\n",
      "\u001b[0;32m/srv/conda/envs/notebook/lib/python3.8/site-packages/xarray/backends/file_manager.py\u001b[0m in \u001b[0;36macquire_context\u001b[0;34m(self, needs_lock)\u001b[0m\n\u001b[1;32m    185\u001b[0m     \u001b[0;32mdef\u001b[0m \u001b[0macquire_context\u001b[0m\u001b[0;34m(\u001b[0m\u001b[0mself\u001b[0m\u001b[0;34m,\u001b[0m \u001b[0mneeds_lock\u001b[0m\u001b[0;34m=\u001b[0m\u001b[0;32mTrue\u001b[0m\u001b[0;34m)\u001b[0m\u001b[0;34m:\u001b[0m\u001b[0;34m\u001b[0m\u001b[0;34m\u001b[0m\u001b[0m\n\u001b[1;32m    186\u001b[0m         \u001b[0;34m\"\"\"Context manager for acquiring a file.\"\"\"\u001b[0m\u001b[0;34m\u001b[0m\u001b[0;34m\u001b[0m\u001b[0m\n\u001b[0;32m--> 187\u001b[0;31m         \u001b[0mfile\u001b[0m\u001b[0;34m,\u001b[0m \u001b[0mcached\u001b[0m \u001b[0;34m=\u001b[0m \u001b[0mself\u001b[0m\u001b[0;34m.\u001b[0m\u001b[0m_acquire_with_cache_info\u001b[0m\u001b[0;34m(\u001b[0m\u001b[0mneeds_lock\u001b[0m\u001b[0;34m)\u001b[0m\u001b[0;34m\u001b[0m\u001b[0;34m\u001b[0m\u001b[0m\n\u001b[0m\u001b[1;32m    188\u001b[0m         \u001b[0;32mtry\u001b[0m\u001b[0;34m:\u001b[0m\u001b[0;34m\u001b[0m\u001b[0;34m\u001b[0m\u001b[0m\n\u001b[1;32m    189\u001b[0m             \u001b[0;32myield\u001b[0m \u001b[0mfile\u001b[0m\u001b[0;34m\u001b[0m\u001b[0;34m\u001b[0m\u001b[0m\n",
      "\u001b[0;32m/srv/conda/envs/notebook/lib/python3.8/site-packages/xarray/backends/file_manager.py\u001b[0m in \u001b[0;36m_acquire_with_cache_info\u001b[0;34m(self, needs_lock)\u001b[0m\n\u001b[1;32m    203\u001b[0m                     \u001b[0mkwargs\u001b[0m \u001b[0;34m=\u001b[0m \u001b[0mkwargs\u001b[0m\u001b[0;34m.\u001b[0m\u001b[0mcopy\u001b[0m\u001b[0;34m(\u001b[0m\u001b[0;34m)\u001b[0m\u001b[0;34m\u001b[0m\u001b[0;34m\u001b[0m\u001b[0m\n\u001b[1;32m    204\u001b[0m                     \u001b[0mkwargs\u001b[0m\u001b[0;34m[\u001b[0m\u001b[0;34m\"mode\"\u001b[0m\u001b[0;34m]\u001b[0m \u001b[0;34m=\u001b[0m \u001b[0mself\u001b[0m\u001b[0;34m.\u001b[0m\u001b[0m_mode\u001b[0m\u001b[0;34m\u001b[0m\u001b[0;34m\u001b[0m\u001b[0m\n\u001b[0;32m--> 205\u001b[0;31m                 \u001b[0mfile\u001b[0m \u001b[0;34m=\u001b[0m \u001b[0mself\u001b[0m\u001b[0;34m.\u001b[0m\u001b[0m_opener\u001b[0m\u001b[0;34m(\u001b[0m\u001b[0;34m*\u001b[0m\u001b[0mself\u001b[0m\u001b[0;34m.\u001b[0m\u001b[0m_args\u001b[0m\u001b[0;34m,\u001b[0m \u001b[0;34m**\u001b[0m\u001b[0mkwargs\u001b[0m\u001b[0;34m)\u001b[0m\u001b[0;34m\u001b[0m\u001b[0;34m\u001b[0m\u001b[0m\n\u001b[0m\u001b[1;32m    206\u001b[0m                 \u001b[0;32mif\u001b[0m \u001b[0mself\u001b[0m\u001b[0;34m.\u001b[0m\u001b[0m_mode\u001b[0m \u001b[0;34m==\u001b[0m \u001b[0;34m\"w\"\u001b[0m\u001b[0;34m:\u001b[0m\u001b[0;34m\u001b[0m\u001b[0;34m\u001b[0m\u001b[0m\n\u001b[1;32m    207\u001b[0m                     \u001b[0;31m# ensure file doesn't get overriden when opened again\u001b[0m\u001b[0;34m\u001b[0m\u001b[0;34m\u001b[0m\u001b[0;34m\u001b[0m\u001b[0m\n",
      "\u001b[0;32mnetCDF4/_netCDF4.pyx\u001b[0m in \u001b[0;36mnetCDF4._netCDF4.Dataset.__init__\u001b[0;34m()\u001b[0m\n",
      "\u001b[0;32mnetCDF4/_netCDF4.pyx\u001b[0m in \u001b[0;36mnetCDF4._netCDF4._ensure_nc_success\u001b[0;34m()\u001b[0m\n",
      "\u001b[0;31mFileNotFoundError\u001b[0m: [Errno 2] No such file or directory: b'/home/jovyan/data/20150101090000-JPL-L4_GHRSST-SSTfnd-MUR-GLOB-v02.0-fv04.1.nc'"
     ]
    }
   ],
   "source": [
    "ds_local = xr.open_dataset(file_local)\n",
    "#ds_local"
   ]
  },
  {
   "cell_type": "code",
   "execution_count": null,
   "id": "light-smith",
   "metadata": {},
   "outputs": [],
   "source": [
    "#ds_local.analysed_sst.sel(lat=slice(20,30),lon=slice(-120,-100)).isel(time=0).plot()"
   ]
  },
  {
   "cell_type": "code",
   "execution_count": 8,
   "id": "adequate-complex",
   "metadata": {},
   "outputs": [
    {
     "name": "stdout",
     "output_type": "stream",
     "text": [
      "opendap file [nan]\n",
      "aws v1 [nan]\n",
      "aws v2 [265.382]\n"
     ]
    }
   ],
   "source": [
    "file_aws = 'https://mur-sst.s3.us-west-2.amazonaws.com/zarr-v1'\n",
    "file_aws2 = 'https://mur-sst.s3.us-west-2.amazonaws.com/zarr'\n",
    "ds_aws = xr.open_zarr(file_aws,consolidated=True)\n",
    "ds_aws2 = xr.open_zarr(file_aws2,consolidated=True)\n",
    "# print out value near land\n",
    "xlat,xlon,date = 24, -100, '2015-01-01'\n",
    "#print('local file',ds_local.analysed_sst.sel(time=date,lat=xlat,lon=xlon).isel(time=0).data)\n",
    "print('opendap file',ds_odap.analysed_sst.sel(time=date,lat=xlat,lon=xlon).data)\n",
    "print('aws v1',ds_aws.analysed_sst.sel(time=date,lat=xlat,lon=xlon).compute().data)\n",
    "print('aws v2',ds_aws2.analysed_sst.sel(time=date,lat=xlat,lon=xlon).compute().data)"
   ]
  },
  {
   "cell_type": "code",
   "execution_count": 7,
   "id": "sunrise-steel",
   "metadata": {},
   "outputs": [
    {
     "name": "stdout",
     "output_type": "stream",
     "text": [
      "opendap file nan\n",
      "aws v1 nan\n",
      "aws v2 265.382\n"
     ]
    }
   ],
   "source": [
    "# print out value near land\n",
    "xlat,xlon,date = 24, -100, '2015-01-01'\n",
    "#print('local file',ds_local.analysed_sst.sel(time=date,lat=xlat,lon=xlon).isel(time=0).data)\n",
    "print('opendap file',ds_odap.analysed_sst.sel(time=date,lat=xlat,lon=xlon).data)\n",
    "print('aws v1',ds_aws.analysed_sst.sel(time=date,lat=xlat,lon=xlon).compute().data)\n",
    "print('aws v2',ds_aws2.analysed_sst.sel(time=date,lat=xlat,lon=xlon).compute().data)"
   ]
  },
  {
   "cell_type": "markdown",
   "id": "durable-tattoo",
   "metadata": {},
   "source": [
    "in AWS v2, this is the re-chunked version of the zarr data calculated using ryan's rechunker library.\n",
    "for some reason in the .json fill_value was changed to a fill_value (-32768) \n",
    "It looks like the xarray/zarr library is applying the scale_factor (.001) and add_offset (298.15) because it isn't nan"
   ]
  },
  {
   "cell_type": "markdown",
   "id": "dense-insurance",
   "metadata": {},
   "source": [
    "## Can we recreate rechunker issue using a smaller version of the data?"
   ]
  },
  {
   "cell_type": "code",
   "execution_count": null,
   "id": "parliamentary-salvation",
   "metadata": {},
   "outputs": [],
   "source": [
    "%%time\n",
    "ds_aws = xr.open_zarr(file_aws,consolidated=True)\n",
    "#ds_aws = ds_aws.isel(time=slice(0,10),lat=slice(1000,3000),lon=slice(0,1000))\n",
    "ds_aws2 = xr.open_zarr(file_aws2,consolidated=True)\n",
    "#ds_aws2 = ds_aws2.isel(time=slice(0,10),lat=slice(1000,3000),lon=slice(0,1000))\n",
    "print('examine chunking in arrays')\n",
    "print('v1',ds_aws.analysed_sst.data)\n",
    "print('v2',ds_aws2.analysed_sst.data)\n",
    "\n",
    "# print out value near land\n",
    "xlat = 24\n",
    "xlon = -100\n",
    "date = '2015-01-01'\n",
    "print('aws v1',ds_aws.analysed_sst.sel(time=date,lat=xlat,lon=xlon).compute().data)\n",
    "print('aws v2',ds_aws2.analysed_sst.sel(time=date,lat=xlat,lon=xlon).compute().data)"
   ]
  },
  {
   "cell_type": "code",
   "execution_count": null,
   "id": "apparent-electron",
   "metadata": {},
   "outputs": [],
   "source": [
    "#ds_aws.analysed_sst[0,6000:7000,19000:20000].plot()"
   ]
  },
  {
   "cell_type": "markdown",
   "id": "micro-sunglasses",
   "metadata": {},
   "source": [
    "## test creating new zarr data store by \n",
    "- reading in zarr store\n",
    "- rechuncking\n",
    "- writing out\n",
    "- reading it back in from the new store\n",
    "- outputting a data point"
   ]
  },
  {
   "cell_type": "markdown",
   "id": "mighty-breath",
   "metadata": {},
   "source": [
    "# testing aimee rechunker code"
   ]
  },
  {
   "cell_type": "code",
   "execution_count": null,
   "id": "reduced-prisoner",
   "metadata": {},
   "outputs": [],
   "source": [
    "# create a subset of the data to test rechunker\n",
    "ds_aws = xr.open_zarr(file_aws,consolidated=True) #read in data\n",
    "ds_aws = ds_aws.isel(time=slice(0,20),lat=slice(6000,7000),lon=slice(19000,20000)) #subset to reasonable size\n",
    "ds_aws.to_zarr(fout3,consolidated=True)  #output data\n",
    "ds_aws_subset = xr.open_zarr(fout3,consolidated=True) #test read back in\n",
    "# print out value near land\n",
    "xlat = -26\n",
    "xlon = 18\n",
    "date = '2002-06-01'\n",
    "print('v1',ds_aws.analysed_sst.sel(time=date,lat=xlat,lon=xlon).isel(time=0).compute().data)\n",
    "print('v2',ds_aws2.analysed_sst.sel(time=date,lat=xlat,lon=xlon).isel(time=0).compute().data)\n",
    "print('new',ds_aws_subset.analysed_sst.sel(time=date,lat=xlat,lon=xlon).isel(time=0).compute().data)"
   ]
  },
  {
   "cell_type": "code",
   "execution_count": null,
   "id": "positive-benefit",
   "metadata": {},
   "outputs": [],
   "source": [
    "from rechunker import rechunk\n",
    "import s3fs\n",
    "#import xarray as xr\n",
    "import zarr\n",
    "import dask.array as dsa\n",
    "import shutil\n",
    "from dask.diagnostics import ProgressBar\n",
    "import numpy as np\n",
    "import xarray as xr\n",
    "import os\n",
    "import fsspec\n",
    "import pandas as pd\n",
    "\n",
    "PANGEO_SCRATCH = os.environ['PANGEO_SCRATCH']\n",
    "print(PANGEO_SCRATCH)\n",
    "#mapper = fsspec.get_mapper(f'{PANGEO_SCRATCH}/data.zarr')"
   ]
  },
  {
   "cell_type": "code",
   "execution_count": null,
   "id": "scenic-hamburg",
   "metadata": {},
   "outputs": [],
   "source": [
    "# load the data\n",
    "ds_zarr = zarr.open_consolidated(fout3, mode='r')\n",
    "print(zarr.tree(ds_zarr))"
   ]
  },
  {
   "cell_type": "code",
   "execution_count": null,
   "id": "unavailable-hollow",
   "metadata": {},
   "outputs": [],
   "source": [
    "#rechunker plan\n",
    "s3 = s3fs.S3FileSystem(client_kwargs=dict(region_name='us-west-2'),anon=False, default_fill_cache=False, skip_instance_cache=True)\n",
    "\n",
    "s3_rechunk_store = s3fs.S3Map(root=f'{PANGEO_SCRATCH}/new-group_v5.zarr', create=True, s3=s3)\n",
    "\n",
    "# Note this path must exist in S3 or will raise rechunker assertion, `assert temp_store_or_group is not None`\n",
    "s3_tmp_store = s3fs.S3Map(root=f'{PANGEO_SCRATCH}/tmp_v5.zarr', create=True, s3=s3)"
   ]
  },
  {
   "cell_type": "code",
   "execution_count": null,
   "id": "mineral-mapping",
   "metadata": {},
   "outputs": [],
   "source": [
    "list(s3_rechunk_store)"
   ]
  },
  {
   "cell_type": "code",
   "execution_count": null,
   "id": "graduate-devil",
   "metadata": {},
   "outputs": [],
   "source": [
    "target_chunks = {\n",
    "    'analysed_sst': {'time': 20, 'lat': 100, 'lon': 100},\n",
    "    'analysis_error': {'time': 20, 'lat': 100, 'lon': 100},\n",
    "    'mask': {'time': 20, 'lat': 100, 'lon': 100},\n",
    "    'sea_ice_fraction': {'time': 20, 'lat': 100, 'lon': 100},\n",
    "    'lat': None,\n",
    "    'lon': None,\n",
    "    'time': None\n",
    "}\n",
    "max_mem = '1GB'\n",
    "\n",
    "array_plan = rechunk(ds_zarr, target_chunks, max_mem, s3_rechunk_store, s3_tmp_store)\n",
    "array_plan"
   ]
  },
  {
   "cell_type": "code",
   "execution_count": null,
   "id": "greek-indiana",
   "metadata": {},
   "outputs": [],
   "source": [
    "with ProgressBar():\n",
    "    array_plan.execute()"
   ]
  },
  {
   "cell_type": "code",
   "execution_count": null,
   "id": "martial-hindu",
   "metadata": {},
   "outputs": [],
   "source": []
  },
  {
   "cell_type": "markdown",
   "id": "organized-breath",
   "metadata": {},
   "source": [
    "## looking at xarray .sel round off error that seems to be not selecting all the valid coordinate points"
   ]
  },
  {
   "cell_type": "code",
   "execution_count": null,
   "id": "collective-mother",
   "metadata": {},
   "outputs": [],
   "source": [
    "print(ds_local.lat[10043:10049].data)"
   ]
  },
  {
   "cell_type": "markdown",
   "id": "underlying-christianity",
   "metadata": {},
   "source": [
    "The results above show that (as expected) the lat coordinate has .01 precision"
   ]
  },
  {
   "cell_type": "code",
   "execution_count": null,
   "id": "annual-portfolio",
   "metadata": {},
   "outputs": [],
   "source": [
    "print('these should all be len=3 since slice is inclusive of first/last points')\n",
    "print(ds_local.lat.sel(lat=slice(10.46,10.48)).data)\n",
    "print(ds_local.lat.sel(lat=slice(10.45,10.47)).data,'missing first&last points')\n",
    "print(ds_local.lat.sel(lat=slice(10.43,10.45)).data)\n",
    "print(ds_local.lat.sel(lat=slice(10.47,10.49)).data)\n",
    "print(ds_local.lat.sel(lat=slice(11.45,11.47)).data,'missing first&last points')"
   ]
  },
  {
   "cell_type": "code",
   "execution_count": null,
   "id": "addressed-slave",
   "metadata": {},
   "outputs": [],
   "source": [
    "print('these should all be len=5 since slice is inclusive of first/last points')\n",
    "print(ds_local.lat.sel(lat=slice(11.46,11.50)).data)\n",
    "print(ds_local.lat.sel(lat=slice(11.45,11.49)).data,'missing first point')\n",
    "print(ds_local.lat.sel(lat=slice(11.43,11.47)).data,'missing last point')\n",
    "print(ds_local.lat.sel(lat=slice(11.41,11.45)).data,'missing first point')"
   ]
  },
  {
   "cell_type": "code",
   "execution_count": null,
   "id": "korean-ceramic",
   "metadata": {},
   "outputs": [],
   "source": [
    "#put in exact lats and test\n",
    "ds_local = xr.open_dataset(file_local)\n",
    "ds_test = ds_local.copy(deep=True)\n",
    "test_lat = np.arange(-89.99,90,.01)\n",
    "ds_test = ds_test.assign_coords(lat=test_lat)\n",
    "print('these should all be len=5 since slice is inclusive of first/last points')\n",
    "print(ds_test.lat.sel(lat=slice(11.46,11.50)).data,'missing last point')\n",
    "print(ds_test.lat.sel(lat=slice(11.45,11.49)).data,'missing last point')\n",
    "print(ds_test.lat.sel(lat=slice(11.43,11.47)).data,'missing last point')\n",
    "print(ds_test.lat.sel(lat=slice(11.41,11.45)).data,'missing last point')"
   ]
  },
  {
   "cell_type": "code",
   "execution_count": null,
   "id": "hidden-hughes",
   "metadata": {},
   "outputs": [],
   "source": [
    "#put in exact lats and test\n",
    "ds_local = xr.open_dataset(file_local)\n",
    "ds_test = ds_local.copy(deep=True)\n",
    "ds_test = ds_test.assign_coords(lat=ds_local.lat.data)\n",
    "print('these should all be len=5 since slice is inclusive of first/last points')\n",
    "print(ds_test.lat.sel(lat=slice(11.46,11.50)).data)\n",
    "print(ds_test.lat.sel(lat=slice(11.45,11.49)).data,'missing first point')\n",
    "print(ds_test.lat.sel(lat=slice(11.43,11.47)).data,'missing last point')\n",
    "print(ds_test.lat.sel(lat=slice(11.41,11.45)).data,'missing first point')"
   ]
  },
  {
   "cell_type": "code",
   "execution_count": null,
   "id": "noted-merchandise",
   "metadata": {},
   "outputs": [],
   "source": []
  },
  {
   "cell_type": "code",
   "execution_count": null,
   "id": "continuing-clerk",
   "metadata": {},
   "outputs": [],
   "source": []
  },
  {
   "cell_type": "code",
   "execution_count": null,
   "id": "anonymous-citizen",
   "metadata": {},
   "outputs": [],
   "source": []
  },
  {
   "cell_type": "code",
   "execution_count": null,
   "id": "exotic-penetration",
   "metadata": {},
   "outputs": [],
   "source": [
    "# test by reading REGULAR \n",
    "#first remove temp files\n",
    "!rm -r ../../data/zarr_testing/*.*\n",
    "#now make temp rechunked file\n",
    "ds_aws = xr.open_zarr(file_aws,consolidated=True) #read in data\n",
    "ds_aws = ds_aws.isel(time=slice(0,20),lat=slice(6000,7000),lon=slice(19000,20000)) #subset to reasonable size\n",
    "ds_aws_rechunked = ds_aws.chunk({'time':20,'lat':100,'lon':100}).compute() #rechunk data\n",
    "ds_aws_rechunked.to_zarr(fout1,consolidated=True)  #output data\n",
    "ds_aws3 = xr.open_zarr(fout1,consolidated=True) #test read back in\n",
    "# print out value near land\n",
    "xlat = -26\n",
    "xlon = 18\n",
    "date = '2002-06-01'\n",
    "print('v1',ds_aws.analysed_sst.sel(time=date,lat=xlat,lon=xlon).isel(time=0).compute().data)\n",
    "print('v2',ds_aws2.analysed_sst.sel(time=date,lat=xlat,lon=xlon).isel(time=0).compute().data)\n",
    "print('new',ds_aws3.analysed_sst.sel(time=date,lat=xlat,lon=xlon).isel(time=0).compute().data)"
   ]
  },
  {
   "cell_type": "code",
   "execution_count": null,
   "id": "academic-cement",
   "metadata": {},
   "outputs": [],
   "source": []
  }
 ],
 "metadata": {
  "kernelspec": {
   "display_name": "Python 3",
   "language": "python",
   "name": "python3"
  },
  "language_info": {
   "codemirror_mode": {
    "name": "ipython",
    "version": 3
   },
   "file_extension": ".py",
   "mimetype": "text/x-python",
   "name": "python",
   "nbconvert_exporter": "python",
   "pygments_lexer": "ipython3",
   "version": "3.8.6"
  }
 },
 "nbformat": 4,
 "nbformat_minor": 5
}
