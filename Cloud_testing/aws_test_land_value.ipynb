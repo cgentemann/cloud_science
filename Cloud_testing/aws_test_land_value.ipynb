{
 "cells": [
  {
   "cell_type": "code",
   "execution_count": null,
   "id": "compressed-senior",
   "metadata": {},
   "outputs": [],
   "source": [
    "import warnings\n",
    "import numpy as np\n",
    "import pandas as pd\n",
    "import xarray as xr\n",
    "import fsspec\n",
    "\n",
    "warnings.simplefilter('ignore') # filter some warning messages\n",
    "xr.set_options(display_style=\"html\")  #display dataset nicely"
   ]
  },
  {
   "cell_type": "code",
   "execution_count": null,
   "id": "proved-paraguay",
   "metadata": {},
   "outputs": [],
   "source": [
    "file_opendap = 'https://podaac-opendap.jpl.nasa.gov/opendap/allData/ghrsst/data/GDS2/L4/GLOB/JPL/MUR/v4.1/2015/001/20150101090000-JPL-L4_GHRSST-SSTfnd-MUR-GLOB-v02.0-fv04.1.nc'\n",
    "file_local = './../../data/20150101090000-JPL-L4_GHRSST-SSTfnd-MUR-GLOB-v02.0-fv04.1.nc'\n",
    "dir_out = './../../data/zarr_testing/'\n",
    "file_aws = 'https://mur-sst.s3.us-west-2.amazonaws.com/zarr-v1'\n",
    "file_aws2 = 'https://mur-sst.s3.us-west-2.amazonaws.com/zarr'\n",
    "\n",
    "fout1 = dir_out+'test_normalread_v1.zarr'\n",
    "fout2 = dir_out+'test_rawread_v1.zarr'\n",
    "fout3 = dir_out+'test_subset_v1.zarr'"
   ]
  },
  {
   "cell_type": "code",
   "execution_count": null,
   "id": "boolean-radical",
   "metadata": {},
   "outputs": [],
   "source": [
    "%%time\n",
    "ds_aws = xr.open_zarr(file_aws,consolidated=True)\n",
    "#ds_aws"
   ]
  },
  {
   "cell_type": "code",
   "execution_count": null,
   "id": "accredited-application",
   "metadata": {},
   "outputs": [],
   "source": [
    "%%time\n",
    "ds_aws2 = xr.open_zarr(file_aws2,consolidated=True)\n",
    "#ds_aws2"
   ]
  },
  {
   "cell_type": "code",
   "execution_count": null,
   "id": "legendary-cosmetic",
   "metadata": {},
   "outputs": [],
   "source": [
    "ds_odap = xr.open_dataset(file_opendap)\n",
    "#ds_odap"
   ]
  },
  {
   "cell_type": "code",
   "execution_count": null,
   "id": "exclusive-single",
   "metadata": {},
   "outputs": [],
   "source": [
    "ds_local = xr.open_dataset(file_local)\n",
    "#ds_local"
   ]
  },
  {
   "cell_type": "code",
   "execution_count": null,
   "id": "weekly-arnold",
   "metadata": {},
   "outputs": [],
   "source": [
    "#ds_local.analysed_sst.sel(lat=slice(20,30),lon=slice(-120,-100)).isel(time=0).plot()"
   ]
  },
  {
   "cell_type": "code",
   "execution_count": null,
   "id": "instructional-gambling",
   "metadata": {},
   "outputs": [],
   "source": [
    "file_aws = 'https://mur-sst.s3.us-west-2.amazonaws.com/zarr-v1'\n",
    "file_aws2 = 'https://mur-sst.s3.us-west-2.amazonaws.com/zarr'\n",
    "ds_aws = xr.open_zarr(file_aws,consolidated=True)\n",
    "ds_aws2 = xr.open_zarr(file_aws2,consolidated=True)\n",
    "# print out value near land\n",
    "xlat,xlon,date = 24, -100, '2015-01-01'\n",
    "#print('local file',ds_local.analysed_sst.sel(time=date,lat=xlat,lon=xlon).isel(time=0).data)\n",
    "print('opendap file',ds_odap.analysed_sst.sel(time=date,lat=xlat,lon=xlon).data)\n",
    "print('aws v1',ds_aws.analysed_sst.sel(time=date,lat=xlat,lon=xlon).compute().data)\n",
    "print('aws v2',ds_aws2.analysed_sst.sel(time=date,lat=xlat,lon=xlon).compute().data)"
   ]
  },
  {
   "cell_type": "code",
   "execution_count": 7,
   "id": "sunrise-steel",
   "metadata": {},
   "outputs": [
    {
     "name": "stdout",
     "output_type": "stream",
     "text": [
      "opendap file nan\n",
      "aws v1 nan\n",
      "aws v2 265.382\n"
     ]
    }
   ],
   "source": [
    "# print out value near land\n",
    "xlat,xlon,date = 24, -100, '2015-01-01'\n",
    "#print('local file',ds_local.analysed_sst.sel(time=date,lat=xlat,lon=xlon).isel(time=0).data)\n",
    "print('opendap file',ds_odap.analysed_sst.sel(time=date,lat=xlat,lon=xlon).data)\n",
    "print('aws v1',ds_aws.analysed_sst.sel(time=date,lat=xlat,lon=xlon).compute().data)\n",
    "print('aws v2',ds_aws2.analysed_sst.sel(time=date,lat=xlat,lon=xlon).compute().data)"
   ]
  },
  {
   "cell_type": "markdown",
   "id": "wired-bidding",
   "metadata": {},
   "source": [
    "in AWS v2, this is the re-chunked version of the zarr data calculated using ryan's rechunker library.\n",
    "for some reason in the .json fill_value was changed to a fill_value (-32768) \n",
    "It looks like the xarray/zarr library is applying the scale_factor (.001) and add_offset (298.15) because it isn't nan"
   ]
  },
  {
   "cell_type": "markdown",
   "id": "accepted-determination",
   "metadata": {},
   "source": [
    "## Can we recreate rechunker issue using a smaller version of the data?"
   ]
  },
  {
   "cell_type": "code",
   "execution_count": null,
   "id": "parliamentary-salvation",
   "metadata": {},
   "outputs": [],
   "source": [
    "%%time\n",
    "ds_aws = xr.open_zarr(file_aws,consolidated=True)\n",
    "#ds_aws = ds_aws.isel(time=slice(0,10),lat=slice(1000,3000),lon=slice(0,1000))\n",
    "ds_aws2 = xr.open_zarr(file_aws2,consolidated=True)\n",
    "#ds_aws2 = ds_aws2.isel(time=slice(0,10),lat=slice(1000,3000),lon=slice(0,1000))\n",
    "print('examine chunking in arrays')\n",
    "print('v1',ds_aws.analysed_sst.data)\n",
    "print('v2',ds_aws2.analysed_sst.data)\n",
    "\n",
    "# print out value near land\n",
    "xlat = 24\n",
    "xlon = -100\n",
    "date = '2015-01-01'\n",
    "print('aws v1',ds_aws.analysed_sst.sel(time=date,lat=xlat,lon=xlon).compute().data)\n",
    "print('aws v2',ds_aws2.analysed_sst.sel(time=date,lat=xlat,lon=xlon).compute().data)"
   ]
  },
  {
   "cell_type": "code",
   "execution_count": null,
   "id": "incoming-yemen",
   "metadata": {},
   "outputs": [],
   "source": [
    "#ds_aws.analysed_sst[0,6000:7000,19000:20000].plot()"
   ]
  },
  {
   "cell_type": "markdown",
   "id": "vietnamese-marijuana",
   "metadata": {},
   "source": [
    "## test creating new zarr data store by \n",
    "- reading in zarr store\n",
    "- rechuncking\n",
    "- writing out\n",
    "- reading it back in from the new store\n",
    "- outputting a data point"
   ]
  },
  {
   "cell_type": "markdown",
   "id": "looking-passing",
   "metadata": {},
   "source": [
    "# testing aimee rechunker code"
   ]
  },
  {
   "cell_type": "code",
   "execution_count": null,
   "id": "blank-shower",
   "metadata": {},
   "outputs": [],
   "source": [
    "# create a subset of the data to test rechunker\n",
    "ds_aws = xr.open_zarr(file_aws,consolidated=True) #read in data\n",
    "ds_aws = ds_aws.isel(time=slice(0,20),lat=slice(6000,7000),lon=slice(19000,20000)) #subset to reasonable size\n",
    "ds_aws.to_zarr(fout3,consolidated=True)  #output data\n",
    "ds_aws_subset = xr.open_zarr(fout3,consolidated=True) #test read back in\n",
    "# print out value near land\n",
    "xlat = -26\n",
    "xlon = 18\n",
    "date = '2002-06-01'\n",
    "print('v1',ds_aws.analysed_sst.sel(time=date,lat=xlat,lon=xlon).isel(time=0).compute().data)\n",
    "print('v2',ds_aws2.analysed_sst.sel(time=date,lat=xlat,lon=xlon).isel(time=0).compute().data)\n",
    "print('new',ds_aws_subset.analysed_sst.sel(time=date,lat=xlat,lon=xlon).isel(time=0).compute().data)"
   ]
  },
  {
   "cell_type": "code",
   "execution_count": null,
   "id": "popular-benjamin",
   "metadata": {},
   "outputs": [],
   "source": [
    "from rechunker import rechunk\n",
    "import s3fs\n",
    "#import xarray as xr\n",
    "import zarr\n",
    "import dask.array as dsa\n",
    "import shutil\n",
    "from dask.diagnostics import ProgressBar\n",
    "import numpy as np\n",
    "import xarray as xr\n",
    "import os\n",
    "import fsspec\n",
    "import pandas as pd\n",
    "\n",
    "PANGEO_SCRATCH = os.environ['PANGEO_SCRATCH']\n",
    "print(PANGEO_SCRATCH)\n",
    "#mapper = fsspec.get_mapper(f'{PANGEO_SCRATCH}/data.zarr')"
   ]
  },
  {
   "cell_type": "code",
   "execution_count": null,
   "id": "approximate-honolulu",
   "metadata": {},
   "outputs": [],
   "source": [
    "# load the data\n",
    "ds_zarr = zarr.open_consolidated(fout3, mode='r')\n",
    "print(zarr.tree(ds_zarr))"
   ]
  },
  {
   "cell_type": "code",
   "execution_count": null,
   "id": "portable-queue",
   "metadata": {},
   "outputs": [],
   "source": [
    "#rechunker plan\n",
    "s3 = s3fs.S3FileSystem(client_kwargs=dict(region_name='us-west-2'),anon=False, default_fill_cache=False, skip_instance_cache=True)\n",
    "\n",
    "s3_rechunk_store = s3fs.S3Map(root=f'{PANGEO_SCRATCH}/new-group_v5.zarr', create=True, s3=s3)\n",
    "\n",
    "# Note this path must exist in S3 or will raise rechunker assertion, `assert temp_store_or_group is not None`\n",
    "s3_tmp_store = s3fs.S3Map(root=f'{PANGEO_SCRATCH}/tmp_v5.zarr', create=True, s3=s3)"
   ]
  },
  {
   "cell_type": "code",
   "execution_count": null,
   "id": "adopted-thinking",
   "metadata": {},
   "outputs": [],
   "source": [
    "list(s3_rechunk_store)"
   ]
  },
  {
   "cell_type": "code",
   "execution_count": null,
   "id": "compressed-hygiene",
   "metadata": {},
   "outputs": [],
   "source": [
    "target_chunks = {\n",
    "    'analysed_sst': {'time': 20, 'lat': 100, 'lon': 100},\n",
    "    'analysis_error': {'time': 20, 'lat': 100, 'lon': 100},\n",
    "    'mask': {'time': 20, 'lat': 100, 'lon': 100},\n",
    "    'sea_ice_fraction': {'time': 20, 'lat': 100, 'lon': 100},\n",
    "    'lat': None,\n",
    "    'lon': None,\n",
    "    'time': None\n",
    "}\n",
    "max_mem = '1GB'\n",
    "\n",
    "array_plan = rechunk(ds_zarr, target_chunks, max_mem, s3_rechunk_store, s3_tmp_store)\n",
    "array_plan"
   ]
  },
  {
   "cell_type": "code",
   "execution_count": null,
   "id": "massive-merchandise",
   "metadata": {},
   "outputs": [],
   "source": [
    "with ProgressBar():\n",
    "    array_plan.execute()"
   ]
  },
  {
   "cell_type": "code",
   "execution_count": null,
   "id": "careful-measurement",
   "metadata": {},
   "outputs": [],
   "source": []
  },
  {
   "cell_type": "markdown",
   "id": "artificial-amino",
   "metadata": {},
   "source": [
    "## looking at xarray .sel round off error that seems to be not selecting all the valid coordinate points"
   ]
  },
  {
   "cell_type": "code",
   "execution_count": null,
   "id": "global-eleven",
   "metadata": {},
   "outputs": [],
   "source": [
    "print(ds_local.lat[10043:10049].data)"
   ]
  },
  {
   "cell_type": "markdown",
   "id": "chubby-maintenance",
   "metadata": {},
   "source": [
    "The results above show that (as expected) the lat coordinate has .01 precision"
   ]
  },
  {
   "cell_type": "code",
   "execution_count": null,
   "id": "coordinated-bobby",
   "metadata": {},
   "outputs": [],
   "source": [
    "print('these should all be len=3 since slice is inclusive of first/last points')\n",
    "print(ds_local.lat.sel(lat=slice(10.46,10.48)).data)\n",
    "print(ds_local.lat.sel(lat=slice(10.45,10.47)).data,'missing first&last points')\n",
    "print(ds_local.lat.sel(lat=slice(10.43,10.45)).data)\n",
    "print(ds_local.lat.sel(lat=slice(10.47,10.49)).data)\n",
    "print(ds_local.lat.sel(lat=slice(11.45,11.47)).data,'missing first&last points')"
   ]
  },
  {
   "cell_type": "code",
   "execution_count": null,
   "id": "musical-success",
   "metadata": {},
   "outputs": [],
   "source": [
    "print('these should all be len=5 since slice is inclusive of first/last points')\n",
    "print(ds_local.lat.sel(lat=slice(11.46,11.50)).data)\n",
    "print(ds_local.lat.sel(lat=slice(11.45,11.49)).data,'missing first point')\n",
    "print(ds_local.lat.sel(lat=slice(11.43,11.47)).data,'missing last point')\n",
    "print(ds_local.lat.sel(lat=slice(11.41,11.45)).data,'missing first point')"
   ]
  },
  {
   "cell_type": "code",
   "execution_count": null,
   "id": "informal-sullivan",
   "metadata": {},
   "outputs": [],
   "source": [
    "#put in exact lats and test\n",
    "ds_local = xr.open_dataset(file_local)\n",
    "ds_test = ds_local.copy(deep=True)\n",
    "test_lat = np.arange(-89.99,90,.01)\n",
    "ds_test = ds_test.assign_coords(lat=test_lat)\n",
    "print('these should all be len=5 since slice is inclusive of first/last points')\n",
    "print(ds_test.lat.sel(lat=slice(11.46,11.50)).data,'missing last point')\n",
    "print(ds_test.lat.sel(lat=slice(11.45,11.49)).data,'missing last point')\n",
    "print(ds_test.lat.sel(lat=slice(11.43,11.47)).data,'missing last point')\n",
    "print(ds_test.lat.sel(lat=slice(11.41,11.45)).data,'missing last point')"
   ]
  },
  {
   "cell_type": "code",
   "execution_count": null,
   "id": "killing-penalty",
   "metadata": {},
   "outputs": [],
   "source": [
    "#put in exact lats and test\n",
    "ds_local = xr.open_dataset(file_local)\n",
    "ds_test = ds_local.copy(deep=True)\n",
    "ds_test = ds_test.assign_coords(lat=ds_local.lat.data)\n",
    "print('these should all be len=5 since slice is inclusive of first/last points')\n",
    "print(ds_test.lat.sel(lat=slice(11.46,11.50)).data)\n",
    "print(ds_test.lat.sel(lat=slice(11.45,11.49)).data,'missing first point')\n",
    "print(ds_test.lat.sel(lat=slice(11.43,11.47)).data,'missing last point')\n",
    "print(ds_test.lat.sel(lat=slice(11.41,11.45)).data,'missing first point')"
   ]
  },
  {
   "cell_type": "code",
   "execution_count": null,
   "id": "collaborative-optics",
   "metadata": {},
   "outputs": [],
   "source": []
  },
  {
   "cell_type": "code",
   "execution_count": null,
   "id": "designed-smooth",
   "metadata": {},
   "outputs": [],
   "source": []
  },
  {
   "cell_type": "code",
   "execution_count": null,
   "id": "dirty-white",
   "metadata": {},
   "outputs": [],
   "source": []
  },
  {
   "cell_type": "code",
   "execution_count": null,
   "id": "foreign-prevention",
   "metadata": {},
   "outputs": [],
   "source": [
    "# test by reading REGULAR \n",
    "#first remove temp files\n",
    "!rm -r ../../data/zarr_testing/*.*\n",
    "#now make temp rechunked file\n",
    "ds_aws = xr.open_zarr(file_aws,consolidated=True) #read in data\n",
    "ds_aws = ds_aws.isel(time=slice(0,20),lat=slice(6000,7000),lon=slice(19000,20000)) #subset to reasonable size\n",
    "ds_aws_rechunked = ds_aws.chunk({'time':20,'lat':100,'lon':100}).compute() #rechunk data\n",
    "ds_aws_rechunked.to_zarr(fout1,consolidated=True)  #output data\n",
    "ds_aws3 = xr.open_zarr(fout1,consolidated=True) #test read back in\n",
    "# print out value near land\n",
    "xlat = -26\n",
    "xlon = 18\n",
    "date = '2002-06-01'\n",
    "print('v1',ds_aws.analysed_sst.sel(time=date,lat=xlat,lon=xlon).isel(time=0).compute().data)\n",
    "print('v2',ds_aws2.analysed_sst.sel(time=date,lat=xlat,lon=xlon).isel(time=0).compute().data)\n",
    "print('new',ds_aws3.analysed_sst.sel(time=date,lat=xlat,lon=xlon).isel(time=0).compute().data)"
   ]
  },
  {
   "cell_type": "code",
   "execution_count": null,
   "id": "familiar-diary",
   "metadata": {},
   "outputs": [],
   "source": []
  }
 ],
 "metadata": {
  "kernelspec": {
   "display_name": "Python 3 (ipykernel)",
   "language": "python",
   "name": "python3"
  },
  "language_info": {
   "codemirror_mode": {
    "name": "ipython",
    "version": 3
   },
   "file_extension": ".py",
   "mimetype": "text/x-python",
   "name": "python",
   "nbconvert_exporter": "python",
   "pygments_lexer": "ipython3",
   "version": "3.7.12"
  }
 },
 "nbformat": 4,
 "nbformat_minor": 5
}
