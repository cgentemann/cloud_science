{
 "cells": [
  {
   "cell_type": "markdown",
   "id": "0d13f684-bda7-4e3c-8014-dc3a7f79fda6",
   "metadata": {},
   "source": [
    "# MUR SST Benchmark tests using consolidated metadata versus individual netcdf \n",
    "\n",
    "NASA JPL PODAAC has put the entire [MUR SST](https://podaac.jpl.nasa.gov/dataset/MUR-JPL-L4-GLOB-v4.1) dataset on AWS cloud as individual netCDF files, **but all ~7000 of them are netCDF files.**\\ Accessing one file works well, but accessing multiple files is **very slow** because the metadata for each file has to be queried. Here, we create **fast access** by consolidating the metadata and accessing the entire dataset rapidly via zarr. More background on this project:\n",
    "[medium article](https://medium.com/pangeo/fake-it-until-you-make-it-reading-goes-netcdf4-data-on-aws-s3-as-zarr-for-rapid-data-access-61e33f8fe685) and in this [repo](https://github.com/lsterzinger/fsspec-reference-maker-tutorial). We need help developing documentation and more test datasets. If you want to help, we are working in the [Pangeo Gitter](https://gitter.im/pangeo-data/cloud-performant-netcdf4).\n",
    "\n",
    "To run this code:\n",
    "- you need to set your AWS credentials up using `aws configure --profile esip-qhub`\n",
    "- you need to set up your `.netrc` file in your home directory with your earthdata login info\n",
    "\n",
    "Authors:\n",
    "- [Chelle Gentemann](https://github.com/cgentemann)\n",
    "- [Rich Signell](https://github.com/rsignell-usgs)\n",
    "- [Lucas Steringzer](https://github.com/lsterzinger/)\n",
    "- [Martin Durant](https://github.com/martindurant)\n",
    "\n",
    "Credit:\n",
    "- Funding: Interagency Implementation and Advanced Concepts Team [IMPACT](https://earthdata.nasa.gov/esds/impact) for the Earth Science Data Systems (ESDS) program and AWS Public Dataset Program\n",
    "- AWS Credit Program\n",
    "- ESIP Hub\n",
    "\n",
    "## Summary of results\n",
    "\n",
    "| Test | Consolidated-metadata | Single netCDF | Improvement |\n",
    "| :---- | :----: |:----: |:----:|\n",
    "| Access entire dataset |  1:41 min | 60 min*  | 36x |\n",
    "| Plot 1 year at point  | 14 sec |  4:12 min | 18x |\n",
    "| Plot 1 day            |  50 sec  |  1:07 min    | 1.4x |\n",
    "\n",
    "*Extrapolated from 3:16 min for 1 year to 18 years of data\n",
    "\n",
    "Accessing the entire dataset is substantially faster because we have already consolidated the metadata into a single file.\\\n",
    "Accessing 1 year of data is also substantially faster because our single metadata file can point to exactly where the data is rather than first accessing the metadata for each day, then finding the data.\\\n",
    "Accessing 1 day is roughly the same amount of time because both are just calling metadata for a single file.\n",
    "\n",
    "\n",
    "| Test | Consolidated-metadata | Zarr-v1 | Zarr |\n",
    "| :---- | :----: |:----: |:----:|\n",
    "| Access entire dataset |  1:41 min | 5 sec  | 1 sec |\n",
    "| Plot 1 year at point  | 14 sec |  6 sec | 3 sec |\n",
    "| Plot 1 day            |  50 sec  |  55 sec    | a long time |\n",
    "\n",
    "This compares the consolidated metadata access with two Zarr versions of MUR SST currently stored on AWS.\n",
    "Zarr-v1 was re-chuncked for general use, balancing time/space. The access is faster for the timeseries analysis, because there are less chuncks in the zarr file to access than the netcdf file. The access is slightly slower to image the globe for a single day, because the netcdf file is in 1 file, while the Zarr-v1 has to access 360x180 files.\n",
    "Zarr was re-chuncked for timeseries analysis. The access is faster for the timeseries analysis, because there are less chuncks in the zarr file to access than the netcdf file. The access is substantially slower to image the globe for a single day, because with the chuncking set this way, to access a single day requires reading in the entire 16 TB dataset."
   ]
  },
  {
   "cell_type": "code",
   "execution_count": null,
   "id": "34752a7c-2740-46cd-95b6-b07fa9e91377",
   "metadata": {},
   "outputs": [],
   "source": [
    "import netrc\n",
    "import os\n",
    "import sys\n",
    "from datetime import datetime\n",
    "from http.cookiejar import CookieJar\n",
    "from urllib import request\n",
    "\n",
    "import fsspec\n",
    "import hvplot.xarray\n",
    "import requests\n",
    "import s3fs\n",
    "import xarray as xr"
   ]
  },
  {
   "cell_type": "code",
   "execution_count": null,
   "id": "5d66a71e-1dd9-46dd-a480-735d6cd607c7",
   "metadata": {},
   "outputs": [],
   "source": [
    "#########Setting up earthdata login credentials\n",
    "# this code is from https://github.com/podaac/tutorials/blob/master/notebooks/cloudwebinar/cloud_direct_access_s3.py\n",
    "def setup_earthdata_login_auth(endpoint):\n",
    "    \"\"\"\n",
    "    Set up the request library so that it authenticates against the given Earthdata Login\n",
    "    endpoint and is able to track cookies between requests.  This looks in the .netrc file\n",
    "    first and if no credentials are found, it prompts for them.\n",
    "    Valid endpoints:\n",
    "        urs.earthdata.nasa.gov - Earthdata Login production\n",
    "    \"\"\"\n",
    "    try:\n",
    "        username, _, password = netrc.netrc().authenticators(endpoint)\n",
    "    except (FileNotFoundError, TypeError):\n",
    "        # FileNotFound = There's no .netrc file\n",
    "        # TypeError = The endpoint isn't in the netrc file, causing the above to try unpacking None\n",
    "        print(\"There's no .netrc file or the The endpoint isn't in the netrc file\")\n",
    "\n",
    "    manager = request.HTTPPasswordMgrWithDefaultRealm()\n",
    "    manager.add_password(None, endpoint, username, password)\n",
    "    auth = request.HTTPBasicAuthHandler(manager)\n",
    "\n",
    "    jar = CookieJar()\n",
    "    processor = request.HTTPCookieProcessor(jar)\n",
    "    opener = request.build_opener(auth, processor)\n",
    "    request.install_opener(opener)\n",
    "\n",
    "\n",
    "###############################################################################\n",
    "edl = \"urs.earthdata.nasa.gov\"\n",
    "setup_earthdata_login_auth(edl)\n",
    "\n",
    "\n",
    "def begin_s3_direct_access():\n",
    "    url = \"https://archive.podaac.earthdata.nasa.gov/s3credentials\"\n",
    "    response = requests.get(url).json()\n",
    "    return s3fs.S3FileSystem(\n",
    "        key=response[\"accessKeyId\"],\n",
    "        secret=response[\"secretAccessKey\"],\n",
    "        token=response[\"sessionToken\"],\n",
    "        client_kwargs={\"region_name\": \"us-west-2\"},\n",
    "    )"
   ]
  },
  {
   "cell_type": "code",
   "execution_count": null,
   "id": "cef33bef-3750-4389-b3ce-0d6b0db933b6",
   "metadata": {},
   "outputs": [],
   "source": [
    "url = \"https://archive.podaac.earthdata.nasa.gov/s3credentials\"\n",
    "response = requests.get(url).json()"
   ]
  },
  {
   "cell_type": "markdown",
   "id": "7c08929b-7480-43a9-abe9-4f1f16de7259",
   "metadata": {},
   "source": [
    "- Consolidated metadata test (without simple_templates)"
   ]
  },
  {
   "cell_type": "code",
   "execution_count": null,
   "id": "80c12d78-839b-48ae-86c8-cc37da8c83ca",
   "metadata": {},
   "outputs": [],
   "source": [
    "%%time\n",
    "json_consolidated = \"s3://esip-qhub-public/nasa/mur/murv41_consolidated_20211011.json\"\n",
    "\n",
    "s_opts = {\"requester_pays\": True, \"skip_instance_cache\": True}\n",
    "r_opts = {\n",
    "    \"key\": response[\"accessKeyId\"],\n",
    "    \"secret\": response[\"secretAccessKey\"],\n",
    "    \"token\": response[\"sessionToken\"],\n",
    "    \"client_kwargs\": {\"region_name\": \"us-west-2\"},\n",
    "}\n",
    "\n",
    "fs = fsspec.filesystem(\n",
    "    \"reference\",\n",
    "    fo=json_consolidated,\n",
    "    ref_storage_args=s_opts,\n",
    "    remote_protocol=\"s3\",\n",
    "    remote_options=r_opts,\n",
    "    simple_templates=True,\n",
    ")\n",
    "m = fs.get_mapper(\"\")\n",
    "ds = xr.open_dataset(m, decode_times=False, engine=\"zarr\", consolidated=False)\n",
    "ds.close()\n",
    "ds"
   ]
  },
  {
   "cell_type": "code",
   "execution_count": null,
   "id": "0c8b0a4f-d98c-46e4-8554-af39f722fcd6",
   "metadata": {},
   "outputs": [],
   "source": [
    "%%time\n",
    "# test getting a random value\n",
    "ds[\"analysed_sst\"].sel(time=\"2005-12-20\", lat=0, lon=0, method=\"nearest\")"
   ]
  },
  {
   "cell_type": "code",
   "execution_count": null,
   "id": "27d8d7a8-6f20-4655-b836-5b3d57a909e4",
   "metadata": {},
   "outputs": [],
   "source": [
    "%%time\n",
    "# test getting a random value\n",
    "ts = ds[\"analysed_sst\"].sel(\n",
    "    lat=0.01, lon=0.01, time=slice(\"2005-01-01T09\", \"2006-06-01T09\")\n",
    ")\n",
    "ts.plot()"
   ]
  },
  {
   "cell_type": "code",
   "execution_count": null,
   "id": "0e3dae25-a579-4fed-98cc-d551eb8e9ae4",
   "metadata": {},
   "outputs": [],
   "source": [
    "%%time\n",
    "now = datetime.now()\n",
    "dy = ds[\"analysed_sst\"].sel(time=\"2005-01-01\", method=\"nearest\")\n",
    "dy.hvplot.quadmesh(x=\"lon\", y=\"lat\", geo=True, rasterize=True, cmap=\"turbo\")"
   ]
  },
  {
   "cell_type": "code",
   "execution_count": null,
   "id": "bfaaad6e-4988-4f12-9a1b-84fe2b43258f",
   "metadata": {},
   "outputs": [],
   "source": [
    "then = datetime.now()\n",
    "print(then - now)"
   ]
  },
  {
   "cell_type": "markdown",
   "id": "66ba26c7-7013-478b-8153-18380a790c93",
   "metadata": {},
   "source": [
    "## Benchmark tests for the PODAAC cloud MUR SST, individual netcdf files"
   ]
  },
  {
   "cell_type": "code",
   "execution_count": null,
   "id": "0c3598f4-bf75-48f7-af38-c88a1a18938d",
   "metadata": {},
   "outputs": [],
   "source": [
    "%%time\n",
    "from os.path import dirname, join\n",
    "\n",
    "fs = begin_s3_direct_access()\n",
    "files = fs.glob(\n",
    "    join(\"podaac-ops-cumulus-protected/\", \"MUR-JPL-L4-GLOB-v4.1\", \"2005*.nc\")\n",
    ")\n",
    "ds2 = xr.open_mfdataset(\n",
    "    paths=[fs.open(f) for f in files],\n",
    "    combine=\"by_coords\",\n",
    "    mask_and_scale=True,\n",
    "    decode_cf=True,\n",
    "    chunks={\"time\": 1},  # analysis.\n",
    ")\n",
    "ds2.close()"
   ]
  },
  {
   "cell_type": "code",
   "execution_count": null,
   "id": "1672f4c7-4ab2-46a2-9ff4-6786c4d2e975",
   "metadata": {},
   "outputs": [],
   "source": [
    "%%time\n",
    "# test getting a random value\n",
    "# ts = ds2['analysed_sst'].sel(lat=0.01,lon=0.01,time=slice('2005-01-01T09','2006-01-01T09')) #memory issues times out so break it up\n",
    "tem2 = []\n",
    "for imon in range(12):\n",
    "    tem = (\n",
    "        ds2[\"analysed_sst\"]\n",
    "        .sel(lat=0.01, lon=0.01, time=\"2005-\" + str(imon + 1).zfill(2))\n",
    "        .load()\n",
    "    )\n",
    "    tem2.append(tem)\n",
    "    # print(imon+1)\n",
    "ts = xr.concat(tem2, dim=\"time\")"
   ]
  },
  {
   "cell_type": "code",
   "execution_count": null,
   "id": "00223cbe-886d-49b4-957e-2f9a43adeb51",
   "metadata": {},
   "outputs": [],
   "source": [
    "%%time\n",
    "ts.plot()"
   ]
  },
  {
   "cell_type": "code",
   "execution_count": null,
   "id": "cd91496a-c505-45d5-b51f-a1b22ce449fc",
   "metadata": {},
   "outputs": [],
   "source": [
    "%%time\n",
    "now = datetime.now()\n",
    "dy = ds2[\"analysed_sst\"].sel(time=\"2005-01-01\")\n",
    "dy.hvplot.quadmesh(x=\"lon\", y=\"lat\", geo=True, rasterize=True, cmap=\"turbo\")"
   ]
  },
  {
   "cell_type": "code",
   "execution_count": null,
   "id": "4b9db77c-83b6-4042-ba0f-e2b242e9551e",
   "metadata": {},
   "outputs": [],
   "source": [
    "then = datetime.now()\n",
    "print(then - now)"
   ]
  },
  {
   "cell_type": "markdown",
   "id": "a296a7f7-650a-4be2-973d-11f5c056335f",
   "metadata": {},
   "source": [
    "## Benchmark tests for the AWS cloud [MUR SST](https://registry.opendata.aws/mur/), ~chunked for general use\n",
    "- MUR Level 4 SST dataset in Zarr format. The zarr-v1/ directory contains a zarr store chunked (5, 1799, 3600) along the dimensions (time, lat, lon)."
   ]
  },
  {
   "cell_type": "code",
   "execution_count": null,
   "id": "bd350c85-878d-4e58-a56f-fd0510d864cd",
   "metadata": {},
   "outputs": [],
   "source": [
    "import warnings\n",
    "\n",
    "import fsspec\n",
    "import hvplot.xarray\n",
    "import numpy as np\n",
    "import pandas as pd\n",
    "import xarray as xr\n",
    "import hvplot.xarray\n",
    "\n",
    "warnings.simplefilter(\"ignore\")  # filter some warning messages\n",
    "xr.set_options(display_style=\"html\")  # display dataset nicely"
   ]
  },
  {
   "cell_type": "code",
   "execution_count": null,
   "id": "a99941ab-4565-4133-9767-17af1f2f893e",
   "metadata": {},
   "outputs": [],
   "source": [
    "%%time\n",
    "ds_sst = xr.open_zarr(\n",
    "    \"https://mur-sst.s3.us-west-2.amazonaws.com/zarr-v1\", consolidated=True\n",
    ")\n",
    "ds_sst"
   ]
  },
  {
   "cell_type": "code",
   "execution_count": null,
   "id": "cbac966c-3b1e-41a8-a093-5d6d020ce9e1",
   "metadata": {},
   "outputs": [],
   "source": [
    "%%time\n",
    "ts = ds_sst[\"analysed_sst\"].sel(\n",
    "    lat=0.01, lon=0.01, time=slice(\"2005-01-01T09\", \"2006-01-01T09\")\n",
    ")\n",
    "ts.plot()"
   ]
  },
  {
   "cell_type": "code",
   "execution_count": null,
   "id": "2111f665-42dd-414a-8754-bf9ca4c8db30",
   "metadata": {},
   "outputs": [],
   "source": [
    "%%time\n",
    "now = datetime.now()\n",
    "dy = ds_sst[\"analysed_sst\"].sel(time=\"2005-01-01\")\n",
    "dy.hvplot.quadmesh(x=\"lon\", y=\"lat\", geo=True, rasterize=True, cmap=\"turbo\")"
   ]
  },
  {
   "cell_type": "code",
   "execution_count": null,
   "id": "c165f43f-6aa6-4dd8-9a35-1b79a3600be9",
   "metadata": {},
   "outputs": [],
   "source": [
    "then = datetime.now()\n",
    "print(then - now)"
   ]
  },
  {
   "cell_type": "markdown",
   "id": "c4ca06fb-6b5a-4872-a23e-b7cf41509355",
   "metadata": {},
   "source": [
    "## Benchmark tests for the AWS cloud [MUR SST](https://registry.opendata.aws/mur/), ~chunked for timeseries\n",
    "- MUR Level 4 SST dataset in Zarr format. The zarr/ directory contains a zarr store chunked (6443, 100, 100) along the dimensions (time, lat, lon)."
   ]
  },
  {
   "cell_type": "code",
   "execution_count": null,
   "id": "9ccc11b3-b2e6-48a2-ba90-0e0e5ccbd878",
   "metadata": {},
   "outputs": [],
   "source": [
    "%%time\n",
    "ds_sst = xr.open_zarr(\n",
    "    \"https://mur-sst.s3.us-west-2.amazonaws.com/zarr\", consolidated=True\n",
    ")\n",
    "ds_sst"
   ]
  },
  {
   "cell_type": "code",
   "execution_count": null,
   "id": "3c6a1488-57c4-4f9d-b154-20ed65e1e1aa",
   "metadata": {},
   "outputs": [],
   "source": [
    "%%time\n",
    "ts = ds_sst[\"analysed_sst\"].sel(\n",
    "    lat=0.01, lon=0.01, time=slice(\"2005-01-01T09\", \"2006-01-01T09\")\n",
    ")\n",
    "ts.plot()"
   ]
  },
  {
   "cell_type": "code",
   "execution_count": null,
   "id": "ba8c281c-c6c8-4c2d-a625-f554726add2f",
   "metadata": {},
   "outputs": [],
   "source": [
    "#%%time\n",
    "# now = datetime.now()\n",
    "# dy = ds_sst[\"analysed_sst\"].sel(time=\"2005-01-01\")\n",
    "# dy.hvplot.quadmesh(x='lon', y='lat', geo=True, rasterize=True, cmap='turbo' )"
   ]
  },
  {
   "cell_type": "code",
   "execution_count": null,
   "id": "60ad921c-b1e5-45bc-8f2e-9b9caca5e9b9",
   "metadata": {},
   "outputs": [],
   "source": [
    "# then = datetime.now()\n",
    "# print(then-now)"
   ]
  },
  {
   "cell_type": "code",
   "execution_count": null,
   "id": "fba95534-efc8-4047-81e6-fb1a28f68b8b",
   "metadata": {},
   "outputs": [],
   "source": []
  }
 ],
 "metadata": {
  "kernelspec": {
   "display_name": "Python 3",
   "language": "python",
   "name": "python3"
  },
  "language_info": {
   "codemirror_mode": {
    "name": "ipython",
    "version": 3
   },
   "file_extension": ".py",
   "mimetype": "text/x-python",
   "name": "python",
   "nbconvert_exporter": "python",
   "pygments_lexer": "ipython3",
   "version": "3.7.10"
  }
 },
 "nbformat": 4,
 "nbformat_minor": 5
}
