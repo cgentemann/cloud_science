{
 "cells": [
  {
   "cell_type": "markdown",
   "id": "c8fda77a-aa1c-4334-9e33-fedef0d4d3dc",
   "metadata": {},
   "source": [
    "# Creating consolidated metadata file for MUR SST\n",
    "\n",
    "10/5/2021\n",
    "\n",
    "NASA JPL PODAAC has put the entire [MUR SST](https://podaac.jpl.nasa.gov/dataset/MUR-JPL-L4-GLOB-v4.1) dataset on AWS cloud as individual netCDF files, **but all ~7000 of them are netCDF files.**\\ Accessing one file works well, but accessing multiple files is **very slow** because the metadata for each file has to be queried. Here, we create **fast access** by consolidating the metadata and accessing the entire dataset rapidly via zarr. More background on this project:\n",
    "[medium article](https://medium.com/pangeo/fake-it-until-you-make-it-reading-goes-netcdf4-data-on-aws-s3-as-zarr-for-rapid-data-access-61e33f8fe685) and in this [repo](https://github.com/lsterzinger/fsspec-reference-maker-tutorial). We need help developing documentation and more test datasets. If you want to help, we are working in the [Pangeo Gitter](https://gitter.im/pangeo-data/cloud-performant-netcdf4).\n",
    "\n",
    "\n",
    "To run this code:\n",
    "- you need to set your AWS credentials up using `aws configure --profile esip-qhub`\n",
    "- you need to set up your `.netrc` file in your home directory with your earthdata login info\n",
    "\n",
    "\n",
    "Authors:\n",
    "- [Chelle Gentemann](https://github.com/cgentemann)\n",
    "- [Rich Signell](https://github.com/rsignell-usgs)\n",
    "- [Lucas Steringzer](https://github.com/lsterzinger/)\n",
    "- [Martin Durant](https://github.com/martindurant)\n",
    "\n",
    "Credit:\n",
    "- Funding: Interagency Implementation and Advanced Concepts Team [IMPACT](https://earthdata.nasa.gov/esds/impact) for the Earth Science Data Systems (ESDS) program\n",
    "- AWS Public Dataset [Program](https://registry.opendata.aws/mur/)\n",
    "- [QuanSight](https://www.quansight.com/) for creating Qhub, [ESIP Labs ](https://www.esipfed.org/lab) for deploying it, and [AWS Sustainablity](https://aws.amazon.com/government-education/sustainability-research-credits/) for funding it!"
   ]
  },
  {
   "cell_type": "code",
   "execution_count": null,
   "id": "acknowledged-virgin",
   "metadata": {},
   "outputs": [],
   "source": [
    "import s3fs\n",
    "import requests\n",
    "from urllib import request\n",
    "from http.cookiejar import CookieJar\n",
    "import numpy as np\n",
    "import xarray as xr\n",
    "import matplotlib.pyplot as plt\n",
    "from json import dumps\n",
    "from io import StringIO\n",
    "from os.path import dirname, join\n",
    "import netrc\n",
    "\n",
    "import os\n",
    "import sys\n",
    "import fsspec\n",
    "import ujson   # fast json\n",
    "from fsspec_reference_maker.hdf import SingleHdf5ToZarr \n",
    "from fsspec_reference_maker.combine import MultiZarrToZarr\n",
    "import xarray as xr\n",
    "import dask\n",
    "import hvplot.xarray"
   ]
  },
  {
   "cell_type": "code",
   "execution_count": null,
   "id": "personal-exposure",
   "metadata": {},
   "outputs": [],
   "source": [
    "import fsspec_reference_maker\n",
    "fsspec_reference_maker.__version__"
   ]
  },
  {
   "cell_type": "markdown",
   "id": "6fb21a74-8ca4-42ed-8f0e-97c881f3f4a5",
   "metadata": {},
   "source": [
    "- output file locations"
   ]
  },
  {
   "cell_type": "code",
   "execution_count": null,
   "id": "bf2ae004-5f33-41c6-98d5-461a8b1e74fa",
   "metadata": {},
   "outputs": [],
   "source": [
    "json_dir = 's3://esip-qhub/nasa/mur/jsons_subset_TEST/'\n",
    "json_consolidated_dir = 's3://esip-qhub-public/nasa/mur_TEST/'\n",
    "json_out1 = 'murv41_consolidated_subset_20211005_TEST.json'\n",
    "json_out = './../data/mur_consolidated_tem_subset_TEST.json'"
   ]
  },
  {
   "cell_type": "markdown",
   "id": "secondary-philip",
   "metadata": {},
   "source": [
    "## set up earthdata login credentials\n",
    "- code for setting up earthdata_login from [here](https://github.com/podaac/tutorials/blob/master/notebooks/cloudwebinar/cloud_direct_access_s3.py)\n",
    "- for the earthdata login to work you need to create a .netrc file on your home directory\n",
    "- .netrc file contains:\\\n",
    "machine urs.earthdata.nasa.gov\\\n",
    "login 'earthdata username'\\\n",
    "password 'password'"
   ]
  },
  {
   "cell_type": "code",
   "execution_count": 2,
   "id": "948c5f99-ac4c-4787-857a-dff2c3d5daf0",
   "metadata": {},
   "outputs": [],
   "source": [
    "#pip install earthdata"
   ]
  },
  {
   "cell_type": "code",
   "execution_count": null,
   "id": "38d4c27d-a142-48cc-aee8-f640c8ee77c2",
   "metadata": {},
   "outputs": [],
   "source": [
    "from earthdata import Auth #, DataColletions, DataGranules, Accessor\n",
    "auth = Auth().login()"
   ]
  },
  {
   "cell_type": "code",
   "execution_count": null,
   "id": "alive-kenya",
   "metadata": {},
   "outputs": [],
   "source": [
    "def begin_s3_direct_access():\n",
    "    url=\"https://archive.podaac.earthdata.nasa.gov/s3credentials\"\n",
    "    response = requests.get(url).json()\n",
    "    return s3fs.S3FileSystem(key=response['accessKeyId'],\n",
    "                             secret=response['secretAccessKey'],\n",
    "                             token=response['sessionToken'],\n",
    "                             client_kwargs={'region_name':'us-west-2'})\n"
   ]
  },
  {
   "cell_type": "code",
   "execution_count": null,
   "id": "82eea16b-d7fc-4076-adef-9e286cc788b0",
   "metadata": {},
   "outputs": [],
   "source": [
    "sys.path.append(os.path.join(os.environ['HOME'],'shared','users','lib'))\n",
    "import ebdpy as ebd\n",
    "\n",
    "ebd.set_credentials(profile='esip-qhub')\n",
    "\n",
    "profile = 'esip-qhub'\n",
    "region = 'us-west-2'\n",
    "endpoint = f's3.{region}.amazonaws.com'\n",
    "ebd.set_credentials(profile=profile, region=region, endpoint=endpoint)\n",
    "worker_max = 30\n",
    "client,cluster = ebd.start_dask_cluster(profile=profile,worker_max=worker_max, \n",
    "                                      region=region, use_existing_cluster=True,\n",
    "                                      adaptive_scaling=False, wait_for_cluster=False, \n",
    "                                      environment='pangeo', worker_profile='Medium Worker', \n",
    "                                      propagate_env=True)"
   ]
  },
  {
   "cell_type": "markdown",
   "id": "above-secondary",
   "metadata": {},
   "source": [
    "## Create a list of all MUR files that are on the PODAAC Cloud"
   ]
  },
  {
   "cell_type": "code",
   "execution_count": null,
   "id": "processed-birthday",
   "metadata": {},
   "outputs": [],
   "source": [
    "%%time\n",
    "fs = begin_s3_direct_access()\n",
    "flist = []\n",
    "for lyr in range(2002,2005):\n",
    "    for imon in range(1,13):\n",
    "        fstr = str(lyr)+str(imon).zfill(2)+'*.nc'\n",
    "        files = fs.glob(join(\"podaac-ops-cumulus-protected/\", \"MUR-JPL-L4-GLOB-v4.1\", fstr))\n",
    "        for file in files:\n",
    "            flist.append(file)\n",
    "print('total number of individual netcdf files:',len(flist))"
   ]
  },
  {
   "cell_type": "markdown",
   "id": "fdc63db3-5d5b-4830-b079-3459baad06f4",
   "metadata": {},
   "source": [
    "- add s3 to filenames"
   ]
  },
  {
   "cell_type": "code",
   "execution_count": null,
   "id": "continent-italic",
   "metadata": {},
   "outputs": [],
   "source": [
    "%%time\n",
    "urls = [\"s3://\" + f for f in flist]\n",
    "\n",
    "so = dict(mode='rb', anon=True, default_fill_cache=False, default_cache_type='first')"
   ]
  },
  {
   "cell_type": "markdown",
   "id": "caa013c7-eaeb-429f-bd97-c56851cc0613",
   "metadata": {},
   "source": [
    "- link to filesystem"
   ]
  },
  {
   "cell_type": "code",
   "execution_count": null,
   "id": "f60b45f6-8969-42f5-be0b-1898457bac81",
   "metadata": {},
   "outputs": [],
   "source": [
    "fs2 = fsspec.filesystem('s3', anon=False)  "
   ]
  },
  {
   "cell_type": "code",
   "execution_count": null,
   "id": "eef04362-df1c-466c-8b5d-b2a29894e65b",
   "metadata": {},
   "outputs": [],
   "source": [
    "infile = fs.open(urls[0], **so) #create link to file\n",
    "h5chunks = SingleHdf5ToZarr(infile, urls[0], inline_threshold=300)\n",
    "h5chunks"
   ]
  },
  {
   "cell_type": "code",
   "execution_count": null,
   "id": "80ed37a0-fb1c-4869-83cc-a859c937eb21",
   "metadata": {},
   "outputs": [],
   "source": [
    "#ujson.dumps(h5chunks.translate()).encode()"
   ]
  },
  {
   "cell_type": "code",
   "execution_count": null,
   "id": "limited-poverty",
   "metadata": {},
   "outputs": [],
   "source": [
    "#If the directory exists, remove it (and all the files)\n",
    "try:\n",
    "    fs2.rm(json_dir, recursive=True)\n",
    "except:\n",
    "    pass"
   ]
  },
  {
   "cell_type": "code",
   "execution_count": null,
   "id": "numeric-classic",
   "metadata": {},
   "outputs": [],
   "source": [
    "def gen_json(u):\n",
    "    with fs.open(u, **so) as infile:\n",
    "        h5chunks = SingleHdf5ToZarr(infile, u, inline_threshold=300)\n",
    "        p = u.split('/')\n",
    "        date = p[4][0:8] #p[3]\n",
    "        fname = p[4] #p[5]\n",
    "        outf = f'{json_dir}{date}.{fname}.json'\n",
    "        print(outf)\n",
    "        with fs2.open(outf, 'wb') as f:\n",
    "            f.write(ujson.dumps(h5chunks.translate()).encode());"
   ]
  },
  {
   "cell_type": "markdown",
   "id": "3fbf666e-2459-4a6a-af6d-509c387f3d6f",
   "metadata": {},
   "source": [
    "- Create all the individual files using dask"
   ]
  },
  {
   "cell_type": "code",
   "execution_count": null,
   "id": "opponent-public",
   "metadata": {},
   "outputs": [],
   "source": [
    "%%time\n",
    "_ = dask.compute(*[dask.delayed(gen_json)(u) for u in urls], retries=10);"
   ]
  },
  {
   "cell_type": "code",
   "execution_count": null,
   "id": "limiting-hotel",
   "metadata": {
    "tags": []
   },
   "outputs": [],
   "source": [
    "flist2 = fs2.ls(json_dir)\n",
    "furls = sorted(['s3://'+f for f in flist2])\n",
    "print(len(furls))\n",
    "furls[0]"
   ]
  },
  {
   "cell_type": "code",
   "execution_count": null,
   "id": "bd4a98ed-ac94-46b0-ac6c-9ef68c90e38a",
   "metadata": {},
   "outputs": [],
   "source": [
    "client.close(); cluster.shutdown()"
   ]
  },
  {
   "cell_type": "code",
   "execution_count": null,
   "id": "10e1a0a5-44b8-4f0a-9d22-630b6f70ac26",
   "metadata": {},
   "outputs": [],
   "source": [
    "from dask.distributed import Client"
   ]
  },
  {
   "cell_type": "code",
   "execution_count": null,
   "id": "ongoing-acrobat",
   "metadata": {},
   "outputs": [],
   "source": [
    "client = Client()"
   ]
  },
  {
   "cell_type": "code",
   "execution_count": null,
   "id": "mediterranean-throat",
   "metadata": {},
   "outputs": [],
   "source": [
    "client"
   ]
  },
  {
   "cell_type": "code",
   "execution_count": null,
   "id": "emerging-greeting",
   "metadata": {},
   "outputs": [],
   "source": [
    "%%time\n",
    "mzz = MultiZarrToZarr(furls, \n",
    "    storage_options={'anon':False}, \n",
    "    remote_protocol='s3',\n",
    "    remote_options={'anon' : 'True'},   #JSON files  \n",
    "    xarray_open_kwargs={\n",
    "        'decode_cf' : False,\n",
    "        'mask_and_scale' : False,\n",
    "        'decode_times' : False,\n",
    "        'use_cftime' : False,\n",
    "        'drop_variables': ['reference_time', 'crs'],\n",
    "        'decode_coords' : False\n",
    "    },\n",
    "    xarray_concat_args={\n",
    "#          \"data_vars\": \"minimal\",\n",
    "#          \"coords\": \"minimal\",\n",
    "#          \"compat\": \"override\",\n",
    "        \"join\": \"override\",\n",
    "        \"combine_attrs\": \"override\",\n",
    "        \"dim\": \"time\"\n",
    "    }\n",
    ")"
   ]
  },
  {
   "cell_type": "code",
   "execution_count": null,
   "id": "contrary-smart",
   "metadata": {},
   "outputs": [],
   "source": [
    "%%time\n",
    "#%%prun -D multizarr_profile \n",
    "mzz.translate(json_out)"
   ]
  },
  {
   "cell_type": "code",
   "execution_count": null,
   "id": "ordinary-signal",
   "metadata": {},
   "outputs": [],
   "source": [
    "rpath = json_consolidated_dir + json_out1\n",
    "fs2.put_file(lpath=json_out, rpath=rpath)"
   ]
  },
  {
   "cell_type": "markdown",
   "id": "excess-teach",
   "metadata": {},
   "source": [
    "# testing"
   ]
  },
  {
   "cell_type": "markdown",
   "id": "2c7aff3b-833c-4d70-8a44-f5c2158959e7",
   "metadata": {},
   "source": [
    "#### Try a single json"
   ]
  },
  {
   "cell_type": "code",
   "execution_count": null,
   "id": "bd2da57c-4757-4839-8da2-abf6e7c45886",
   "metadata": {},
   "outputs": [],
   "source": [
    "url=\"https://archive.podaac.earthdata.nasa.gov/s3credentials\"\n",
    "response = requests.get(url).json()"
   ]
  },
  {
   "cell_type": "code",
   "execution_count": null,
   "id": "7e030b3a-612e-4e14-b6a8-dc5cbb85eb46",
   "metadata": {},
   "outputs": [],
   "source": [
    "turl = json_dir+'20021201.20021201090000-JPL-L4_GHRSST-SSTfnd-MUR-GLOB-v02.0-fv04.1.nc.json'"
   ]
  },
  {
   "cell_type": "code",
   "execution_count": null,
   "id": "7374c6cd-f063-4f7c-b6b0-437b1fbad4ed",
   "metadata": {
    "tags": []
   },
   "outputs": [],
   "source": [
    "%%time\n",
    "s_opts = {'requester_pays':True, 'skip_instance_cache':True}\n",
    "r_opts = {'key':response['accessKeyId'],\n",
    "          'secret':response['secretAccessKey'],\n",
    "          'token':response['sessionToken'],\n",
    "          'client_kwargs':{'region_name':'us-west-2'}}\n",
    "\n",
    "fs = fsspec.filesystem(\"reference\", fo=turl, \n",
    "                       ref_storage_args=s_opts,\n",
    "                       remote_protocol='s3', \n",
    "                       remote_options=r_opts,\n",
    "                       simple_templates=True)\n",
    "m = fs.get_mapper(\"\")\n",
    "ds = xr.open_dataset(m, engine=\"zarr\", consolidated=False)\n",
    "ds"
   ]
  },
  {
   "cell_type": "markdown",
   "id": "d5ffe3cc-d701-494d-9a63-39c2b4ada5dd",
   "metadata": {},
   "source": [
    "#### Try the consolidated JSON"
   ]
  },
  {
   "cell_type": "code",
   "execution_count": null,
   "id": "mobile-plain",
   "metadata": {},
   "outputs": [],
   "source": [
    "%%time\n",
    "\n",
    "rpath = json_consolidated_dir + json_out1\n",
    "\n",
    "s_opts = {'requester_pays':True, 'skip_instance_cache':True}\n",
    "r_opts = {'key':response['accessKeyId'],\n",
    "          'secret':response['secretAccessKey'],\n",
    "          'token':response['sessionToken'],\n",
    "          'client_kwargs':{'region_name':'us-west-2'}}\n",
    "\n",
    "fs = fsspec.filesystem(\"reference\", \n",
    "                       fo=rpath, \n",
    "                       ref_storage_args=s_opts,\n",
    "                       remote_protocol='s3', \n",
    "                       remote_options=r_opts)#,simple_templates=True)\n",
    "m = fs.get_mapper(\"\")\n",
    "ds = xr.open_dataset(m, engine=\"zarr\", consolidated=False)\n",
    "ds"
   ]
  },
  {
   "cell_type": "code",
   "execution_count": null,
   "id": "b69c7659-e74c-4c3f-b4ab-bbd0e9c98abb",
   "metadata": {},
   "outputs": [],
   "source": [
    "import hvplot.xarray"
   ]
  },
  {
   "cell_type": "code",
   "execution_count": null,
   "id": "95740e83-7042-4dff-a832-bc7a30ee987d",
   "metadata": {},
   "outputs": [],
   "source": [
    "%%time\n",
    "sst = ds['analysed_sst'].sel(time='2002-12-20 12:00', method='nearest').load()\n",
    "sst.hvplot.quadmesh(x='lon', y='lat', geo=True, rasterize=True, cmap='turbo' )"
   ]
  },
  {
   "cell_type": "code",
   "execution_count": null,
   "id": "4ff82a5f-c4fe-4f71-b73a-1906ed41b641",
   "metadata": {},
   "outputs": [],
   "source": []
  }
 ],
 "metadata": {
  "kernelspec": {
   "display_name": "Python [conda env:pangeo]",
   "language": "python",
   "name": "conda-env-pangeo-py"
  },
  "language_info": {
   "codemirror_mode": {
    "name": "ipython",
    "version": 3
   },
   "file_extension": ".py",
   "mimetype": "text/x-python",
   "name": "python",
   "nbconvert_exporter": "python",
   "pygments_lexer": "ipython3",
   "version": "3.9.7"
  },
  "widgets": {
   "application/vnd.jupyter.widget-state+json": {
    "state": {},
    "version_major": 2,
    "version_minor": 0
   }
  }
 },
 "nbformat": 4,
 "nbformat_minor": 5
}
