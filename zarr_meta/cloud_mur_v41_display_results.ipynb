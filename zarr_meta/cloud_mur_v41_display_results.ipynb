{
 "cells": [
  {
   "cell_type": "markdown",
   "id": "b18af7bc-47e8-4202-bc81-802b2f3be07b",
   "metadata": {},
   "source": [
    "# Using a consolidated metadata file to rapidly access MUR SST v4.1\n",
    "\n",
    "The consolidated metadata file only has to be created once:\n",
    "Step 1 is [here](https://github.com/cgentemann/cloud_science/blob/master/zarr_meta/cloud_mur_v41-all-step1.ipynb)\n",
    "Step 2 is [here](https://github.com/cgentemann/cloud_science/blob/master/zarr_meta/cloud_mur_v41-all-step2.ipynb)\n",
    "\n",
    "NASA JPL PODAAC has put the entire [MUR SST](https://podaac.jpl.nasa.gov/dataset/MUR-JPL-L4-GLOB-v4.1) dataset on AWS cloud as individual netCDF files, **but all ~7000 of them are netCDF files.**\\ Accessing one file works well, but accessing multiple files is **very slow** because the metadata for each file has to be queried. Here, we create **fast access** by consolidating the metadata and accessing the entire dataset rapidly via zarr. More background on this project:\n",
    "[medium article](https://medium.com/pangeo/fake-it-until-you-make-it-reading-goes-netcdf4-data-on-aws-s3-as-zarr-for-rapid-data-access-61e33f8fe685) and in this [repo](https://github.com/lsterzinger/fsspec-reference-maker-tutorial). We need help developing documentation and more test datasets. If you want to help, we are working in the [Pangeo Gitter](https://gitter.im/pangeo-data/cloud-performant-netcdf4).\n",
    "\n",
    "\n",
    "To run this code:\n",
    "- you need to set up your `.netrc` file in your home directory with your earthdata login info\n",
    "\n",
    "\n",
    "Authors:\n",
    "- [Chelle Gentemann](https://github.com/cgentemann)\n",
    "- [Rich Signell](https://github.com/rsignell-usgs)\n",
    "- [Lucas Steringzer](https://github.com/lsterzinger/)\n",
    "- [Martin Durant](https://github.com/martindurant)\n",
    "\n",
    "Credit:\n",
    "- Funding: Interagency Implementation and Advanced Concepts Team [IMPACT](https://earthdata.nasa.gov/esds/impact) for the Earth Science Data Systems (ESDS) program\n",
    "- AWS Public Dataset [Program](https://registry.opendata.aws/mur/)\n",
    "- [QuanSight](https://www.quansight.com/) for creating Qhub, [ESIP Labs ](https://www.esipfed.org/lab) for deploying it, and [AWS Sustainablity](https://aws.amazon.com/government-education/sustainability-research-credits/) for funding it!"
   ]
  },
  {
   "cell_type": "code",
   "execution_count": null,
   "id": "34752a7c-2740-46cd-95b6-b07fa9e91377",
   "metadata": {},
   "outputs": [],
   "source": [
    "import s3fs\n",
    "import requests\n",
    "from urllib import request\n",
    "import xarray as xr\n",
    "import fsspec\n",
    "import hvplot.xarray"
   ]
  },
  {
   "cell_type": "code",
   "execution_count": null,
   "id": "fff14463-7107-46ef-b001-4408f9f47e52",
   "metadata": {},
   "outputs": [],
   "source": [
    "json_consolidated = 's3://esip-qhub-public/nasa/mur/murv41_consolidated_20211025.json'"
   ]
  },
  {
   "cell_type": "code",
   "execution_count": null,
   "id": "32fd64ed-08c8-4a2c-bbcd-5e577831aca2",
   "metadata": {},
   "outputs": [],
   "source": [
    "from earthdata import Auth #, DataColletions, DataGranules, Accessor\n",
    "auth = Auth().login()"
   ]
  },
  {
   "cell_type": "code",
   "execution_count": null,
   "id": "5d66a71e-1dd9-46dd-a480-735d6cd607c7",
   "metadata": {},
   "outputs": [],
   "source": [
    "def begin_s3_direct_access():\n",
    "    url=\"https://archive.podaac.earthdata.nasa.gov/s3credentials\"\n",
    "    response = requests.get(url).json()\n",
    "    return s3fs.S3FileSystem(key=response['accessKeyId'],\n",
    "                             secret=response['secretAccessKey'],\n",
    "                             token=response['sessionToken'],\n",
    "                             client_kwargs={'region_name':'us-west-2'})\n"
   ]
  },
  {
   "cell_type": "code",
   "execution_count": null,
   "id": "cef33bef-3750-4389-b3ce-0d6b0db933b6",
   "metadata": {},
   "outputs": [],
   "source": [
    "url=\"https://archive.podaac.earthdata.nasa.gov/s3credentials\"\n",
    "response = requests.get(url).json()"
   ]
  },
  {
   "cell_type": "markdown",
   "id": "7c08929b-7480-43a9-abe9-4f1f16de7259",
   "metadata": {},
   "source": [
    "- Consolidated metadata test (without simple_templates)"
   ]
  },
  {
   "cell_type": "code",
   "execution_count": null,
   "id": "80c12d78-839b-48ae-86c8-cc37da8c83ca",
   "metadata": {},
   "outputs": [],
   "source": [
    "%%time\n",
    "\n",
    "rpath = json_consolidated\n",
    "print(rpath)\n",
    "s_opts = {'requester_pays':True, 'skip_instance_cache':True}\n",
    "r_opts = {'key':response['accessKeyId'],\n",
    "          'secret':response['secretAccessKey'],\n",
    "          'token':response['sessionToken'],\n",
    "          'client_kwargs':{'region_name':'us-west-2'}}\n",
    "\n",
    "fs = fsspec.filesystem(\"reference\", \n",
    "                       fo=rpath, \n",
    "                       ref_storage_args=s_opts,\n",
    "                       remote_protocol='s3', \n",
    "                       remote_options=r_opts)#,simple_templates=True)\n",
    "m = fs.get_mapper(\"\")\n",
    "ds = xr.open_dataset(m, decode_times=False, engine=\"zarr\", consolidated=False)\n",
    "ds.close()\n",
    "ds"
   ]
  },
  {
   "cell_type": "code",
   "execution_count": null,
   "id": "c1bc7155-9d10-4595-a99b-62fbf39b28f0",
   "metadata": {},
   "outputs": [],
   "source": [
    "#test getting a random value\n",
    "ds['analysed_sst'].sel(time='2005-12-20 12:00', lat=0,lon=0,method='nearest')"
   ]
  },
  {
   "cell_type": "code",
   "execution_count": null,
   "id": "d426fde3-ebbf-45a9-b88f-230ff791717d",
   "metadata": {},
   "outputs": [],
   "source": [
    "%%time\n",
    "dy = ds['analysed_sst'].sel(time='2002-12-20', method='nearest')\n",
    "dy.hvplot.quadmesh(x='lon', y='lat', geo=True, rasterize=True, cmap='turbo' )"
   ]
  }
 ],
 "metadata": {
  "kernelspec": {
   "display_name": "Python [conda env:pangeo]",
   "language": "python",
   "name": "conda-env-pangeo-py"
  },
  "language_info": {
   "codemirror_mode": {
    "name": "ipython",
    "version": 3
   },
   "file_extension": ".py",
   "mimetype": "text/x-python",
   "name": "python",
   "nbconvert_exporter": "python",
   "pygments_lexer": "ipython3",
   "version": "3.9.7"
  }
 },
 "nbformat": 4,
 "nbformat_minor": 5
}
