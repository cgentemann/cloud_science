{
 "cells": [
  {
   "cell_type": "code",
   "execution_count": null,
   "id": "34752a7c-2740-46cd-95b6-b07fa9e91377",
   "metadata": {},
   "outputs": [],
   "source": [
    "import s3fs\n",
    "import requests\n",
    "from urllib import request\n",
    "from http.cookiejar import CookieJar\n",
    "import numpy as np\n",
    "import xarray as xr\n",
    "import matplotlib.pyplot as plt\n",
    "from json import dumps\n",
    "from io import StringIO\n",
    "from os.path import dirname, join\n",
    "import netrc\n",
    "\n",
    "import os\n",
    "import sys\n",
    "import fsspec\n",
    "import ujson   # fast json\n",
    "from fsspec_reference_maker.hdf import SingleHdf5ToZarr \n",
    "from fsspec_reference_maker.combine import MultiZarrToZarr\n",
    "import xarray as xr\n",
    "import dask\n",
    "import hvplot.xarray\n",
    "import fsspec_reference_maker\n",
    "fsspec_reference_maker.__version__"
   ]
  },
  {
   "cell_type": "code",
   "execution_count": null,
   "id": "fff14463-7107-46ef-b001-4408f9f47e52",
   "metadata": {},
   "outputs": [],
   "source": [
    "json_dir = 's3://esip-qhub/nasa/mur/jsons_all/'\n",
    "json_consolidated_dir = 's3://esip-qhub-public/nasa/mur/'\n",
    "json_out1 = 'murv41_consolidated_20211005.json'\n",
    "json_out = './../data/mur_consolidated_tem.json'"
   ]
  },
  {
   "cell_type": "code",
   "execution_count": null,
   "id": "5d66a71e-1dd9-46dd-a480-735d6cd607c7",
   "metadata": {},
   "outputs": [],
   "source": [
    "#########Setting up earthdata login credentials \n",
    "# this code is from https://github.com/podaac/tutorials/blob/master/notebooks/cloudwebinar/cloud_direct_access_s3.py\n",
    "def setup_earthdata_login_auth(endpoint):\n",
    "    \"\"\"\n",
    "    Set up the request library so that it authenticates against the given Earthdata Login\n",
    "    endpoint and is able to track cookies between requests.  This looks in the .netrc file \n",
    "    first and if no credentials are found, it prompts for them.\n",
    "    Valid endpoints:\n",
    "        urs.earthdata.nasa.gov - Earthdata Login production\n",
    "    \"\"\"\n",
    "    try:\n",
    "        username, _, password = netrc.netrc().authenticators(endpoint)\n",
    "    except (FileNotFoundError, TypeError):\n",
    "        # FileNotFound = There's no .netrc file\n",
    "        # TypeError = The endpoint isn't in the netrc file, causing the above to try unpacking None\n",
    "        print(\"There's no .netrc file or the The endpoint isn't in the netrc file\")\n",
    "\n",
    "    manager = request.HTTPPasswordMgrWithDefaultRealm()\n",
    "    manager.add_password(None, endpoint, username, password)\n",
    "    auth = request.HTTPBasicAuthHandler(manager)\n",
    "\n",
    "    jar = CookieJar()\n",
    "    processor = request.HTTPCookieProcessor(jar)\n",
    "    opener = request.build_opener(auth, processor)\n",
    "    request.install_opener(opener)\n",
    "\n",
    "###############################################################################\n",
    "edl=\"urs.earthdata.nasa.gov\"\n",
    "setup_earthdata_login_auth(edl)\n",
    "\n",
    "def begin_s3_direct_access():\n",
    "    url=\"https://archive.podaac.earthdata.nasa.gov/s3credentials\"\n",
    "    response = requests.get(url).json()\n",
    "    return s3fs.S3FileSystem(key=response['accessKeyId'],\n",
    "                             secret=response['secretAccessKey'],\n",
    "                             token=response['sessionToken'],\n",
    "                             client_kwargs={'region_name':'us-west-2'})\n"
   ]
  },
  {
   "cell_type": "code",
   "execution_count": null,
   "id": "72446cd4-84f7-4a5b-91ca-dc78e049ab7d",
   "metadata": {},
   "outputs": [],
   "source": [
    "fs2 = fsspec.filesystem('s3', anon=False)  \n",
    "rpath = json_consolidated_dir + json_out1"
   ]
  },
  {
   "cell_type": "code",
   "execution_count": null,
   "id": "cef33bef-3750-4389-b3ce-0d6b0db933b6",
   "metadata": {},
   "outputs": [],
   "source": [
    "url=\"https://archive.podaac.earthdata.nasa.gov/s3credentials\"\n",
    "response = requests.get(url).json()"
   ]
  },
  {
   "cell_type": "code",
   "execution_count": null,
   "id": "37b3049f-16df-4e7b-a240-822783926e29",
   "metadata": {},
   "outputs": [],
   "source": [
    "turl = json_dir+'20021201.20021201090000-JPL-L4_GHRSST-SSTfnd-MUR-GLOB-v02.0-fv04.1.nc.json'"
   ]
  },
  {
   "cell_type": "markdown",
   "id": "9b43e57a-a111-4ff5-b62d-88ce1908105d",
   "metadata": {},
   "source": [
    "- single file test"
   ]
  },
  {
   "cell_type": "code",
   "execution_count": null,
   "id": "9b9210e6-b019-4b8f-81be-716c3dd763c3",
   "metadata": {},
   "outputs": [],
   "source": [
    "%%time\n",
    "s_opts = {'requester_pays':True, 'skip_instance_cache':True}\n",
    "r_opts = {'key':response['accessKeyId'],\n",
    "          'secret':response['secretAccessKey'],\n",
    "          'token':response['sessionToken'],\n",
    "          'client_kwargs':{'region_name':'us-west-2'}\n",
    "         }\n",
    "\n",
    "fs = fsspec.filesystem(\"reference\", fo=turl, \n",
    "                       ref_storage_args=s_opts,\n",
    "                       remote_protocol='s3', \n",
    "                       remote_options=r_opts,\n",
    "                       simple_templates=True)\n",
    "m = fs.get_mapper(\"\")\n",
    "ds = xr.open_dataset(m, engine=\"zarr\", consolidated=False)\n",
    "ds"
   ]
  },
  {
   "cell_type": "markdown",
   "id": "7c08929b-7480-43a9-abe9-4f1f16de7259",
   "metadata": {},
   "source": [
    "- Consolidated metadata test (without simple_templates)"
   ]
  },
  {
   "cell_type": "code",
   "execution_count": null,
   "id": "80c12d78-839b-48ae-86c8-cc37da8c83ca",
   "metadata": {},
   "outputs": [],
   "source": [
    "%%time\n",
    "\n",
    "rpath = json_consolidated_dir + json_out1\n",
    "\n",
    "s_opts = {'requester_pays':True, 'skip_instance_cache':True}\n",
    "r_opts = {'key':response['accessKeyId'],\n",
    "          'secret':response['secretAccessKey'],\n",
    "          'token':response['sessionToken'],\n",
    "          'client_kwargs':{'region_name':'us-west-2'}}\n",
    "\n",
    "fs = fsspec.filesystem(\"reference\", \n",
    "                       fo=rpath, \n",
    "                       ref_storage_args=s_opts,\n",
    "                       remote_protocol='s3', \n",
    "                       remote_options=r_opts)#,simple_templates=True)\n",
    "m = fs.get_mapper(\"\")\n",
    "ds = xr.open_dataset(m, engine=\"zarr\", consolidated=False)\n",
    "ds"
   ]
  },
  {
   "cell_type": "code",
   "execution_count": null,
   "id": "d426fde3-ebbf-45a9-b88f-230ff791717d",
   "metadata": {},
   "outputs": [],
   "source": [
    "%%time\n",
    "\n",
    "rpath = json_consolidated_dir + json_out1\n",
    "\n",
    "s_opts = {'requester_pays':True, 'skip_instance_cache':True}\n",
    "r_opts = {'key':response['accessKeyId'],\n",
    "          'secret':response['secretAccessKey'],\n",
    "          'token':response['sessionToken'],\n",
    "          'client_kwargs':{'region_name':'us-west-2'}}\n",
    "\n",
    "fs = fsspec.filesystem(\"reference\", \n",
    "                       fo=rpath, \n",
    "                       ref_storage_args=s_opts,\n",
    "                       remote_protocol='s3', \n",
    "                       remote_options=r_opts\n",
    "                       ,simple_templates=True)\n",
    "m = fs.get_mapper(\"\")\n",
    "ds = xr.open_dataset(m, engine=\"zarr\", consolidated=False)\n",
    "ds"
   ]
  },
  {
   "cell_type": "code",
   "execution_count": null,
   "id": "f1602ac7-78f5-4c40-b65d-3a3d5113dfad",
   "metadata": {},
   "outputs": [],
   "source": []
  },
  {
   "cell_type": "code",
   "execution_count": null,
   "id": "0d34a340-f40d-434a-8ad0-d3aa718eb677",
   "metadata": {},
   "outputs": [],
   "source": []
  }
 ],
 "metadata": {
  "kernelspec": {
   "display_name": "Python [conda env:pangeo]",
   "language": "python",
   "name": "conda-env-pangeo-py"
  },
  "language_info": {
   "codemirror_mode": {
    "name": "ipython",
    "version": 3
   },
   "file_extension": ".py",
   "mimetype": "text/x-python",
   "name": "python",
   "nbconvert_exporter": "python",
   "pygments_lexer": "ipython3",
   "version": "3.9.7"
  }
 },
 "nbformat": 4,
 "nbformat_minor": 5
}
