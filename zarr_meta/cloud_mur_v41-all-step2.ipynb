{
 "cells": [
  {
   "cell_type": "markdown",
   "id": "c8fda77a-aa1c-4334-9e33-fedef0d4d3dc",
   "metadata": {},
   "source": [
    "# Creating consolidated metadata file for MUR SST\n",
    "\n",
    "# step 2 consolidate metadata\n",
    "\n",
    "Step 1: is [here](\n",
    "https://github.com/cgentemann/cloud_science/blob/master/zarr_meta/cloud_mur_v41-all-step1.ipynb)\n",
    "\n",
    "NASA JPL PODAAC has put the entire [MUR SST](https://podaac.jpl.nasa.gov/dataset/MUR-JPL-L4-GLOB-v4.1) dataset on AWS cloud as individual netCDF files, **but all ~7000 of them are netCDF files.**\\ Accessing one file works well, but accessing multiple files is **very slow** because the metadata for each file has to be queried. Here, we create **fast access** by consolidating the metadata and accessing the entire dataset rapidly via zarr. More background on this project:\n",
    "[medium article](https://medium.com/pangeo/fake-it-until-you-make-it-reading-goes-netcdf4-data-on-aws-s3-as-zarr-for-rapid-data-access-61e33f8fe685) and in this [repo](https://github.com/lsterzinger/fsspec-reference-maker-tutorial). We need help developing documentation and more test datasets. If you want to help, we are working in the [Pangeo Gitter](https://gitter.im/pangeo-data/cloud-performant-netcdf4).\n",
    "\n",
    "\n",
    "To run this code:\n",
    "- you need to set your AWS credentials up using `aws configure --profile esip-qhub`\n",
    "- you need to set up your `.netrc` file in your home directory with your earthdata login info\n",
    "\n",
    "\n",
    "Authors:\n",
    "- [Chelle Gentemann](https://github.com/cgentemann)\n",
    "- [Rich Signell](https://github.com/rsignell-usgs)\n",
    "- [Lucas Steringzer](https://github.com/lsterzinger/)\n",
    "- [Martin Durant](https://github.com/martindurant)\n",
    "\n",
    "Credit:\n",
    "- Funding: Interagency Implementation and Advanced Concepts Team [IMPACT](https://earthdata.nasa.gov/esds/impact) for the Earth Science Data Systems (ESDS) program and AWS Public Dataset Program\n",
    "- AWS Credit Program\n",
    "- ESIP Hub"
   ]
  },
  {
   "cell_type": "code",
   "execution_count": null,
   "id": "acknowledged-virgin",
   "metadata": {},
   "outputs": [],
   "source": [
    "import s3fs\n",
    "import requests\n",
    "from urllib import request\n",
    "from http.cookiejar import CookieJar\n",
    "import numpy as np\n",
    "import xarray as xr\n",
    "import matplotlib.pyplot as plt\n",
    "from json import dumps\n",
    "from io import StringIO\n",
    "from os.path import dirname, join\n",
    "import netrc\n",
    "import dask.bag as db\n",
    "\n",
    "import os\n",
    "import sys\n",
    "import fsspec\n",
    "import ujson   # fast json\n",
    "from fsspec_reference_maker.hdf import SingleHdf5ToZarr \n",
    "from fsspec_reference_maker.combine import MultiZarrToZarr\n",
    "import xarray as xr\n",
    "import dask\n",
    "from dask.distributed import Client\n",
    "import hvplot.xarray\n",
    "import tempfile\n",
    "\n"
   ]
  },
  {
   "cell_type": "code",
   "execution_count": null,
   "id": "personal-exposure",
   "metadata": {},
   "outputs": [],
   "source": [
    "import fsspec_reference_maker\n",
    "fsspec_reference_maker.__version__"
   ]
  },
  {
   "cell_type": "markdown",
   "id": "6fb21a74-8ca4-42ed-8f0e-97c881f3f4a5",
   "metadata": {},
   "source": [
    "- output file locations"
   ]
  },
  {
   "cell_type": "code",
   "execution_count": null,
   "id": "bf2ae004-5f33-41c6-98d5-461a8b1e74fa",
   "metadata": {},
   "outputs": [],
   "source": [
    "json_dir = 's3://esip-qhub/nasa/mur/jsons_all/'\n",
    "json_consolidated_dir = 's3://esip-qhub-public/nasa/mur/'\n",
    "json_out1 = 'murv41_consolidated_20211011.json'\n",
    "json_out = './../data/mur_consolidated_tem.json'"
   ]
  },
  {
   "cell_type": "markdown",
   "id": "secondary-philip",
   "metadata": {},
   "source": [
    "## set up earthdata login credentials\n",
    "- code for setting up earthdata_login from [here](https://github.com/podaac/tutorials/blob/master/notebooks/cloudwebinar/cloud_direct_access_s3.py)\n",
    "- for the earthdata login to work you need to create a .netrc file on your home directory\n",
    "- .netrc file contains:\\\n",
    "machine urs.earthdata.nasa.gov\\\n",
    "login 'earthdata username'\\\n",
    "password 'password'"
   ]
  },
  {
   "cell_type": "code",
   "execution_count": null,
   "id": "82eea16b-d7fc-4076-adef-9e286cc788b0",
   "metadata": {},
   "outputs": [],
   "source": [
    "sys.path.append(os.path.join(os.environ['HOME'],'shared','users','lib'))\n",
    "import ebdpy as ebd\n",
    "\n",
    "ebd.set_credentials(profile='esip-qhub')\n",
    "\n",
    "profile = 'esip-qhub'\n",
    "region = 'us-west-2'\n",
    "endpoint = f's3.{region}.amazonaws.com'\n",
    "ebd.set_credentials(profile=profile, region=region, endpoint=endpoint)\n",
    "worker_max = 30\n",
    "client,cluster = ebd.start_dask_cluster(profile=profile,worker_max=worker_max, \n",
    "                                      region=region, use_existing_cluster=True,\n",
    "                                      adaptive_scaling=False, wait_for_cluster=False, \n",
    "                                      environment='pangeo', worker_profile='Medium Worker', \n",
    "                                      propagate_env=True)"
   ]
  },
  {
   "cell_type": "markdown",
   "id": "b96b3a17-4865-4236-a78b-0328eafc9535",
   "metadata": {},
   "source": [
    "- Create list of all the individual files"
   ]
  },
  {
   "cell_type": "code",
   "execution_count": null,
   "id": "limiting-hotel",
   "metadata": {
    "tags": []
   },
   "outputs": [],
   "source": [
    "fs2 = fsspec.filesystem('s3', anon=False)  \n",
    "flist2 = fs2.ls(json_dir)\n",
    "furls = sorted(['s3://'+f for f in flist2])\n",
    "print(len(furls))\n",
    "furls[0]"
   ]
  },
  {
   "cell_type": "markdown",
   "id": "0399309a-de2d-46ae-8aed-f019b79bcc09",
   "metadata": {},
   "source": [
    "# trying lucas's dask bag here"
   ]
  },
  {
   "cell_type": "code",
   "execution_count": null,
   "id": "8143778d-6591-4fb2-8288-c7c5d82633d6",
   "metadata": {},
   "outputs": [],
   "source": [
    "def preprocess(ds):\n",
    "    ds.time.attrs['_FillValue']=0\n",
    "    return ds  \n",
    "    \n",
    "def gen_reference(furls):  \n",
    "    arg_dict = {\n",
    "        'decode_cf' : False,\n",
    "        'mask_and_scale' : False,\n",
    "        'decode_times' : False,\n",
    "        'use_cftime' : False,\n",
    "        'drop_variables': ['dt_1km_data','sst_anomaly'],\n",
    "        'decode_coords' : False\n",
    "    }\n",
    "    concat_dict = {\n",
    "        \"join\": \"override\",\n",
    "        \"combine_attrs\": \"override\",\n",
    "        \"dim\": \"time\"\n",
    "    }\n",
    "    mzz = MultiZarrToZarr(\n",
    "    furls,\n",
    "    remote_protocol=\"s3\",\n",
    "    remote_options={'anon':True},\n",
    "    xarray_open_kwargs=arg_dict,\n",
    "    xarray_concat_args=concat_dict,\n",
    "    preprocess=preprocess\n",
    "    )\n",
    "    return [mzz.translate(template_count=None)]"
   ]
  },
  {
   "cell_type": "code",
   "execution_count": null,
   "id": "323b9228-3547-4a05-bc73-c32cff011d8b",
   "metadata": {},
   "outputs": [],
   "source": [
    "#from_sequence: create a dask bag using the list of urls \n",
    "# and tell it how many partitions to create within that list\n",
    "#map_partititions: Apply a function to every partition across one or more bags.\n",
    "\n",
    "#test here with first 1000\n",
    "#b = db.from_sequence(furls[:1000], npartitions=10).map_partitions(gen_reference)\n",
    "#run all\n",
    "b = db.from_sequence(furls, npartitions=100).map_partitions(gen_reference)"
   ]
  },
  {
   "cell_type": "code",
   "execution_count": null,
   "id": "bbd09ae1-1c44-4943-9257-9b97b5428173",
   "metadata": {},
   "outputs": [],
   "source": [
    "#run\n",
    "out = b.compute(retries=10)\n",
    "print(len(out),'this should == npartitions above')"
   ]
  },
  {
   "cell_type": "code",
   "execution_count": null,
   "id": "4af9161e-8aeb-4058-bef4-4073f386bbae",
   "metadata": {},
   "outputs": [],
   "source": [
    "# debug\n",
    "#import logging\n",
    "#logging.basicConfig(level=logging.DEBUG)\n",
    "def preprocess(ds):\n",
    "    ds.time.attrs['_FillValue']=0\n",
    "    return ds  \n",
    "\n",
    "# now combine 20 \n",
    "arg_dict = {\n",
    "    'decode_cf' : False,\n",
    "    'mask_and_scale' : False,\n",
    "    'decode_times' : False,\n",
    "    'use_cftime' : False,\n",
    "    'drop_variables': ['dt_1km_data', 'sst_anomaly'],\n",
    "    'decode_coords' : False\n",
    "}\n",
    "concat_dict = {\n",
    "    \"join\": \"override\",\n",
    "    \"combine_attrs\": \"override\",\n",
    "    \"dim\": \"time\"\n",
    "}\n",
    "mzz = MultiZarrToZarr(\n",
    "    out,\n",
    "    remote_protocol=\"s3\",\n",
    "    remote_options={'anon':True},\n",
    "    xarray_open_kwargs=arg_dict,\n",
    "    xarray_concat_args=concat_dict,\n",
    "    preprocess=preprocess\n",
    ")\n",
    "\n",
    "mzz.translate(json_out, template_count=None)\n"
   ]
  },
  {
   "cell_type": "code",
   "execution_count": null,
   "id": "cdd93f08-4ca0-46e5-be6e-ac2185d89b4a",
   "metadata": {},
   "outputs": [],
   "source": [
    "rpath = json_consolidated_dir + json_out1\n",
    "fs2.put_file(lpath=json_out, rpath=rpath)    "
   ]
  },
  {
   "cell_type": "code",
   "execution_count": null,
   "id": "057a07dc-8ff5-4d08-94d6-92a5fac055f5",
   "metadata": {},
   "outputs": [],
   "source": [
    "client.close(); cluster.close()"
   ]
  },
  {
   "cell_type": "code",
   "execution_count": null,
   "id": "2d37ce2d-1c97-4478-9514-7a89156b4db3",
   "metadata": {},
   "outputs": [],
   "source": []
  },
  {
   "cell_type": "markdown",
   "id": "e94a9f7b-d247-4eaa-957e-85eb15dddaf1",
   "metadata": {},
   "source": [
    "# STOP HERE RUN ALL ABOVE"
   ]
  },
  {
   "cell_type": "code",
   "execution_count": null,
   "id": "4857d419-9edf-4d3f-b6cf-89bd1dc9c516",
   "metadata": {},
   "outputs": [],
   "source": [
    "out[0]['refs']"
   ]
  },
  {
   "cell_type": "code",
   "execution_count": null,
   "id": "798b1d27-0b70-431f-bab4-69cf61291cf1",
   "metadata": {},
   "outputs": [],
   "source": [
    "out[0]['refs']['time/.zarray']"
   ]
  },
  {
   "cell_type": "code",
   "execution_count": null,
   "id": "c138a859-c14b-446c-b4ac-a34c889e6fc9",
   "metadata": {},
   "outputs": [],
   "source": [
    "fll = fs2.ls('s3://esip-qhub-public/nasa/mur/',detail=True)\n",
    "for i in range(len(fll)):\n",
    "    print(fll[i])"
   ]
  },
  {
   "cell_type": "code",
   "execution_count": null,
   "id": "511af72e-543c-4a05-8965-f5aa4486ae20",
   "metadata": {},
   "outputs": [],
   "source": []
  }
 ],
 "metadata": {
  "kernelspec": {
   "display_name": "Python [conda env:pangeo]",
   "language": "python",
   "name": "conda-env-pangeo-py"
  },
  "language_info": {
   "codemirror_mode": {
    "name": "ipython",
    "version": 3
   },
   "file_extension": ".py",
   "mimetype": "text/x-python",
   "name": "python",
   "nbconvert_exporter": "python",
   "pygments_lexer": "ipython3",
   "version": "3.9.7"
  },
  "widgets": {
   "application/vnd.jupyter.widget-state+json": {
    "state": {},
    "version_major": 2,
    "version_minor": 0
   }
  }
 },
 "nbformat": 4,
 "nbformat_minor": 5
}
